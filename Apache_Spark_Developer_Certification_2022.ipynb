{
  "nbformat": 4,
  "nbformat_minor": 0,
  "metadata": {
    "colab": {
      "name": "Apache Spark Developer Certification - 2022.ipynb",
      "provenance": [],
      "collapsed_sections": [
        "w0EBDbNkROT5",
        "qMdp7UVWTF8A",
        "rrWLtjwWgi_u",
        "nP3X3nasiner",
        "jsZ-MNtfpF0g",
        "fBT_nTbXs5Mn",
        "5HWZeqSzFRMv",
        "-2qYriXzHWdB",
        "h7d9CuP4MOQO",
        "US-UV5NcWg2t",
        "pXtXzrRi5jHX",
        "PZMdyHs1H60B",
        "8-gntdVOKfYg",
        "9BpxVXIGVLW_",
        "8J19gjG4cLaB",
        "0oO0pSI5d-cg",
        "B3TbDwzGh-Db",
        "77j6UAO4sK0H",
        "wi_g2-FnDUGY",
        "7KNo15nLjxt3",
        "XZCbw4ycqEsB",
        "46bJXYS2wlqV",
        "oD5M8Ne9DeWn",
        "SApTKuSoJkPP",
        "PNCIms9GPoDq",
        "7dMARZfGS5Zu",
        "Kdi6Uckad72S",
        "fqQiFQkT5fQC",
        "RRPC2M38LuVc",
        "e5k4_QOUXIOY",
        "14w3dHygW69b",
        "lJQ2kcVhYAh6",
        "hSEg83FeZYz7",
        "my7zSp-3bElx",
        "tDHkZHVcbUNu",
        "VTz2PCfrhsQq",
        "yR5Pm__foEfe",
        "Q-FrLw9ojakM",
        "Ynf2YgHnTxnk",
        "uS4iLRCuiIh8",
        "pHhdtrD1DWpE",
        "_HkukrAQPHfL",
        "LqvHfPXVksw1",
        "FzsDJ7sKJiR_",
        "fZBbrXiG20cG",
        "7Rj5IaBH8TIH",
        "pBqcyHaPBkVu",
        "24_ylAi9bb4f",
        "ygMOf1xLteA8",
        "vWVrBo2hL8ES",
        "UjqYAXAaPpIr",
        "VeOI9-SwHo3d",
        "9P15H3fhVrYe",
        "WQtpPx-rZMim"
      ]
    },
    "kernelspec": {
      "name": "python3",
      "display_name": "Python 3"
    },
    "language_info": {
      "name": "python"
    }
  },
  "cells": [
    {
      "cell_type": "code",
      "metadata": {
        "id": "48oytiZbA05Z"
      },
      "source": [
        "from bs4 import BeautifulSoup\n",
        "import requests\n",
        "import os\n",
        "import datetime\n",
        "import pandas as pd"
      ],
      "execution_count": 10,
      "outputs": []
    },
    {
      "cell_type": "code",
      "metadata": {
        "id": "08DYwFjIAd9c"
      },
      "source": [
        "# Instalación de Java\n",
        "!apt-get install openjdk-8-jdk-headless -qq > /dev/null"
      ],
      "execution_count": 2,
      "outputs": []
    },
    {
      "cell_type": "code",
      "metadata": {
        "id": "YQGh2qwzBC1X"
      },
      "source": [
        "#Obtener las versiones de spark la pagina web\n",
        "url = 'https://downloads.apache.org/spark/' \n",
        "r = requests.get(url)\n",
        "html_doc = r.text\n",
        "soup = BeautifulSoup(html_doc)"
      ],
      "execution_count": 3,
      "outputs": []
    },
    {
      "cell_type": "code",
      "metadata": {
        "colab": {
          "base_uri": "https://localhost:8080/"
        },
        "id": "hbIFT5f6BFBL",
        "outputId": "734b6257-caf3-4482-a0f7-41645bba8a2e"
      },
      "source": [
        "# read the web page and get the lastest versions available\n",
        "link_files = []\n",
        "for link in soup.find_all('a'):\n",
        "  link_files.append(link.get('href'))\n",
        "spark_link = [x for x in link_files if 'spark' in x]  \n",
        "ver_spark = spark_link[1][:-1] # get lastest versions of pyspark and drop remove '/' from the string\n",
        "print(ver_spark)"
      ],
      "execution_count": 4,
      "outputs": [
        {
          "output_type": "stream",
          "name": "stdout",
          "text": [
            "spark-3.0.3\n"
          ]
        }
      ]
    },
    {
      "cell_type": "code",
      "metadata": {
        "id": "AfD_goB9BP1k"
      },
      "source": [
        "# intall the wanted version\n",
        "!wget -q https://downloads.apache.org/spark/spark-3.0.3/spark-3.0.3-bin-hadoop2.7.tgz\n",
        "!tar xf spark-3.0.3-bin-hadoop2.7.tgz\n",
        "!pip install -q findspark"
      ],
      "execution_count": 5,
      "outputs": []
    },
    {
      "cell_type": "code",
      "metadata": {
        "id": "swJEAotCBXTB"
      },
      "source": [
        "# Set the proper enviroment\n",
        "os.environ[\"JAVA_HOME\"] = \"/usr/lib/jvm/java-8-openjdk-amd64\"\n",
        "os.environ[\"SPARK_HOME\"] = \"/content/spark-3.0.3-bin-hadoop2.7\""
      ],
      "execution_count": 6,
      "outputs": []
    },
    {
      "cell_type": "code",
      "metadata": {
        "id": "N4b3gZfDBcxt"
      },
      "source": [
        "# import libraries\n",
        "import findspark\n",
        "from datetime import datetime\n",
        "findspark.init()"
      ],
      "execution_count": 7,
      "outputs": []
    },
    {
      "cell_type": "code",
      "metadata": {
        "id": "1kqgRJY-dW6s"
      },
      "source": [
        "from pyspark.sql import SparkSession, Window, Row\n",
        "from pyspark.sql.types import *\n",
        "from pyspark.sql.functions import *"
      ],
      "execution_count": 8,
      "outputs": []
    },
    {
      "cell_type": "code",
      "metadata": {
        "colab": {
          "base_uri": "https://localhost:8080/",
          "height": 219
        },
        "id": "9G2TJuT9GbcX",
        "outputId": "391ecf2c-83d0-41d9-bf84-6028d0b1ed8a"
      },
      "source": [
        "spark = SparkSession.builder.master(\"local[*]\").getOrCreate()\n",
        "spark"
      ],
      "execution_count": 9,
      "outputs": [
        {
          "output_type": "execute_result",
          "data": {
            "text/plain": [
              "<pyspark.sql.session.SparkSession at 0x7fdb8806a750>"
            ],
            "text/html": [
              "\n",
              "            <div>\n",
              "                <p><b>SparkSession - in-memory</b></p>\n",
              "                \n",
              "        <div>\n",
              "            <p><b>SparkContext</b></p>\n",
              "\n",
              "            <p><a href=\"http://3d25897cca97:4040\">Spark UI</a></p>\n",
              "\n",
              "            <dl>\n",
              "              <dt>Version</dt>\n",
              "                <dd><code>v3.0.3</code></dd>\n",
              "              <dt>Master</dt>\n",
              "                <dd><code>local[*]</code></dd>\n",
              "              <dt>AppName</dt>\n",
              "                <dd><code>pyspark-shell</code></dd>\n",
              "            </dl>\n",
              "        </div>\n",
              "        \n",
              "            </div>\n",
              "        "
            ]
          },
          "metadata": {},
          "execution_count": 9
        }
      ]
    },
    {
      "cell_type": "markdown",
      "source": [
        "##### Create single column df using list"
      ],
      "metadata": {
        "id": "w0EBDbNkROT5"
      }
    },
    {
      "cell_type": "code",
      "source": [
        "age_list = [21, 23, 18, 41, 32]"
      ],
      "metadata": {
        "id": "2cAJN3Ac6N4G"
      },
      "execution_count": 11,
      "outputs": []
    },
    {
      "cell_type": "code",
      "source": [
        "spark.createDataFrame(age_list, schema=IntegerType())"
      ],
      "metadata": {
        "colab": {
          "base_uri": "https://localhost:8080/"
        },
        "id": "VEWAkifnRkc3",
        "outputId": "c11c842d-3014-4f51-ee47-325cf85b97e8"
      },
      "execution_count": 12,
      "outputs": [
        {
          "output_type": "execute_result",
          "data": {
            "text/plain": [
              "DataFrame[value: int]"
            ]
          },
          "metadata": {},
          "execution_count": 12
        }
      ]
    },
    {
      "cell_type": "code",
      "source": [
        "names_list = ['Scott', 'Donald', 'Mickey']"
      ],
      "metadata": {
        "id": "0qRiiC8oSdA4"
      },
      "execution_count": 13,
      "outputs": []
    },
    {
      "cell_type": "code",
      "source": [
        "spark.createDataFrame(names_list, StringType())"
      ],
      "metadata": {
        "colab": {
          "base_uri": "https://localhost:8080/"
        },
        "id": "rI3g-rwUSANF",
        "outputId": "faa221cb-7298-4aec-a687-03bfe16863db"
      },
      "execution_count": 14,
      "outputs": [
        {
          "output_type": "execute_result",
          "data": {
            "text/plain": [
              "DataFrame[value: string]"
            ]
          },
          "metadata": {},
          "execution_count": 14
        }
      ]
    },
    {
      "cell_type": "markdown",
      "source": [
        "##### Create multiple column df using lists"
      ],
      "metadata": {
        "id": "qMdp7UVWTF8A"
      }
    },
    {
      "cell_type": "code",
      "source": [
        "age_list = [(21, ), (23, ), (18, ), (41, ), (32, )]"
      ],
      "metadata": {
        "id": "icEISutbSc-I"
      },
      "execution_count": 15,
      "outputs": []
    },
    {
      "cell_type": "code",
      "source": [
        "spark.createDataFrame(age_list, 'age int').show()"
      ],
      "metadata": {
        "colab": {
          "base_uri": "https://localhost:8080/"
        },
        "id": "W3RmDkouSc7G",
        "outputId": "a485a161-344c-45a8-a454-709f02b41281"
      },
      "execution_count": 16,
      "outputs": [
        {
          "output_type": "stream",
          "name": "stdout",
          "text": [
            "+---+\n",
            "|age|\n",
            "+---+\n",
            "| 21|\n",
            "| 23|\n",
            "| 18|\n",
            "| 41|\n",
            "| 32|\n",
            "+---+\n",
            "\n"
          ]
        }
      ]
    },
    {
      "cell_type": "code",
      "source": [
        "user_list = [(1, 'Scott'), (2, 'Donald'), (3, 'Mickey'), (4, 'Elvis')]"
      ],
      "metadata": {
        "id": "QqyFO40LT73g"
      },
      "execution_count": 17,
      "outputs": []
    },
    {
      "cell_type": "code",
      "source": [
        "df = spark.createDataFrame(user_list, 'user_id int, user_first_name string')"
      ],
      "metadata": {
        "id": "Fei_qya9T76C"
      },
      "execution_count": 18,
      "outputs": []
    },
    {
      "cell_type": "code",
      "source": [
        "df.printSchema()"
      ],
      "metadata": {
        "colab": {
          "base_uri": "https://localhost:8080/"
        },
        "id": "UijxMCksScv_",
        "outputId": "4d61b400-0106-4134-e72a-43356a173254"
      },
      "execution_count": 19,
      "outputs": [
        {
          "output_type": "stream",
          "name": "stdout",
          "text": [
            "root\n",
            " |-- user_id: integer (nullable = true)\n",
            " |-- user_first_name: string (nullable = true)\n",
            "\n"
          ]
        }
      ]
    },
    {
      "cell_type": "code",
      "source": [
        "df.show()"
      ],
      "metadata": {
        "colab": {
          "base_uri": "https://localhost:8080/"
        },
        "id": "ySBj43yGVFIS",
        "outputId": "e4fb5c81-876b-4c40-c30a-1553bd854d11"
      },
      "execution_count": 20,
      "outputs": [
        {
          "output_type": "stream",
          "name": "stdout",
          "text": [
            "+-------+---------------+\n",
            "|user_id|user_first_name|\n",
            "+-------+---------------+\n",
            "|      1|          Scott|\n",
            "|      2|         Donald|\n",
            "|      3|         Mickey|\n",
            "|      4|          Elvis|\n",
            "+-------+---------------+\n",
            "\n"
          ]
        }
      ]
    },
    {
      "cell_type": "markdown",
      "source": [
        "##### Convert list of dicts into Spark dataframe using Row"
      ],
      "metadata": {
        "id": "rrWLtjwWgi_u"
      }
    },
    {
      "cell_type": "code",
      "source": [
        "user_list_dict = [{'user_id':1, 'user_name':'Scott'}, \n",
        "                  {'user_id':2, 'user_name':'Donald'}, \n",
        "                  {'user_id':3, 'user_name':'Mickey'}, \n",
        "                  {'user_id':4, 'user_name':'Elvis'}]"
      ],
      "metadata": {
        "id": "SFRiEDVaVJ9R"
      },
      "execution_count": 21,
      "outputs": []
    },
    {
      "cell_type": "code",
      "source": [
        "df_dict = spark.createDataFrame(user_list_dict)"
      ],
      "metadata": {
        "colab": {
          "base_uri": "https://localhost:8080/"
        },
        "id": "fKzFCF3aVJ6Z",
        "outputId": "445fd097-3be6-4b72-b35a-617ca10769dd"
      },
      "execution_count": 22,
      "outputs": [
        {
          "output_type": "stream",
          "name": "stderr",
          "text": [
            "/content/spark-3.0.3-bin-hadoop2.7/python/pyspark/sql/session.py:381: UserWarning: inferring schema from dict is deprecated,please use pyspark.sql.Row instead\n",
            "  warnings.warn(\"inferring schema from dict is deprecated,\"\n"
          ]
        }
      ]
    },
    {
      "cell_type": "code",
      "source": [
        "user_list_dict_2 = [Row(*i.values()) for i in user_list_dict]"
      ],
      "metadata": {
        "id": "WarcmW4LVJ3u"
      },
      "execution_count": 23,
      "outputs": []
    },
    {
      "cell_type": "code",
      "source": [
        "df_dict_2 = spark.createDataFrame(user_list_dict_2, 'user_id int, user_name string')"
      ],
      "metadata": {
        "id": "9cezG88RhOqm"
      },
      "execution_count": 24,
      "outputs": []
    },
    {
      "cell_type": "code",
      "source": [
        "df_dict_2.printSchema()"
      ],
      "metadata": {
        "colab": {
          "base_uri": "https://localhost:8080/"
        },
        "id": "JNhVmiiwhOoz",
        "outputId": "58ee83fd-4a6b-4e30-cbfc-247dd91f2c70"
      },
      "execution_count": 25,
      "outputs": [
        {
          "output_type": "stream",
          "name": "stdout",
          "text": [
            "root\n",
            " |-- user_id: integer (nullable = true)\n",
            " |-- user_name: string (nullable = true)\n",
            "\n"
          ]
        }
      ]
    },
    {
      "cell_type": "code",
      "source": [
        "user_list_dict_3 = [Row(**i) for i in user_list_dict]"
      ],
      "metadata": {
        "id": "kbr4vruMiqUj"
      },
      "execution_count": 26,
      "outputs": []
    },
    {
      "cell_type": "code",
      "source": [
        "df_dict_3 = spark.createDataFrame(user_list_dict_2, 'user_id int, user_name string')"
      ],
      "metadata": {
        "id": "vxOFSOzHiqO8"
      },
      "execution_count": 27,
      "outputs": []
    },
    {
      "cell_type": "code",
      "source": [
        "df_dict_3.printSchema()"
      ],
      "metadata": {
        "colab": {
          "base_uri": "https://localhost:8080/"
        },
        "id": "YOkW67IzjmXe",
        "outputId": "37739638-d7f1-4692-d11f-6ee3d8836a9d"
      },
      "execution_count": 28,
      "outputs": [
        {
          "output_type": "stream",
          "name": "stdout",
          "text": [
            "root\n",
            " |-- user_id: integer (nullable = true)\n",
            " |-- user_name: string (nullable = true)\n",
            "\n"
          ]
        }
      ]
    },
    {
      "cell_type": "markdown",
      "source": [
        "##### Overview basic data types"
      ],
      "metadata": {
        "id": "nP3X3nasiner"
      }
    },
    {
      "cell_type": "code",
      "source": [
        "user = [\n",
        "        {'id':1,\n",
        "         'first_name':'Matias',\n",
        "         'last_name':'Dibo',\n",
        "         'email':'cvmdibo@email.com',\n",
        "         'is_customer':True,\n",
        "         'amount_paid':1000.0,\n",
        "         'customer_from':datetime.datetime(2021,1,25),\n",
        "         'last_updated_ts':datetime.datetime(2021,12,3)},\n",
        "        \n",
        "        {'id':2,\n",
        "         'first_name':'Juan',\n",
        "         'last_name':'Estevanez',\n",
        "         'email':'cvjestevanez@email.com',\n",
        "         'is_customer':True,\n",
        "         'amount_paid':152.5,\n",
        "         'customer_from':datetime.datetime(2020,6,12),\n",
        "         'last_updated_ts':datetime.datetime(2022,1,4)}\n",
        "]"
      ],
      "metadata": {
        "id": "tMDkPsNTim60"
      },
      "execution_count": 29,
      "outputs": []
    },
    {
      "cell_type": "code",
      "source": [
        "users_df = spark.createDataFrame([Row(**i) for i in user])"
      ],
      "metadata": {
        "id": "9boJJTRZim0U"
      },
      "execution_count": 30,
      "outputs": []
    },
    {
      "cell_type": "code",
      "source": [
        "users_df.printSchema()"
      ],
      "metadata": {
        "colab": {
          "base_uri": "https://localhost:8080/"
        },
        "id": "pC_lkmGximxa",
        "outputId": "fdb980ee-4c83-4b33-875c-5a26916d6bda"
      },
      "execution_count": 31,
      "outputs": [
        {
          "output_type": "stream",
          "name": "stdout",
          "text": [
            "root\n",
            " |-- id: long (nullable = true)\n",
            " |-- first_name: string (nullable = true)\n",
            " |-- last_name: string (nullable = true)\n",
            " |-- email: string (nullable = true)\n",
            " |-- is_customer: boolean (nullable = true)\n",
            " |-- amount_paid: double (nullable = true)\n",
            " |-- customer_from: timestamp (nullable = true)\n",
            " |-- last_updated_ts: timestamp (nullable = true)\n",
            "\n"
          ]
        }
      ]
    },
    {
      "cell_type": "code",
      "source": [
        "users_df.show()"
      ],
      "metadata": {
        "colab": {
          "base_uri": "https://localhost:8080/"
        },
        "id": "l5BnmAhjom9c",
        "outputId": "89e05748-65b8-4933-ca5c-d225732ba5c8"
      },
      "execution_count": 32,
      "outputs": [
        {
          "output_type": "stream",
          "name": "stdout",
          "text": [
            "+---+----------+---------+--------------------+-----------+-----------+-------------------+-------------------+\n",
            "| id|first_name|last_name|               email|is_customer|amount_paid|      customer_from|    last_updated_ts|\n",
            "+---+----------+---------+--------------------+-----------+-----------+-------------------+-------------------+\n",
            "|  1|    Matias|     Dibo|   cvmdibo@email.com|       true|     1000.0|2021-01-25 00:00:00|2021-12-03 00:00:00|\n",
            "|  2|      Juan|Estevanez|cvjestevanez@emai...|       true|      152.5|2020-06-12 00:00:00|2022-01-04 00:00:00|\n",
            "+---+----------+---------+--------------------+-----------+-----------+-------------------+-------------------+\n",
            "\n"
          ]
        }
      ]
    },
    {
      "cell_type": "markdown",
      "source": [
        "##### Specifying schema for Spark Dataframe using String"
      ],
      "metadata": {
        "id": "jsZ-MNtfpF0g"
      }
    },
    {
      "cell_type": "code",
      "source": [
        "user_2 = [\n",
        "        (1,\n",
        "         'Matias',\n",
        "         'Dibo',\n",
        "         'cvmdibo@email.com',\n",
        "         True,\n",
        "         1000.0,\n",
        "         datetime.datetime(2021,1,25),\n",
        "         datetime.datetime(2021,12,3)) ,\n",
        "        \n",
        "        (2,\n",
        "         'Juan',\n",
        "         'Estevanez',\n",
        "         'cvjestevanez@email.com',\n",
        "         True,\n",
        "         152.5,\n",
        "         datetime.datetime(2020,6,12),\n",
        "         datetime.datetime(2022,1,4)) ,\n",
        "        \n",
        "        (3,\n",
        "         'Alejandra',\n",
        "         'Funes',\n",
        "         'cvafunes@email.com',\n",
        "         False,\n",
        "         None,\n",
        "         None,\n",
        "         datetime.datetime(2022,3,31))\n",
        "]"
      ],
      "metadata": {
        "id": "nScf6eUHom24"
      },
      "execution_count": 33,
      "outputs": []
    },
    {
      "cell_type": "code",
      "source": [
        "user_2_schema = '''\n",
        "  id INT,\n",
        "  first_name STRING,\n",
        "  last_name STRING,\n",
        "  email STRING,\n",
        "  is_customer BOOLEAN,\n",
        "  amount_paid DOUBLE,\n",
        "  customer_from DATE,\n",
        "  last_updated_ts DATE\n",
        "'''"
      ],
      "metadata": {
        "id": "FcUV-0Thomzh"
      },
      "execution_count": 34,
      "outputs": []
    },
    {
      "cell_type": "code",
      "source": [
        "users_df_2 = spark.createDataFrame(user_2, schema = user_2_schema)\n",
        "\n",
        "users_df_2"
      ],
      "metadata": {
        "colab": {
          "base_uri": "https://localhost:8080/"
        },
        "id": "9jP9wNGyhOlM",
        "outputId": "c4390cd2-e828-4bce-eb17-415a716bc5fe"
      },
      "execution_count": 35,
      "outputs": [
        {
          "output_type": "execute_result",
          "data": {
            "text/plain": [
              "DataFrame[id: int, first_name: string, last_name: string, email: string, is_customer: boolean, amount_paid: double, customer_from: date, last_updated_ts: date]"
            ]
          },
          "metadata": {},
          "execution_count": 35
        }
      ]
    },
    {
      "cell_type": "code",
      "source": [
        "users_df_2.show(truncate=False)"
      ],
      "metadata": {
        "colab": {
          "base_uri": "https://localhost:8080/"
        },
        "id": "hUKxsAnzhOic",
        "outputId": "e27b6041-980d-4493-e5f0-5568ffa96616"
      },
      "execution_count": 36,
      "outputs": [
        {
          "output_type": "stream",
          "name": "stdout",
          "text": [
            "+---+----------+---------+----------------------+-----------+-----------+-------------+---------------+\n",
            "|id |first_name|last_name|email                 |is_customer|amount_paid|customer_from|last_updated_ts|\n",
            "+---+----------+---------+----------------------+-----------+-----------+-------------+---------------+\n",
            "|1  |Matias    |Dibo     |cvmdibo@email.com     |true       |1000.0     |2021-01-25   |2021-12-03     |\n",
            "|2  |Juan      |Estevanez|cvjestevanez@email.com|true       |152.5      |2020-06-12   |2022-01-04     |\n",
            "|3  |Alejandra |Funes    |cvafunes@email.com    |false      |null       |null         |2022-03-31     |\n",
            "+---+----------+---------+----------------------+-----------+-----------+-------------+---------------+\n",
            "\n"
          ]
        }
      ]
    },
    {
      "cell_type": "markdown",
      "source": [
        "##### Specifying schema using Spark Types"
      ],
      "metadata": {
        "id": "fBT_nTbXs5Mn"
      }
    },
    {
      "cell_type": "code",
      "source": [
        "user_3_schema = StructType([\n",
        "                           StructField('id', IntegerType()),\n",
        "                           StructField('first_name', StringType()),\n",
        "                           StructField('last_name', StringType()),\n",
        "                           StructField('email', StringType()),\n",
        "                           StructField('is_customer', BooleanType()),\n",
        "                           StructField('amount_paid', DoubleType()),\n",
        "                           StructField('customer_from', DateType()),\n",
        "                           StructField('last_updated_ts', TimestampType())\n",
        "])"
      ],
      "metadata": {
        "id": "iUjrx_pptGLu"
      },
      "execution_count": 37,
      "outputs": []
    },
    {
      "cell_type": "code",
      "source": [
        "users_df_3 = spark.createDataFrame(user_2, schema = user_3_schema)\n",
        "\n",
        "users_df_3"
      ],
      "metadata": {
        "colab": {
          "base_uri": "https://localhost:8080/"
        },
        "id": "Sr9KjShJs67k",
        "outputId": "c835a33f-85fb-439b-e444-23acb5d5912c"
      },
      "execution_count": 38,
      "outputs": [
        {
          "output_type": "execute_result",
          "data": {
            "text/plain": [
              "DataFrame[id: int, first_name: string, last_name: string, email: string, is_customer: boolean, amount_paid: double, customer_from: date, last_updated_ts: timestamp]"
            ]
          },
          "metadata": {},
          "execution_count": 38
        }
      ]
    },
    {
      "cell_type": "code",
      "source": [
        "users_df_3.show(truncate=False)"
      ],
      "metadata": {
        "colab": {
          "base_uri": "https://localhost:8080/"
        },
        "id": "XU4vt1UPs64q",
        "outputId": "02ef2b6b-d020-4d6f-b6fa-5d38bdd57130"
      },
      "execution_count": 39,
      "outputs": [
        {
          "output_type": "stream",
          "name": "stdout",
          "text": [
            "+---+----------+---------+----------------------+-----------+-----------+-------------+-------------------+\n",
            "|id |first_name|last_name|email                 |is_customer|amount_paid|customer_from|last_updated_ts    |\n",
            "+---+----------+---------+----------------------+-----------+-----------+-------------+-------------------+\n",
            "|1  |Matias    |Dibo     |cvmdibo@email.com     |true       |1000.0     |2021-01-25   |2021-12-03 00:00:00|\n",
            "|2  |Juan      |Estevanez|cvjestevanez@email.com|true       |152.5      |2020-06-12   |2022-01-04 00:00:00|\n",
            "|3  |Alejandra |Funes    |cvafunes@email.com    |false      |null       |null         |2022-03-31 00:00:00|\n",
            "+---+----------+---------+----------------------+-----------+-----------+-------------+-------------------+\n",
            "\n"
          ]
        }
      ]
    },
    {
      "cell_type": "markdown",
      "source": [
        "##### Create Spark dataframe using Pandas"
      ],
      "metadata": {
        "id": "5HWZeqSzFRMv"
      }
    },
    {
      "cell_type": "code",
      "source": [
        "df_user = pd.DataFrame(user)\n",
        "\n",
        "df_user"
      ],
      "metadata": {
        "colab": {
          "base_uri": "https://localhost:8080/",
          "height": 0
        },
        "id": "ZZiNi9G6sDF8",
        "outputId": "5075eef4-e27b-4558-8066-b472d99580ca"
      },
      "execution_count": 40,
      "outputs": [
        {
          "output_type": "execute_result",
          "data": {
            "text/plain": [
              "   id first_name  last_name                   email  is_customer  amount_paid  \\\n",
              "0   1     Matias       Dibo       cvmdibo@email.com         True       1000.0   \n",
              "1   2       Juan  Estevanez  cvjestevanez@email.com         True        152.5   \n",
              "\n",
              "  customer_from last_updated_ts  \n",
              "0    2021-01-25      2021-12-03  \n",
              "1    2020-06-12      2022-01-04  "
            ],
            "text/html": [
              "\n",
              "  <div id=\"df-926d837e-4817-4fe5-bd37-0d4966d25d1a\">\n",
              "    <div class=\"colab-df-container\">\n",
              "      <div>\n",
              "<style scoped>\n",
              "    .dataframe tbody tr th:only-of-type {\n",
              "        vertical-align: middle;\n",
              "    }\n",
              "\n",
              "    .dataframe tbody tr th {\n",
              "        vertical-align: top;\n",
              "    }\n",
              "\n",
              "    .dataframe thead th {\n",
              "        text-align: right;\n",
              "    }\n",
              "</style>\n",
              "<table border=\"1\" class=\"dataframe\">\n",
              "  <thead>\n",
              "    <tr style=\"text-align: right;\">\n",
              "      <th></th>\n",
              "      <th>id</th>\n",
              "      <th>first_name</th>\n",
              "      <th>last_name</th>\n",
              "      <th>email</th>\n",
              "      <th>is_customer</th>\n",
              "      <th>amount_paid</th>\n",
              "      <th>customer_from</th>\n",
              "      <th>last_updated_ts</th>\n",
              "    </tr>\n",
              "  </thead>\n",
              "  <tbody>\n",
              "    <tr>\n",
              "      <th>0</th>\n",
              "      <td>1</td>\n",
              "      <td>Matias</td>\n",
              "      <td>Dibo</td>\n",
              "      <td>cvmdibo@email.com</td>\n",
              "      <td>True</td>\n",
              "      <td>1000.0</td>\n",
              "      <td>2021-01-25</td>\n",
              "      <td>2021-12-03</td>\n",
              "    </tr>\n",
              "    <tr>\n",
              "      <th>1</th>\n",
              "      <td>2</td>\n",
              "      <td>Juan</td>\n",
              "      <td>Estevanez</td>\n",
              "      <td>cvjestevanez@email.com</td>\n",
              "      <td>True</td>\n",
              "      <td>152.5</td>\n",
              "      <td>2020-06-12</td>\n",
              "      <td>2022-01-04</td>\n",
              "    </tr>\n",
              "  </tbody>\n",
              "</table>\n",
              "</div>\n",
              "      <button class=\"colab-df-convert\" onclick=\"convertToInteractive('df-926d837e-4817-4fe5-bd37-0d4966d25d1a')\"\n",
              "              title=\"Convert this dataframe to an interactive table.\"\n",
              "              style=\"display:none;\">\n",
              "        \n",
              "  <svg xmlns=\"http://www.w3.org/2000/svg\" height=\"24px\"viewBox=\"0 0 24 24\"\n",
              "       width=\"24px\">\n",
              "    <path d=\"M0 0h24v24H0V0z\" fill=\"none\"/>\n",
              "    <path d=\"M18.56 5.44l.94 2.06.94-2.06 2.06-.94-2.06-.94-.94-2.06-.94 2.06-2.06.94zm-11 1L8.5 8.5l.94-2.06 2.06-.94-2.06-.94L8.5 2.5l-.94 2.06-2.06.94zm10 10l.94 2.06.94-2.06 2.06-.94-2.06-.94-.94-2.06-.94 2.06-2.06.94z\"/><path d=\"M17.41 7.96l-1.37-1.37c-.4-.4-.92-.59-1.43-.59-.52 0-1.04.2-1.43.59L10.3 9.45l-7.72 7.72c-.78.78-.78 2.05 0 2.83L4 21.41c.39.39.9.59 1.41.59.51 0 1.02-.2 1.41-.59l7.78-7.78 2.81-2.81c.8-.78.8-2.07 0-2.86zM5.41 20L4 18.59l7.72-7.72 1.47 1.35L5.41 20z\"/>\n",
              "  </svg>\n",
              "      </button>\n",
              "      \n",
              "  <style>\n",
              "    .colab-df-container {\n",
              "      display:flex;\n",
              "      flex-wrap:wrap;\n",
              "      gap: 12px;\n",
              "    }\n",
              "\n",
              "    .colab-df-convert {\n",
              "      background-color: #E8F0FE;\n",
              "      border: none;\n",
              "      border-radius: 50%;\n",
              "      cursor: pointer;\n",
              "      display: none;\n",
              "      fill: #1967D2;\n",
              "      height: 32px;\n",
              "      padding: 0 0 0 0;\n",
              "      width: 32px;\n",
              "    }\n",
              "\n",
              "    .colab-df-convert:hover {\n",
              "      background-color: #E2EBFA;\n",
              "      box-shadow: 0px 1px 2px rgba(60, 64, 67, 0.3), 0px 1px 3px 1px rgba(60, 64, 67, 0.15);\n",
              "      fill: #174EA6;\n",
              "    }\n",
              "\n",
              "    [theme=dark] .colab-df-convert {\n",
              "      background-color: #3B4455;\n",
              "      fill: #D2E3FC;\n",
              "    }\n",
              "\n",
              "    [theme=dark] .colab-df-convert:hover {\n",
              "      background-color: #434B5C;\n",
              "      box-shadow: 0px 1px 3px 1px rgba(0, 0, 0, 0.15);\n",
              "      filter: drop-shadow(0px 1px 2px rgba(0, 0, 0, 0.3));\n",
              "      fill: #FFFFFF;\n",
              "    }\n",
              "  </style>\n",
              "\n",
              "      <script>\n",
              "        const buttonEl =\n",
              "          document.querySelector('#df-926d837e-4817-4fe5-bd37-0d4966d25d1a button.colab-df-convert');\n",
              "        buttonEl.style.display =\n",
              "          google.colab.kernel.accessAllowed ? 'block' : 'none';\n",
              "\n",
              "        async function convertToInteractive(key) {\n",
              "          const element = document.querySelector('#df-926d837e-4817-4fe5-bd37-0d4966d25d1a');\n",
              "          const dataTable =\n",
              "            await google.colab.kernel.invokeFunction('convertToInteractive',\n",
              "                                                     [key], {});\n",
              "          if (!dataTable) return;\n",
              "\n",
              "          const docLinkHtml = 'Like what you see? Visit the ' +\n",
              "            '<a target=\"_blank\" href=https://colab.research.google.com/notebooks/data_table.ipynb>data table notebook</a>'\n",
              "            + ' to learn more about interactive tables.';\n",
              "          element.innerHTML = '';\n",
              "          dataTable['output_type'] = 'display_data';\n",
              "          await google.colab.output.renderOutput(dataTable, element);\n",
              "          const docLink = document.createElement('div');\n",
              "          docLink.innerHTML = docLinkHtml;\n",
              "          element.appendChild(docLink);\n",
              "        }\n",
              "      </script>\n",
              "    </div>\n",
              "  </div>\n",
              "  "
            ]
          },
          "metadata": {},
          "execution_count": 40
        }
      ]
    },
    {
      "cell_type": "code",
      "source": [
        "spark.createDataFrame(df_user).show()"
      ],
      "metadata": {
        "colab": {
          "base_uri": "https://localhost:8080/"
        },
        "id": "_zfvbacosDDA",
        "outputId": "cf27844e-d105-4851-c626-b14beeed247c"
      },
      "execution_count": 41,
      "outputs": [
        {
          "output_type": "stream",
          "name": "stdout",
          "text": [
            "+---+----------+---------+--------------------+-----------+-----------+-------------------+-------------------+\n",
            "| id|first_name|last_name|               email|is_customer|amount_paid|      customer_from|    last_updated_ts|\n",
            "+---+----------+---------+--------------------+-----------+-----------+-------------------+-------------------+\n",
            "|  1|    Matias|     Dibo|   cvmdibo@email.com|       true|     1000.0|2021-01-25 00:00:00|2021-12-03 00:00:00|\n",
            "|  2|      Juan|Estevanez|cvjestevanez@emai...|       true|      152.5|2020-06-12 00:00:00|2022-01-04 00:00:00|\n",
            "+---+----------+---------+--------------------+-----------+-----------+-------------------+-------------------+\n",
            "\n"
          ]
        }
      ]
    },
    {
      "cell_type": "code",
      "source": [
        "spark.createDataFrame(df_user).printSchema()"
      ],
      "metadata": {
        "colab": {
          "base_uri": "https://localhost:8080/"
        },
        "id": "fu3Xn6bIHK_l",
        "outputId": "673950d2-b448-4e41-8e71-babc52e58caf"
      },
      "execution_count": 42,
      "outputs": [
        {
          "output_type": "stream",
          "name": "stdout",
          "text": [
            "root\n",
            " |-- id: long (nullable = true)\n",
            " |-- first_name: string (nullable = true)\n",
            " |-- last_name: string (nullable = true)\n",
            " |-- email: string (nullable = true)\n",
            " |-- is_customer: boolean (nullable = true)\n",
            " |-- amount_paid: double (nullable = true)\n",
            " |-- customer_from: timestamp (nullable = true)\n",
            " |-- last_updated_ts: timestamp (nullable = true)\n",
            "\n"
          ]
        }
      ]
    },
    {
      "cell_type": "markdown",
      "source": [
        "##### Array type columns in Spark dataframe"
      ],
      "metadata": {
        "id": "-2qYriXzHWdB"
      }
    },
    {
      "cell_type": "code",
      "source": [
        "user_3 = [\n",
        "        {'id':1,\n",
        "         'first_name':'Matias',\n",
        "         'last_name':'Dibo',\n",
        "         'email':'cvmdibo@email.com',\n",
        "         'phone_numbers':['+5493512500000'],\n",
        "         'is_customer':True,\n",
        "         'amount_paid':1000.0,\n",
        "         'customer_from':datetime.datetime(2021,1,25),\n",
        "         'last_updated_ts':datetime.datetime(2021,12,3)},\n",
        "        \n",
        "        {'id':2,\n",
        "         'first_name':'Juan',\n",
        "         'last_name':'Estevanez',\n",
        "         'email':'cvjestevanez@email.com',\n",
        "         'phone_numbers':['+5493512999999', '+548692214553'],\n",
        "         'is_customer':True,\n",
        "         'amount_paid':152.5,\n",
        "         'customer_from':datetime.datetime(2020,6,12),\n",
        "         'last_updated_ts':datetime.datetime(2022,1,4)}\n",
        "]"
      ],
      "metadata": {
        "id": "Ozboa5sPHbjG"
      },
      "execution_count": 43,
      "outputs": []
    },
    {
      "cell_type": "code",
      "source": [
        "users_df_4 = spark.createDataFrame([Row(**i) for i in user_3])"
      ],
      "metadata": {
        "id": "U4sbVYwrH7wh"
      },
      "execution_count": 44,
      "outputs": []
    },
    {
      "cell_type": "code",
      "source": [
        "users_df_4.printSchema()"
      ],
      "metadata": {
        "colab": {
          "base_uri": "https://localhost:8080/"
        },
        "id": "Jpt3PPiHH7ra",
        "outputId": "54d03b88-87c0-4c18-bc18-00ce98e69483"
      },
      "execution_count": 45,
      "outputs": [
        {
          "output_type": "stream",
          "name": "stdout",
          "text": [
            "root\n",
            " |-- id: long (nullable = true)\n",
            " |-- first_name: string (nullable = true)\n",
            " |-- last_name: string (nullable = true)\n",
            " |-- email: string (nullable = true)\n",
            " |-- phone_numbers: array (nullable = true)\n",
            " |    |-- element: string (containsNull = true)\n",
            " |-- is_customer: boolean (nullable = true)\n",
            " |-- amount_paid: double (nullable = true)\n",
            " |-- customer_from: timestamp (nullable = true)\n",
            " |-- last_updated_ts: timestamp (nullable = true)\n",
            "\n"
          ]
        }
      ]
    },
    {
      "cell_type": "code",
      "source": [
        "users_df_4.select('id','phone_numbers').show(truncate=False)"
      ],
      "metadata": {
        "colab": {
          "base_uri": "https://localhost:8080/"
        },
        "id": "YFtfcx3-H7t3",
        "outputId": "4cecdfcf-8ceb-4adf-e2c5-b692da511aa0"
      },
      "execution_count": 46,
      "outputs": [
        {
          "output_type": "stream",
          "name": "stdout",
          "text": [
            "+---+-------------------------------+\n",
            "|id |phone_numbers                  |\n",
            "+---+-------------------------------+\n",
            "|1  |[+5493512500000]               |\n",
            "|2  |[+5493512999999, +548692214553]|\n",
            "+---+-------------------------------+\n",
            "\n"
          ]
        }
      ]
    },
    {
      "cell_type": "code",
      "source": [
        "users_df_4.withColumn('phone_number', explode('phone_numbers')).drop('phone_numbers').show(truncate=False)"
      ],
      "metadata": {
        "colab": {
          "base_uri": "https://localhost:8080/"
        },
        "id": "fOMtkxitH7mT",
        "outputId": "27c78f92-9b51-4301-988f-ec675711aeff"
      },
      "execution_count": 47,
      "outputs": [
        {
          "output_type": "stream",
          "name": "stdout",
          "text": [
            "+---+----------+---------+----------------------+-----------+-----------+-------------------+-------------------+--------------+\n",
            "|id |first_name|last_name|email                 |is_customer|amount_paid|customer_from      |last_updated_ts    |phone_number  |\n",
            "+---+----------+---------+----------------------+-----------+-----------+-------------------+-------------------+--------------+\n",
            "|1  |Matias    |Dibo     |cvmdibo@email.com     |true       |1000.0     |2021-01-25 00:00:00|2021-12-03 00:00:00|+5493512500000|\n",
            "|2  |Juan      |Estevanez|cvjestevanez@email.com|true       |152.5      |2020-06-12 00:00:00|2022-01-04 00:00:00|+5493512999999|\n",
            "|2  |Juan      |Estevanez|cvjestevanez@email.com|true       |152.5      |2020-06-12 00:00:00|2022-01-04 00:00:00|+548692214553 |\n",
            "+---+----------+---------+----------------------+-----------+-----------+-------------------+-------------------+--------------+\n",
            "\n"
          ]
        }
      ]
    },
    {
      "cell_type": "code",
      "source": [
        "users_df_4.select('id', users_df_4.phone_numbers[0].alias('mobile'), users_df_4.phone_numbers[1].alias('home')).show()"
      ],
      "metadata": {
        "colab": {
          "base_uri": "https://localhost:8080/"
        },
        "id": "fi3OaqyHKeLn",
        "outputId": "63be4505-a439-4e5e-e164-422f6134314c"
      },
      "execution_count": 48,
      "outputs": [
        {
          "output_type": "stream",
          "name": "stdout",
          "text": [
            "+---+--------------+-------------+\n",
            "| id|        mobile|         home|\n",
            "+---+--------------+-------------+\n",
            "|  1|+5493512500000|         null|\n",
            "|  2|+5493512999999|+548692214553|\n",
            "+---+--------------+-------------+\n",
            "\n"
          ]
        }
      ]
    },
    {
      "cell_type": "markdown",
      "source": [
        "##### Map type columns in Spark dataframe"
      ],
      "metadata": {
        "id": "h7d9CuP4MOQO"
      }
    },
    {
      "cell_type": "code",
      "source": [
        "user_4 = [\n",
        "        {'id':1,\n",
        "         'first_name':'Matias',\n",
        "         'last_name':'Dibo',\n",
        "         'email':'cvmdibo@email.com',\n",
        "         'phone_numbers':{'mobile':'+5493512500000'},\n",
        "         'is_customer':True,\n",
        "         'amount_paid':1000.0,\n",
        "         'customer_from':datetime.datetime(2021,1,25),\n",
        "         'last_updated_ts':datetime.datetime(2021,12,3)},\n",
        "        \n",
        "        {'id':2,\n",
        "         'first_name':'Juan',\n",
        "         'last_name':'Estevanez',\n",
        "         'email':'cvjestevanez@email.com',\n",
        "         'phone_numbers':{'mobile':'+5493512999999', 'home':'+548692214553'},\n",
        "         'is_customer':True,\n",
        "         'amount_paid':152.5,\n",
        "         'customer_from':datetime.datetime(2020,6,12),\n",
        "         'last_updated_ts':datetime.datetime(2022,1,4)}\n",
        "]"
      ],
      "metadata": {
        "id": "cu-jTxuBKeJI"
      },
      "execution_count": 59,
      "outputs": []
    },
    {
      "cell_type": "code",
      "source": [
        "users_df_5 = spark.createDataFrame([Row(**i) for i in user_4])"
      ],
      "metadata": {
        "id": "W0z9s_xkL2fH"
      },
      "execution_count": 60,
      "outputs": []
    },
    {
      "cell_type": "code",
      "source": [
        "users_df_5.printSchema()"
      ],
      "metadata": {
        "colab": {
          "base_uri": "https://localhost:8080/"
        },
        "id": "Z5YtPzFnL2bk",
        "outputId": "3ff98f94-3eb5-4da9-9fc8-d8507a635b26"
      },
      "execution_count": 61,
      "outputs": [
        {
          "output_type": "stream",
          "name": "stdout",
          "text": [
            "root\n",
            " |-- id: long (nullable = true)\n",
            " |-- first_name: string (nullable = true)\n",
            " |-- last_name: string (nullable = true)\n",
            " |-- email: string (nullable = true)\n",
            " |-- phone_numbers: map (nullable = true)\n",
            " |    |-- key: string\n",
            " |    |-- value: string (valueContainsNull = true)\n",
            " |-- is_customer: boolean (nullable = true)\n",
            " |-- amount_paid: double (nullable = true)\n",
            " |-- customer_from: timestamp (nullable = true)\n",
            " |-- last_updated_ts: timestamp (nullable = true)\n",
            "\n"
          ]
        }
      ]
    },
    {
      "cell_type": "code",
      "source": [
        "users_df_5.select('id','phone_numbers').show(truncate=False)"
      ],
      "metadata": {
        "colab": {
          "base_uri": "https://localhost:8080/"
        },
        "id": "Ag5DbL2yNgMB",
        "outputId": "53030139-7919-49af-aadc-7e395bf9b515"
      },
      "execution_count": 62,
      "outputs": [
        {
          "output_type": "stream",
          "name": "stdout",
          "text": [
            "+---+-------------------------------------------------+\n",
            "|id |phone_numbers                                    |\n",
            "+---+-------------------------------------------------+\n",
            "|1  |[mobile -> +5493512500000]                       |\n",
            "|2  |[mobile -> +5493512999999, home -> +548692214553]|\n",
            "+---+-------------------------------------------------+\n",
            "\n"
          ]
        }
      ]
    },
    {
      "cell_type": "code",
      "source": [
        "users_df_5.select('id', users_df_5.phone_numbers.mobile.alias('mobile')\\\n",
        "                  , users_df_5.phone_numbers.home.alias('home')).show(truncate=False)"
      ],
      "metadata": {
        "colab": {
          "base_uri": "https://localhost:8080/"
        },
        "id": "oSumXff1NDps",
        "outputId": "46ff7496-f004-4328-bf85-2bac148082d3"
      },
      "execution_count": 63,
      "outputs": [
        {
          "output_type": "stream",
          "name": "stdout",
          "text": [
            "+---+--------------+-------------+\n",
            "|id |mobile        |home         |\n",
            "+---+--------------+-------------+\n",
            "|1  |+5493512500000|null         |\n",
            "|2  |+5493512999999|+548692214553|\n",
            "+---+--------------+-------------+\n",
            "\n"
          ]
        }
      ]
    },
    {
      "cell_type": "code",
      "source": [
        "users_df_5.select('id', explode('phone_numbers'))\\\n",
        "  .withColumnRenamed('key','phone_type')\\\n",
        "  .withColumnRenamed('value','phone_number').show(truncate=False)"
      ],
      "metadata": {
        "colab": {
          "base_uri": "https://localhost:8080/"
        },
        "id": "PUHYL-biNDlR",
        "outputId": "34025e4b-4f5f-46be-ff38-2541014e9bec"
      },
      "execution_count": 64,
      "outputs": [
        {
          "output_type": "stream",
          "name": "stdout",
          "text": [
            "+---+----------+--------------+\n",
            "|id |phone_type|phone_number  |\n",
            "+---+----------+--------------+\n",
            "|1  |mobile    |+5493512500000|\n",
            "|2  |mobile    |+5493512999999|\n",
            "|2  |home      |+548692214553 |\n",
            "+---+----------+--------------+\n",
            "\n"
          ]
        }
      ]
    },
    {
      "cell_type": "markdown",
      "source": [
        "##### Select on Spark dataframe"
      ],
      "metadata": {
        "id": "US-UV5NcWg2t"
      }
    },
    {
      "cell_type": "code",
      "source": [
        "users_df_4.select('*').show()"
      ],
      "metadata": {
        "colab": {
          "base_uri": "https://localhost:8080/"
        },
        "id": "iQ6vGbE1ekXe",
        "outputId": "e81db100-8004-4123-e657-b52fc1a8107d"
      },
      "execution_count": 65,
      "outputs": [
        {
          "output_type": "stream",
          "name": "stdout",
          "text": [
            "+---+----------+---------+--------------------+--------------------+-----------+-----------+-------------------+-------------------+\n",
            "| id|first_name|last_name|               email|       phone_numbers|is_customer|amount_paid|      customer_from|    last_updated_ts|\n",
            "+---+----------+---------+--------------------+--------------------+-----------+-----------+-------------------+-------------------+\n",
            "|  1|    Matias|     Dibo|   cvmdibo@email.com|    [+5493512500000]|       true|     1000.0|2021-01-25 00:00:00|2021-12-03 00:00:00|\n",
            "|  2|      Juan|Estevanez|cvjestevanez@emai...|[+5493512999999, ...|       true|      152.5|2020-06-12 00:00:00|2022-01-04 00:00:00|\n",
            "+---+----------+---------+--------------------+--------------------+-----------+-----------+-------------------+-------------------+\n",
            "\n"
          ]
        }
      ]
    },
    {
      "cell_type": "code",
      "source": [
        "users_df_4.select('id', 'first_name', 'last_name').show()"
      ],
      "metadata": {
        "colab": {
          "base_uri": "https://localhost:8080/"
        },
        "id": "pJzWBirCgwgr",
        "outputId": "6de11e92-2015-4025-cfb4-1892c7edb98e"
      },
      "execution_count": 66,
      "outputs": [
        {
          "output_type": "stream",
          "name": "stdout",
          "text": [
            "+---+----------+---------+\n",
            "| id|first_name|last_name|\n",
            "+---+----------+---------+\n",
            "|  1|    Matias|     Dibo|\n",
            "|  2|      Juan|Estevanez|\n",
            "+---+----------+---------+\n",
            "\n"
          ]
        }
      ]
    },
    {
      "cell_type": "code",
      "source": [
        "users_df_4.alias('copy').select('copy.first_name','copy.last_name').show()"
      ],
      "metadata": {
        "colab": {
          "base_uri": "https://localhost:8080/"
        },
        "id": "tNiaxTy_iVJw",
        "outputId": "7a3f0c01-66c1-4593-89b5-9cd5d68b7fbf"
      },
      "execution_count": 67,
      "outputs": [
        {
          "output_type": "stream",
          "name": "stdout",
          "text": [
            "+----------+---------+\n",
            "|first_name|last_name|\n",
            "+----------+---------+\n",
            "|    Matias|     Dibo|\n",
            "|      Juan|Estevanez|\n",
            "+----------+---------+\n",
            "\n"
          ]
        }
      ]
    },
    {
      "cell_type": "code",
      "source": [
        "# Copy of Spark dataframe\n",
        "copy_df_4 = users_df_4.alias('users_df_4_copy')\n",
        "\n",
        "copy_df_4.show()"
      ],
      "metadata": {
        "colab": {
          "base_uri": "https://localhost:8080/"
        },
        "id": "d1TeQQ0Cgwdf",
        "outputId": "d9b43ac2-27e6-4f97-eac9-51acaf150690"
      },
      "execution_count": 68,
      "outputs": [
        {
          "output_type": "stream",
          "name": "stdout",
          "text": [
            "+---+----------+---------+--------------------+--------------------+-----------+-----------+-------------------+-------------------+\n",
            "| id|first_name|last_name|               email|       phone_numbers|is_customer|amount_paid|      customer_from|    last_updated_ts|\n",
            "+---+----------+---------+--------------------+--------------------+-----------+-----------+-------------------+-------------------+\n",
            "|  1|    Matias|     Dibo|   cvmdibo@email.com|    [+5493512500000]|       true|     1000.0|2021-01-25 00:00:00|2021-12-03 00:00:00|\n",
            "|  2|      Juan|Estevanez|cvjestevanez@emai...|[+5493512999999, ...|       true|      152.5|2020-06-12 00:00:00|2022-01-04 00:00:00|\n",
            "+---+----------+---------+--------------------+--------------------+-----------+-----------+-------------------+-------------------+\n",
            "\n"
          ]
        }
      ]
    },
    {
      "cell_type": "code",
      "source": [
        "users_df_4.select('id',col('first_name'),col('last_name')).show()"
      ],
      "metadata": {
        "colab": {
          "base_uri": "https://localhost:8080/"
        },
        "id": "RiJtqKfxgwaJ",
        "outputId": "c1ae9703-427a-4e08-97db-bd8de3614850"
      },
      "execution_count": 69,
      "outputs": [
        {
          "output_type": "stream",
          "name": "stdout",
          "text": [
            "+---+----------+---------+\n",
            "| id|first_name|last_name|\n",
            "+---+----------+---------+\n",
            "|  1|    Matias|     Dibo|\n",
            "|  2|      Juan|Estevanez|\n",
            "+---+----------+---------+\n",
            "\n"
          ]
        }
      ]
    },
    {
      "cell_type": "code",
      "source": [
        "users_df_4.select('id', col('first_name'),\\\n",
        "                  'last_name',\\\n",
        "                  concat('first_name', lit(' '),'last_name').alias('full_name'))\\\n",
        "                  .show()"
      ],
      "metadata": {
        "colab": {
          "base_uri": "https://localhost:8080/"
        },
        "id": "3TnnmusObbij",
        "outputId": "548c2fbf-b005-4e51-9460-ed562d1aeb10"
      },
      "execution_count": 70,
      "outputs": [
        {
          "output_type": "stream",
          "name": "stdout",
          "text": [
            "+---+----------+---------+--------------+\n",
            "| id|first_name|last_name|     full_name|\n",
            "+---+----------+---------+--------------+\n",
            "|  1|    Matias|     Dibo|   Matias Dibo|\n",
            "|  2|      Juan|Estevanez|Juan Estevanez|\n",
            "+---+----------+---------+--------------+\n",
            "\n"
          ]
        }
      ]
    },
    {
      "cell_type": "markdown",
      "source": [
        "##### SelectExpr on Spark dataframe"
      ],
      "metadata": {
        "id": "pXtXzrRi5jHX"
      }
    },
    {
      "cell_type": "code",
      "source": [
        "user_6 = [\n",
        "        {'id':1,\n",
        "         'first_name':'Matias',\n",
        "         'last_name':'Dibo',\n",
        "         'email':'cvmdibo@email.com',\n",
        "         'phone_numbers':['+5493512500000'],\n",
        "         'courses':[1,6],\n",
        "         'is_customer':True,\n",
        "         'amount_paid':1000.0,\n",
        "         'customer_from':datetime.datetime(2021,1,25),\n",
        "         'last_updated_ts':datetime.datetime(2021,12,3)},\n",
        "        \n",
        "        {'id':2,\n",
        "         'first_name':'Juan',\n",
        "         'last_name':'Estevanez',\n",
        "         'email':'cvjestevanez@email.com',\n",
        "         'phone_numbers':['+5493512999999', '+548692214553'],\n",
        "         'courses':[3],\n",
        "         'is_customer':True,\n",
        "         'amount_paid':152.5,\n",
        "         'customer_from':datetime.datetime(2020,6,12),\n",
        "         'last_updated_ts':datetime.datetime(2022,1,4)}\n",
        "]"
      ],
      "metadata": {
        "id": "CHSqq1zngN_o"
      },
      "execution_count": 71,
      "outputs": []
    },
    {
      "cell_type": "code",
      "source": [
        "users_df_7 = spark.createDataFrame([Row(**i) for i in user_6])"
      ],
      "metadata": {
        "id": "RX4Yb49oh_K3"
      },
      "execution_count": 72,
      "outputs": []
    },
    {
      "cell_type": "code",
      "source": [
        "users_df_7.show(truncate=False)"
      ],
      "metadata": {
        "colab": {
          "base_uri": "https://localhost:8080/"
        },
        "id": "nr7tfrvlh_Hm",
        "outputId": "555b8f67-3923-4e7c-b331-6fda2f156135"
      },
      "execution_count": 73,
      "outputs": [
        {
          "output_type": "stream",
          "name": "stdout",
          "text": [
            "+---+----------+---------+----------------------+-------------------------------+-------+-----------+-----------+-------------------+-------------------+\n",
            "|id |first_name|last_name|email                 |phone_numbers                  |courses|is_customer|amount_paid|customer_from      |last_updated_ts    |\n",
            "+---+----------+---------+----------------------+-------------------------------+-------+-----------+-----------+-------------------+-------------------+\n",
            "|1  |Matias    |Dibo     |cvmdibo@email.com     |[+5493512500000]               |[1, 6] |true       |1000.0     |2021-01-25 00:00:00|2021-12-03 00:00:00|\n",
            "|2  |Juan      |Estevanez|cvjestevanez@email.com|[+5493512999999, +548692214553]|[3]    |true       |152.5      |2020-06-12 00:00:00|2022-01-04 00:00:00|\n",
            "+---+----------+---------+----------------------+-------------------------------+-------+-----------+-----------+-------------------+-------------------+\n",
            "\n"
          ]
        }
      ]
    },
    {
      "cell_type": "code",
      "source": [
        "temp_df_1 = users_df_7.select('id',concat('first_name',lit(' '),'last_name').alias('full_name'),explode('courses').alias('courses'))\n",
        "\n",
        "temp_df_1.show()"
      ],
      "metadata": {
        "colab": {
          "base_uri": "https://localhost:8080/"
        },
        "id": "SU2eB-H8gN74",
        "outputId": "30a861ba-df97-45d4-e393-f4703b9ac46c"
      },
      "execution_count": 74,
      "outputs": [
        {
          "output_type": "stream",
          "name": "stdout",
          "text": [
            "+---+--------------+-------+\n",
            "| id|     full_name|courses|\n",
            "+---+--------------+-------+\n",
            "|  1|   Matias Dibo|      1|\n",
            "|  1|   Matias Dibo|      6|\n",
            "|  2|Juan Estevanez|      3|\n",
            "+---+--------------+-------+\n",
            "\n"
          ]
        }
      ]
    },
    {
      "cell_type": "code",
      "source": [
        "temp_df_1.selectExpr('id', 'courses * 2').show()"
      ],
      "metadata": {
        "colab": {
          "base_uri": "https://localhost:8080/"
        },
        "id": "2owhFT-tgN4o",
        "outputId": "4cb0b64e-0f03-4bdc-ad48-da84ef4d1862"
      },
      "execution_count": 75,
      "outputs": [
        {
          "output_type": "stream",
          "name": "stdout",
          "text": [
            "+---+-------------+\n",
            "| id|(courses * 2)|\n",
            "+---+-------------+\n",
            "|  1|            2|\n",
            "|  1|           12|\n",
            "|  2|            6|\n",
            "+---+-------------+\n",
            "\n"
          ]
        }
      ]
    },
    {
      "cell_type": "code",
      "source": [
        "# create local temporary view\n",
        "users_df_7.createOrReplaceTempView('users_6_table')"
      ],
      "metadata": {
        "id": "fyL9uBRfiPaR"
      },
      "execution_count": 76,
      "outputs": []
    },
    {
      "cell_type": "code",
      "source": [
        "spark.sql('''\n",
        "        SELECT id, concat(first_name, ' ', 'last_name') AS full_name, courses\n",
        "        FROM users_6_table\n",
        "''').show()"
      ],
      "metadata": {
        "colab": {
          "base_uri": "https://localhost:8080/"
        },
        "id": "xhTpm9VDiLks",
        "outputId": "24a0c46d-7cf7-47b4-813a-f43b0e951097"
      },
      "execution_count": 77,
      "outputs": [
        {
          "output_type": "stream",
          "name": "stdout",
          "text": [
            "+---+----------------+-------+\n",
            "| id|       full_name|courses|\n",
            "+---+----------------+-------+\n",
            "|  1|Matias last_name| [1, 6]|\n",
            "|  2|  Juan last_name|    [3]|\n",
            "+---+----------------+-------+\n",
            "\n"
          ]
        }
      ]
    },
    {
      "cell_type": "markdown",
      "source": [
        "##### Referring columns using Spark dataframe names"
      ],
      "metadata": {
        "id": "PZMdyHs1H60B"
      }
    },
    {
      "cell_type": "code",
      "source": [
        "users_df_7.alias('u').select('u.id', 'last_name').show()"
      ],
      "metadata": {
        "colab": {
          "base_uri": "https://localhost:8080/"
        },
        "id": "hCLSF5CEiLiI",
        "outputId": "cbcba913-5bc4-4606-82c5-62169370b46a"
      },
      "execution_count": null,
      "outputs": [
        {
          "output_type": "stream",
          "name": "stdout",
          "text": [
            "+---+---------+\n",
            "| id|last_name|\n",
            "+---+---------+\n",
            "|  1|     Dibo|\n",
            "|  2|Estevanez|\n",
            "+---+---------+\n",
            "\n"
          ]
        }
      ]
    },
    {
      "cell_type": "code",
      "source": [
        "# selectExpr only works with string type\n",
        "users_df_7.selectExpr('id', 'first_name', 'last_name',\\\n",
        "                      \"concat(first_name,' ',last_name) AS full_name\").show()"
      ],
      "metadata": {
        "colab": {
          "base_uri": "https://localhost:8080/"
        },
        "id": "e9MiiKJziLfO",
        "outputId": "fa4a6d05-e38f-40fc-966d-e528e110c291"
      },
      "execution_count": null,
      "outputs": [
        {
          "output_type": "stream",
          "name": "stdout",
          "text": [
            "+---+----------+---------+--------------+\n",
            "| id|first_name|last_name|     full_name|\n",
            "+---+----------+---------+--------------+\n",
            "|  1|    Matias|     Dibo|   Matias Dibo|\n",
            "|  2|      Juan|Estevanez|Juan Estevanez|\n",
            "+---+----------+---------+--------------+\n",
            "\n"
          ]
        }
      ]
    },
    {
      "cell_type": "code",
      "source": [
        "users_df_7.createOrReplaceTempView('temp_view_df_7')"
      ],
      "metadata": {
        "id": "_587f_XFgiou"
      },
      "execution_count": null,
      "outputs": []
    },
    {
      "cell_type": "code",
      "source": [
        "spark.sql('''\n",
        "        SELECT u.id, u.first_name, u.last_name\n",
        "        FROM temp_view_df_7 u\n",
        "''').show()"
      ],
      "metadata": {
        "colab": {
          "base_uri": "https://localhost:8080/"
        },
        "id": "FhXpjdBxxlu7",
        "outputId": "992928cf-8d66-4f80-dcae-c2a13b49a242"
      },
      "execution_count": null,
      "outputs": [
        {
          "output_type": "stream",
          "name": "stdout",
          "text": [
            "+---+----------+---------+\n",
            "| id|first_name|last_name|\n",
            "+---+----------+---------+\n",
            "|  1|    Matias|     Dibo|\n",
            "|  2|      Juan|Estevanez|\n",
            "+---+----------+---------+\n",
            "\n"
          ]
        }
      ]
    },
    {
      "cell_type": "markdown",
      "source": [
        "##### Col function in Spark"
      ],
      "metadata": {
        "id": "8-gntdVOKfYg"
      }
    },
    {
      "cell_type": "code",
      "source": [
        "cols = ['id', 'first_name', 'last_name']\n",
        "\n",
        "users_df_7.select(cols).show()"
      ],
      "metadata": {
        "colab": {
          "base_uri": "https://localhost:8080/"
        },
        "id": "AKYV38RsKenL",
        "outputId": "25463610-ee33-4094-b221-7111ba94f8df"
      },
      "execution_count": null,
      "outputs": [
        {
          "output_type": "stream",
          "name": "stdout",
          "text": [
            "+---+----------+---------+\n",
            "| id|first_name|last_name|\n",
            "+---+----------+---------+\n",
            "|  1|    Matias|     Dibo|\n",
            "|  2|      Juan|Estevanez|\n",
            "+---+----------+---------+\n",
            "\n"
          ]
        }
      ]
    },
    {
      "cell_type": "code",
      "source": [
        "col_id = col('id')\n",
        "\n",
        "users_df_7.select(col_id).show()"
      ],
      "metadata": {
        "colab": {
          "base_uri": "https://localhost:8080/"
        },
        "id": "K_D4OEMEKefl",
        "outputId": "63879c32-d8a8-42ad-f8ba-8dd06a9bf55a"
      },
      "execution_count": null,
      "outputs": [
        {
          "output_type": "stream",
          "name": "stdout",
          "text": [
            "+---+\n",
            "| id|\n",
            "+---+\n",
            "|  1|\n",
            "|  2|\n",
            "+---+\n",
            "\n"
          ]
        }
      ]
    },
    {
      "cell_type": "code",
      "source": [
        "users_df_7.select('id', 'customer_from').show()"
      ],
      "metadata": {
        "colab": {
          "base_uri": "https://localhost:8080/"
        },
        "id": "k_zY3T3-KebA",
        "outputId": "148a9a78-5c67-4eb7-caab-6142e562ccd4"
      },
      "execution_count": null,
      "outputs": [
        {
          "output_type": "stream",
          "name": "stdout",
          "text": [
            "+---+-------------------+\n",
            "| id|      customer_from|\n",
            "+---+-------------------+\n",
            "|  1|2021-01-25 00:00:00|\n",
            "|  2|2020-06-12 00:00:00|\n",
            "+---+-------------------+\n",
            "\n"
          ]
        }
      ]
    },
    {
      "cell_type": "code",
      "source": [
        "users_df_7.select('id', 'customer_from').dtypes"
      ],
      "metadata": {
        "colab": {
          "base_uri": "https://localhost:8080/"
        },
        "id": "QolkaztyOhoz",
        "outputId": "1557286a-cd56-4cbb-e543-8073074780a9"
      },
      "execution_count": null,
      "outputs": [
        {
          "output_type": "execute_result",
          "data": {
            "text/plain": [
              "[('id', 'bigint'), ('customer_from', 'timestamp')]"
            ]
          },
          "metadata": {},
          "execution_count": 75
        }
      ]
    },
    {
      "cell_type": "code",
      "source": [
        "users_df_7.select('id', date_format('customer_from', 'yyyyMMdd').alias('date')).show()"
      ],
      "metadata": {
        "colab": {
          "base_uri": "https://localhost:8080/"
        },
        "id": "A0RvH-5JKeVu",
        "outputId": "4ddfe4eb-c19e-4563-c28e-f4fa373d11d0"
      },
      "execution_count": null,
      "outputs": [
        {
          "output_type": "stream",
          "name": "stdout",
          "text": [
            "+---+--------+\n",
            "| id|    date|\n",
            "+---+--------+\n",
            "|  1|20210125|\n",
            "|  2|20200612|\n",
            "+---+--------+\n",
            "\n"
          ]
        }
      ]
    },
    {
      "cell_type": "code",
      "source": [
        "users_df_7.select('id', date_format('customer_from', 'yyyyMMdd')\\\n",
        "                  .alias('date')).dtypes"
      ],
      "metadata": {
        "colab": {
          "base_uri": "https://localhost:8080/"
        },
        "id": "2W9uQjznKeRf",
        "outputId": "69a3429e-d253-42cf-9cfd-165beb5cab9d"
      },
      "execution_count": null,
      "outputs": [
        {
          "output_type": "execute_result",
          "data": {
            "text/plain": [
              "[('id', 'bigint'), ('date', 'string')]"
            ]
          },
          "metadata": {},
          "execution_count": 77
        }
      ]
    },
    {
      "cell_type": "code",
      "source": [
        "users_df_7.select('id', date_format('customer_from', 'yyyyMMdd')\\\n",
        "                  .alias('date').cast('int')).dtypes"
      ],
      "metadata": {
        "colab": {
          "base_uri": "https://localhost:8080/"
        },
        "id": "bqhq5vlQKeO1",
        "outputId": "ad2cfd7d-85ef-4282-caa5-adfe5e02a966"
      },
      "execution_count": null,
      "outputs": [
        {
          "output_type": "execute_result",
          "data": {
            "text/plain": [
              "[('id', 'bigint'), ('date', 'int')]"
            ]
          },
          "metadata": {},
          "execution_count": 78
        }
      ]
    },
    {
      "cell_type": "code",
      "source": [
        "full_name_col = concat('first_name',lit(' '),'last_name').alias('full_name')\n",
        "\n",
        "users_df_7.select('id', full_name_col).show()"
      ],
      "metadata": {
        "colab": {
          "base_uri": "https://localhost:8080/"
        },
        "id": "5Ec_uMwiKeK9",
        "outputId": "9259f003-e4ee-4836-84f5-7145ef20084f"
      },
      "execution_count": null,
      "outputs": [
        {
          "output_type": "stream",
          "name": "stdout",
          "text": [
            "+---+--------------+\n",
            "| id|     full_name|\n",
            "+---+--------------+\n",
            "|  1|   Matias Dibo|\n",
            "|  2|Juan Estevanez|\n",
            "+---+--------------+\n",
            "\n"
          ]
        }
      ]
    },
    {
      "cell_type": "code",
      "source": [
        "customer_from_col = date_format('customer_from','yyyyMMdd')\\\n",
        "                    .alias('customer_from').cast('int')\n",
        "\n",
        "users_df_7.select('id', customer_from_col).show()"
      ],
      "metadata": {
        "colab": {
          "base_uri": "https://localhost:8080/"
        },
        "id": "JbIej_OcQWiM",
        "outputId": "5b9604d9-d638-4233-8e86-493e3dbc95ee"
      },
      "execution_count": null,
      "outputs": [
        {
          "output_type": "stream",
          "name": "stdout",
          "text": [
            "+---+-------------+\n",
            "| id|customer_from|\n",
            "+---+-------------+\n",
            "|  1|     20210125|\n",
            "|  2|     20200612|\n",
            "+---+-------------+\n",
            "\n"
          ]
        }
      ]
    },
    {
      "cell_type": "code",
      "source": [
        "spark.sql('''\n",
        "      SELECT id, amount_paid, (amount_paid + 10) amount_paid_plus_10\n",
        "      FROM temp_view_df_7\n",
        "''').show()"
      ],
      "metadata": {
        "colab": {
          "base_uri": "https://localhost:8080/"
        },
        "id": "FAldKwHGQWea",
        "outputId": "e0b442a1-471b-4c5c-fcce-601b9d40fe7a"
      },
      "execution_count": null,
      "outputs": [
        {
          "output_type": "stream",
          "name": "stdout",
          "text": [
            "+---+-----------+-------------------+\n",
            "| id|amount_paid|amount_paid_plus_10|\n",
            "+---+-----------+-------------------+\n",
            "|  1|     1000.0|             1010.0|\n",
            "|  2|      152.5|              162.5|\n",
            "+---+-----------+-------------------+\n",
            "\n"
          ]
        }
      ]
    },
    {
      "cell_type": "code",
      "source": [
        "users_df_7.select('id','amount_paid', (col('amount_paid')+10)\\\n",
        "                  .alias('amount_paid_plus_10')).show()"
      ],
      "metadata": {
        "colab": {
          "base_uri": "https://localhost:8080/"
        },
        "id": "FsxsNlvHQWaa",
        "outputId": "22a057c2-b814-4d5d-bcf2-a0f6526215bd"
      },
      "execution_count": null,
      "outputs": [
        {
          "output_type": "stream",
          "name": "stdout",
          "text": [
            "+---+-----------+-------------------+\n",
            "| id|amount_paid|amount_paid_plus_10|\n",
            "+---+-----------+-------------------+\n",
            "|  1|     1000.0|             1010.0|\n",
            "|  2|      152.5|              162.5|\n",
            "+---+-----------+-------------------+\n",
            "\n"
          ]
        }
      ]
    },
    {
      "cell_type": "markdown",
      "source": [
        "##### Naming derived columns using withColumn"
      ],
      "metadata": {
        "id": "9BpxVXIGVLW_"
      }
    },
    {
      "cell_type": "code",
      "source": [
        "users_df_7.select('id', 'first_name', 'last_name').\\\n",
        "          withColumn('full_name', concat('first_name',lit(' '),'last_name')).show()"
      ],
      "metadata": {
        "colab": {
          "base_uri": "https://localhost:8080/"
        },
        "id": "h1_pZ4FqVSqV",
        "outputId": "c52118cd-64c7-4985-dca8-4cc3357d7631"
      },
      "execution_count": null,
      "outputs": [
        {
          "output_type": "stream",
          "name": "stdout",
          "text": [
            "+---+----------+---------+--------------+\n",
            "| id|first_name|last_name|     full_name|\n",
            "+---+----------+---------+--------------+\n",
            "|  1|    Matias|     Dibo|   Matias Dibo|\n",
            "|  2|      Juan|Estevanez|Juan Estevanez|\n",
            "+---+----------+---------+--------------+\n",
            "\n"
          ]
        }
      ]
    },
    {
      "cell_type": "code",
      "source": [
        "# replace a column on Spark dataframe with derived column\n",
        "users_df_7.select('id', 'first_name', 'last_name').\\\n",
        "          withColumn('first_name', concat('first_name',lit(' '),'last_name')).show()"
      ],
      "metadata": {
        "colab": {
          "base_uri": "https://localhost:8080/"
        },
        "id": "wZJogB0AVSfo",
        "outputId": "574fb5cb-aab8-40c9-e1c3-6197a4605aba"
      },
      "execution_count": null,
      "outputs": [
        {
          "output_type": "stream",
          "name": "stdout",
          "text": [
            "+---+--------------+---------+\n",
            "| id|    first_name|last_name|\n",
            "+---+--------------+---------+\n",
            "|  1|   Matias Dibo|     Dibo|\n",
            "|  2|Juan Estevanez|Estevanez|\n",
            "+---+--------------+---------+\n",
            "\n"
          ]
        }
      ]
    },
    {
      "cell_type": "code",
      "source": [
        "users_df_7.select('id', 'courses').\\\n",
        "          withColumn('course_count', size('courses')).show()"
      ],
      "metadata": {
        "colab": {
          "base_uri": "https://localhost:8080/"
        },
        "id": "y1d9XEVnKeIU",
        "outputId": "55a35d61-9a41-4b07-af9f-3d30e4e5ee4f"
      },
      "execution_count": null,
      "outputs": [
        {
          "output_type": "stream",
          "name": "stdout",
          "text": [
            "+---+-------+------------+\n",
            "| id|courses|course_count|\n",
            "+---+-------+------------+\n",
            "|  1| [1, 6]|           2|\n",
            "|  2|    [3]|           1|\n",
            "+---+-------+------------+\n",
            "\n"
          ]
        }
      ]
    },
    {
      "cell_type": "markdown",
      "source": [
        "##### Naming derived columns using withColumnRenamed or alias"
      ],
      "metadata": {
        "id": "8J19gjG4cLaB"
      }
    },
    {
      "cell_type": "code",
      "source": [
        "users_df_7.select('id', 'first_name', 'last_name').\\\n",
        "          withColumnRenamed('first_name', 'fn').\\\n",
        "          withColumnRenamed('last_name', 'ln').\\\n",
        "          show()"
      ],
      "metadata": {
        "colab": {
          "base_uri": "https://localhost:8080/"
        },
        "id": "2q5c-j74KeFW",
        "outputId": "91980616-a953-483a-8c0d-43f941fb59da"
      },
      "execution_count": null,
      "outputs": [
        {
          "output_type": "stream",
          "name": "stdout",
          "text": [
            "+---+------+---------+\n",
            "| id|    fn|       ln|\n",
            "+---+------+---------+\n",
            "|  1|Matias|     Dibo|\n",
            "|  2|  Juan|Estevanez|\n",
            "+---+------+---------+\n",
            "\n"
          ]
        }
      ]
    },
    {
      "cell_type": "code",
      "source": [
        "users_df_7.select('id', col('first_name').alias('fn')\\\n",
        "                  ,col('last_name').alias('ln')).show()"
      ],
      "metadata": {
        "colab": {
          "base_uri": "https://localhost:8080/"
        },
        "id": "_RHvNpmob_0W",
        "outputId": "5c3606b2-69e2-4def-c335-6c81891f734d"
      },
      "execution_count": null,
      "outputs": [
        {
          "output_type": "stream",
          "name": "stdout",
          "text": [
            "+---+------+---------+\n",
            "| id|    fn|       ln|\n",
            "+---+------+---------+\n",
            "|  1|Matias|     Dibo|\n",
            "|  2|  Juan|Estevanez|\n",
            "+---+------+---------+\n",
            "\n"
          ]
        }
      ]
    },
    {
      "cell_type": "markdown",
      "source": [
        "##### Renaming and reordering multiple Spark dataframes"
      ],
      "metadata": {
        "id": "0oO0pSI5d-cg"
      }
    },
    {
      "cell_type": "code",
      "source": [
        "required_cols = ['id','first_name','last_name','email','phone_numbers']\n",
        "\n",
        "target_columns = ['user_id','user_first_name','user_last_name','user_mail','user_phone_numbers']\n",
        "\n",
        "users_df_7.select(required_cols)\\\n",
        "          .toDF(*target_columns)\\\n",
        "          .show(truncate=False)"
      ],
      "metadata": {
        "colab": {
          "base_uri": "https://localhost:8080/"
        },
        "id": "kyM1x48rb_xh",
        "outputId": "a996efdd-2aa7-4aae-9d0f-658b1dd804bd"
      },
      "execution_count": null,
      "outputs": [
        {
          "output_type": "stream",
          "name": "stdout",
          "text": [
            "+-------+---------------+--------------+----------------------+-------------------------------+\n",
            "|user_id|user_first_name|user_last_name|user_mail             |user_phone_numbers             |\n",
            "+-------+---------------+--------------+----------------------+-------------------------------+\n",
            "|1      |Matias         |Dibo          |cvmdibo@email.com     |[+5493512500000]               |\n",
            "|2      |Juan           |Estevanez     |cvjestevanez@email.com|[+5493512999999, +548692214553]|\n",
            "+-------+---------------+--------------+----------------------+-------------------------------+\n",
            "\n"
          ]
        }
      ]
    },
    {
      "cell_type": "markdown",
      "source": [
        "#### Manipulating columns in Spark dataframes"
      ],
      "metadata": {
        "id": "kA4WXOw8hwfE"
      }
    },
    {
      "cell_type": "markdown",
      "source": [
        "##### Pre-defined functions"
      ],
      "metadata": {
        "id": "B3TbDwzGh-Db"
      }
    },
    {
      "cell_type": "code",
      "source": [
        "order_shema = StructType(). \\\n",
        "                add('id', IntegerType()). \\\n",
        "                add('order_date', DateType()). \\\n",
        "                add('oder_customer_id', IntegerType()). \\\n",
        "                add('order_status', StringType())"
      ],
      "metadata": {
        "id": "hSKpOVzfucpv"
      },
      "execution_count": null,
      "outputs": []
    },
    {
      "cell_type": "code",
      "source": [
        "orders = spark.read.csv('/content/drive/MyDrive/retail_db-master/csv_files/orders', schema=order_shema)"
      ],
      "metadata": {
        "id": "xBBXMX4ldqSP"
      },
      "execution_count": null,
      "outputs": []
    },
    {
      "cell_type": "code",
      "source": [
        "orders.printSchema()"
      ],
      "metadata": {
        "colab": {
          "base_uri": "https://localhost:8080/"
        },
        "id": "D6fVDWhjv3q5",
        "outputId": "9caa6fa3-f8a9-4555-c817-3f7fd8283933"
      },
      "execution_count": null,
      "outputs": [
        {
          "output_type": "stream",
          "name": "stdout",
          "text": [
            "root\n",
            " |-- id: integer (nullable = true)\n",
            " |-- order_date: date (nullable = true)\n",
            " |-- oder_customer_id: integer (nullable = true)\n",
            " |-- order_status: string (nullable = true)\n",
            "\n"
          ]
        }
      ]
    },
    {
      "cell_type": "code",
      "source": [
        "orders.show(5)"
      ],
      "metadata": {
        "colab": {
          "base_uri": "https://localhost:8080/"
        },
        "id": "S7hoPi4LtSpx",
        "outputId": "0b532d79-7e2a-46a1-bd9b-d6e1f50f8539"
      },
      "execution_count": null,
      "outputs": [
        {
          "output_type": "stream",
          "name": "stdout",
          "text": [
            "+---+----------+----------------+---------------+\n",
            "| id|order_date|oder_customer_id|   order_status|\n",
            "+---+----------+----------------+---------------+\n",
            "|  1|2013-07-25|           11599|         CLOSED|\n",
            "|  2|2013-07-25|             256|PENDING_PAYMENT|\n",
            "|  3|2013-07-25|           12111|       COMPLETE|\n",
            "|  4|2013-07-25|            8827|         CLOSED|\n",
            "|  5|2013-07-25|           11318|       COMPLETE|\n",
            "+---+----------+----------------+---------------+\n",
            "only showing top 5 rows\n",
            "\n"
          ]
        }
      ]
    },
    {
      "cell_type": "code",
      "source": [
        "orders.select('*', date_format('order_date', 'yyyyMM').alias('order_month')).show(5)"
      ],
      "metadata": {
        "colab": {
          "base_uri": "https://localhost:8080/"
        },
        "id": "8Z3383FttSmI",
        "outputId": "107cf07f-204c-41fa-c933-606be1a189e9"
      },
      "execution_count": null,
      "outputs": [
        {
          "output_type": "stream",
          "name": "stdout",
          "text": [
            "+---+----------+----------------+---------------+-----------+\n",
            "| id|order_date|oder_customer_id|   order_status|order_month|\n",
            "+---+----------+----------------+---------------+-----------+\n",
            "|  1|2013-07-25|           11599|         CLOSED|     201307|\n",
            "|  2|2013-07-25|             256|PENDING_PAYMENT|     201307|\n",
            "|  3|2013-07-25|           12111|       COMPLETE|     201307|\n",
            "|  4|2013-07-25|            8827|         CLOSED|     201307|\n",
            "|  5|2013-07-25|           11318|       COMPLETE|     201307|\n",
            "+---+----------+----------------+---------------+-----------+\n",
            "only showing top 5 rows\n",
            "\n"
          ]
        }
      ]
    },
    {
      "cell_type": "code",
      "source": [
        "orders.withColumn('order_month', date_format('order_date', 'yyyyMM')).show(5)"
      ],
      "metadata": {
        "colab": {
          "base_uri": "https://localhost:8080/"
        },
        "id": "-I21Q6H_jTwb",
        "outputId": "1d855fe6-9263-4820-a586-d22c94df5cfa"
      },
      "execution_count": null,
      "outputs": [
        {
          "output_type": "stream",
          "name": "stdout",
          "text": [
            "+---+----------+----------------+---------------+-----------+\n",
            "| id|order_date|oder_customer_id|   order_status|order_month|\n",
            "+---+----------+----------------+---------------+-----------+\n",
            "|  1|2013-07-25|           11599|         CLOSED|     201307|\n",
            "|  2|2013-07-25|             256|PENDING_PAYMENT|     201307|\n",
            "|  3|2013-07-25|           12111|       COMPLETE|     201307|\n",
            "|  4|2013-07-25|            8827|         CLOSED|     201307|\n",
            "|  5|2013-07-25|           11318|       COMPLETE|     201307|\n",
            "+---+----------+----------------+---------------+-----------+\n",
            "only showing top 5 rows\n",
            "\n"
          ]
        }
      ]
    },
    {
      "cell_type": "code",
      "source": [
        "# filter data with order_date in 2014-01\n",
        "orders.filter(date_format('order_date','yyyyMM') == 201401).show(5)"
      ],
      "metadata": {
        "colab": {
          "base_uri": "https://localhost:8080/"
        },
        "id": "eSZX5Cbkp6bQ",
        "outputId": "9e5f01a2-50e3-4154-bc62-cc30419e2484"
      },
      "execution_count": null,
      "outputs": [
        {
          "output_type": "stream",
          "name": "stdout",
          "text": [
            "+-----+----------+----------------+---------------+\n",
            "|   id|order_date|oder_customer_id|   order_status|\n",
            "+-----+----------+----------------+---------------+\n",
            "|25876|2014-01-01|            3414|PENDING_PAYMENT|\n",
            "|25877|2014-01-01|            5549|PENDING_PAYMENT|\n",
            "|25878|2014-01-01|            9084|        PENDING|\n",
            "|25879|2014-01-01|            5118|        PENDING|\n",
            "|25880|2014-01-01|           10146|       CANCELED|\n",
            "+-----+----------+----------------+---------------+\n",
            "only showing top 5 rows\n",
            "\n"
          ]
        }
      ]
    },
    {
      "cell_type": "code",
      "source": [
        "orders.groupBy(date_format('order_date','yyyyMM').alias('order_month')). \\\n",
        "               count().sort(col('order_month').desc()).show(5)"
      ],
      "metadata": {
        "colab": {
          "base_uri": "https://localhost:8080/"
        },
        "id": "0rpkhd2yp6Yf",
        "outputId": "4cc14725-06db-4b44-d516-e512d22237c0"
      },
      "execution_count": null,
      "outputs": [
        {
          "output_type": "stream",
          "name": "stdout",
          "text": [
            "+-----------+-----+\n",
            "|order_month|count|\n",
            "+-----------+-----+\n",
            "|     201407| 4468|\n",
            "|     201406| 5308|\n",
            "|     201405| 5467|\n",
            "|     201404| 5657|\n",
            "|     201403| 5778|\n",
            "+-----------+-----+\n",
            "only showing top 5 rows\n",
            "\n"
          ]
        }
      ]
    },
    {
      "cell_type": "markdown",
      "source": [
        "##### Create dummy dataframe"
      ],
      "metadata": {
        "id": "77j6UAO4sK0H"
      }
    },
    {
      "cell_type": "code",
      "source": [
        "orders.select(current_date().alias('current_date')).show(5)"
      ],
      "metadata": {
        "colab": {
          "base_uri": "https://localhost:8080/"
        },
        "id": "sKqH6EY3jTrT",
        "outputId": "d8f161a7-e1bf-4f0e-885e-7c09d0419310"
      },
      "execution_count": null,
      "outputs": [
        {
          "output_type": "stream",
          "name": "stdout",
          "text": [
            "+------------+\n",
            "|current_date|\n",
            "+------------+\n",
            "|  2022-04-19|\n",
            "|  2022-04-19|\n",
            "|  2022-04-19|\n",
            "|  2022-04-19|\n",
            "|  2022-04-19|\n",
            "+------------+\n",
            "only showing top 5 rows\n",
            "\n"
          ]
        }
      ]
    },
    {
      "cell_type": "code",
      "source": [
        "employees = [(1, \"Steve\", \"Ramirez\", 1000.0, \"USA\", \"+549 35199999554\", \"35199999554\"),\n",
        "             (2, \"John\", \"Smith\", 1500.0, \"England\", \"+548 35199456987\", \"35199456987\"),\n",
        "             (3, \"Nick\", \"Warren\", 750.0, \"Australia\", \"+547 35199456666\", \"35199456666\"),\n",
        "             (4, \"Bill\", \"Clinton\", 2000.0, \"USA\", \"+549 351994784666\", \"35199478466\")]\n",
        "\n",
        "dum_schema = StructType(). \\\n",
        "              add('id', IntegerType()). \\\n",
        "              add('first_name', StringType()). \\\n",
        "              add('last_name', StringType()). \\\n",
        "              add('salary', DoubleType()).add('country', StringType()). \\\n",
        "              add('phone_number', StringType()). \\\n",
        "              add('SSN', StringType())"
      ],
      "metadata": {
        "id": "ifhpquCDdqVp"
      },
      "execution_count": null,
      "outputs": []
    },
    {
      "cell_type": "code",
      "source": [
        "dummy_df = spark.createDataFrame(employees, schema=dum_schema)"
      ],
      "metadata": {
        "id": "d8Trw0xPhOAs"
      },
      "execution_count": null,
      "outputs": []
    },
    {
      "cell_type": "code",
      "source": [
        "dummy_df.printSchema()"
      ],
      "metadata": {
        "id": "Epus6dCDhN9z",
        "colab": {
          "base_uri": "https://localhost:8080/"
        },
        "outputId": "ffb4d1a3-0dd8-4c57-b636-8ed7b1a5b139"
      },
      "execution_count": null,
      "outputs": [
        {
          "output_type": "stream",
          "name": "stdout",
          "text": [
            "root\n",
            " |-- id: integer (nullable = true)\n",
            " |-- first_name: string (nullable = true)\n",
            " |-- last_name: string (nullable = true)\n",
            " |-- salary: double (nullable = true)\n",
            " |-- country: string (nullable = true)\n",
            " |-- phone_number: string (nullable = true)\n",
            " |-- SSN: string (nullable = true)\n",
            "\n"
          ]
        }
      ]
    },
    {
      "cell_type": "code",
      "source": [
        "dummy_df.show(truncate=False)"
      ],
      "metadata": {
        "id": "A4hBUXo2dqY8",
        "colab": {
          "base_uri": "https://localhost:8080/"
        },
        "outputId": "ee2e47a9-ff3d-42a8-95e1-f4820d03a359"
      },
      "execution_count": null,
      "outputs": [
        {
          "output_type": "stream",
          "name": "stdout",
          "text": [
            "+---+----------+---------+------+---------+-----------------+-----------+\n",
            "|id |first_name|last_name|salary|country  |phone_number     |SSN        |\n",
            "+---+----------+---------+------+---------+-----------------+-----------+\n",
            "|1  |Steve     |Ramirez  |1000.0|USA      |+549 35199999554 |35199999554|\n",
            "|2  |John      |Smith    |1500.0|England  |+548 35199456987 |35199456987|\n",
            "|3  |Nick      |Warren   |750.0 |Australia|+547 35199456666 |35199456666|\n",
            "|4  |Bill      |Clinton  |2000.0|USA      |+549 351994784666|35199478466|\n",
            "+---+----------+---------+------+---------+-----------------+-----------+\n",
            "\n"
          ]
        }
      ]
    },
    {
      "cell_type": "code",
      "source": [
        "# if we want to apply a transformation using some of the functions, then passing \n",
        "# column names as STRING won't be suffice. We have to pass them as column type\n",
        "\n",
        "dummy_df.select(upper(col('first_name')).alias('first_name')\n",
        "              , upper(col('last_name')).alias('last_name')).show()"
      ],
      "metadata": {
        "id": "fqzoheDbb_um",
        "colab": {
          "base_uri": "https://localhost:8080/"
        },
        "outputId": "130a5893-5ea3-48cf-a97c-57d5b9f3e8ae"
      },
      "execution_count": null,
      "outputs": [
        {
          "output_type": "stream",
          "name": "stdout",
          "text": [
            "+----------+---------+\n",
            "|first_name|last_name|\n",
            "+----------+---------+\n",
            "|     STEVE|  RAMIREZ|\n",
            "|      JOHN|    SMITH|\n",
            "|      NICK|   WARREN|\n",
            "|      BILL|  CLINTON|\n",
            "+----------+---------+\n",
            "\n"
          ]
        }
      ]
    },
    {
      "cell_type": "code",
      "source": [
        "dummy_df.orderBy(col('last_name').desc()).show()"
      ],
      "metadata": {
        "colab": {
          "base_uri": "https://localhost:8080/"
        },
        "id": "kb3qmLR83GZr",
        "outputId": "9ec0e2a2-e700-4600-9095-416b084e1a35"
      },
      "execution_count": null,
      "outputs": [
        {
          "output_type": "stream",
          "name": "stdout",
          "text": [
            "+---+----------+---------+------+---------+-----------------+-----------+\n",
            "| id|first_name|last_name|salary|  country|     phone_number|        SSN|\n",
            "+---+----------+---------+------+---------+-----------------+-----------+\n",
            "|  3|      Nick|   Warren| 750.0|Australia| +547 35199456666|35199456666|\n",
            "|  2|      John|    Smith|1500.0|  England| +548 35199456987|35199456987|\n",
            "|  1|     Steve|  Ramirez|1000.0|      USA| +549 35199999554|35199999554|\n",
            "|  4|      Bill|  Clinton|2000.0|      USA|+549 351994784666|35199478466|\n",
            "+---+----------+---------+------+---------+-----------------+-----------+\n",
            "\n"
          ]
        }
      ]
    },
    {
      "cell_type": "code",
      "source": [
        "dummy_df.orderBy(dummy_df['last_name'].desc()).show()"
      ],
      "metadata": {
        "colab": {
          "base_uri": "https://localhost:8080/"
        },
        "id": "hBewwkgN3GTE",
        "outputId": "da87148f-7b94-4f06-d86e-f97bddbc1e19"
      },
      "execution_count": null,
      "outputs": [
        {
          "output_type": "stream",
          "name": "stdout",
          "text": [
            "+---+----------+---------+------+---------+-----------------+-----------+\n",
            "| id|first_name|last_name|salary|  country|     phone_number|        SSN|\n",
            "+---+----------+---------+------+---------+-----------------+-----------+\n",
            "|  3|      Nick|   Warren| 750.0|Australia| +547 35199456666|35199456666|\n",
            "|  2|      John|    Smith|1500.0|  England| +548 35199456987|35199456987|\n",
            "|  1|     Steve|  Ramirez|1000.0|      USA| +549 35199999554|35199999554|\n",
            "|  4|      Bill|  Clinton|2000.0|      USA|+549 351994784666|35199478466|\n",
            "+---+----------+---------+------+---------+-----------------+-----------+\n",
            "\n"
          ]
        }
      ]
    },
    {
      "cell_type": "markdown",
      "source": [
        "##### String manipulation"
      ],
      "metadata": {
        "id": "wi_g2-FnDUGY"
      }
    },
    {
      "cell_type": "code",
      "source": [
        "dummy_df.select(concat('first_name',lit(' '),'last_name').alias('full_name')).show()"
      ],
      "metadata": {
        "colab": {
          "base_uri": "https://localhost:8080/"
        },
        "id": "7i1C7IBV3GQ8",
        "outputId": "e9d4189b-d2c0-4dff-bfff-c37781ac668e"
      },
      "execution_count": null,
      "outputs": [
        {
          "output_type": "stream",
          "name": "stdout",
          "text": [
            "+-------------+\n",
            "|    full_name|\n",
            "+-------------+\n",
            "|Steve Ramirez|\n",
            "|   John Smith|\n",
            "|  Nick Warren|\n",
            "| Bill Clinton|\n",
            "+-------------+\n",
            "\n"
          ]
        }
      ]
    },
    {
      "cell_type": "code",
      "source": [
        "dummy_df.select('id', 'country'). \\\n",
        "        withColumn('country_upper', upper(col('country'))). \\\n",
        "        withColumn('country_lower', lower(col('country'))). \\\n",
        "        withColumn('country_init_cap', initcap(col('country'))). \\\n",
        "        withColumn('country_length', length('country')). \\\n",
        "        show()"
      ],
      "metadata": {
        "colab": {
          "base_uri": "https://localhost:8080/"
        },
        "id": "3QzWpu3y3GNy",
        "outputId": "ddfa3963-4e78-4852-dbc8-418f257d3a84"
      },
      "execution_count": null,
      "outputs": [
        {
          "output_type": "stream",
          "name": "stdout",
          "text": [
            "+---+---------+-------------+-------------+----------------+--------------+\n",
            "| id|  country|country_upper|country_lower|country_init_cap|country_length|\n",
            "+---+---------+-------------+-------------+----------------+--------------+\n",
            "|  1|      USA|          USA|          usa|             Usa|             3|\n",
            "|  2|  England|      ENGLAND|      england|         England|             7|\n",
            "|  3|Australia|    AUSTRALIA|    australia|       Australia|             9|\n",
            "|  4|      USA|          USA|          usa|             Usa|             3|\n",
            "+---+---------+-------------+-------------+----------------+--------------+\n",
            "\n"
          ]
        }
      ]
    },
    {
      "cell_type": "code",
      "source": [
        "dummy_df.select(substring(lit('Hello World'), 1, 5)).show(1)"
      ],
      "metadata": {
        "colab": {
          "base_uri": "https://localhost:8080/"
        },
        "id": "JKpG_4JM3GDx",
        "outputId": "60c0baf2-7c71-41ed-b45a-038ab1e2f2bb"
      },
      "execution_count": null,
      "outputs": [
        {
          "output_type": "stream",
          "name": "stdout",
          "text": [
            "+----------------------------+\n",
            "|substring(Hello World, 1, 5)|\n",
            "+----------------------------+\n",
            "|                       Hello|\n",
            "+----------------------------+\n",
            "only showing top 1 row\n",
            "\n"
          ]
        }
      ]
    },
    {
      "cell_type": "code",
      "source": [
        "dummy_df.select(substring(lit('Hello World'), -5, 5)).show(1)"
      ],
      "metadata": {
        "colab": {
          "base_uri": "https://localhost:8080/"
        },
        "id": "LJ6Re8CL3GK5",
        "outputId": "bfbf9c9a-5b3f-4092-d623-4a078012b1e3"
      },
      "execution_count": null,
      "outputs": [
        {
          "output_type": "stream",
          "name": "stdout",
          "text": [
            "+-----------------------------+\n",
            "|substring(Hello World, -5, 5)|\n",
            "+-----------------------------+\n",
            "|                        World|\n",
            "+-----------------------------+\n",
            "only showing top 1 row\n",
            "\n"
          ]
        }
      ]
    },
    {
      "cell_type": "code",
      "source": [
        "dummy_df.select('id', concat('first_name', lit(' '), 'last_name').alias('full_name'), 'phone_number') \\\n",
        "        .withColumn('country_code', substring(col('phone_number'),2, 3).cast('int')) \\\n",
        "        .show()"
      ],
      "metadata": {
        "colab": {
          "base_uri": "https://localhost:8080/"
        },
        "id": "WAj6nawlL4mc",
        "outputId": "9c333284-e1d8-4d64-d4e0-6394cfabaf29"
      },
      "execution_count": null,
      "outputs": [
        {
          "output_type": "stream",
          "name": "stdout",
          "text": [
            "+---+-------------+-----------------+------------+\n",
            "| id|    full_name|     phone_number|country_code|\n",
            "+---+-------------+-----------------+------------+\n",
            "|  1|Steve Ramirez| +549 35199999554|         549|\n",
            "|  2|   John Smith| +548 35199456987|         548|\n",
            "|  3|  Nick Warren| +547 35199456666|         547|\n",
            "|  4| Bill Clinton|+549 351994784666|         549|\n",
            "+---+-------------+-----------------+------------+\n",
            "\n"
          ]
        }
      ]
    },
    {
      "cell_type": "markdown",
      "source": [
        "##### Padding characters around strings"
      ],
      "metadata": {
        "id": "7KNo15nLjxt3"
      }
    },
    {
      "cell_type": "code",
      "source": [
        "dummy_df.select(lpad(lit('Hello'), 10, '-').alias('dummy')).show(1)"
      ],
      "metadata": {
        "colab": {
          "base_uri": "https://localhost:8080/"
        },
        "id": "e1TZryCrkvkl",
        "outputId": "ecbcc0d8-06b0-45e4-f540-2e023ab3cbf9"
      },
      "execution_count": null,
      "outputs": [
        {
          "output_type": "stream",
          "name": "stdout",
          "text": [
            "+----------+\n",
            "|     dummy|\n",
            "+----------+\n",
            "|-----Hello|\n",
            "+----------+\n",
            "only showing top 1 row\n",
            "\n"
          ]
        }
      ]
    },
    {
      "cell_type": "code",
      "source": [
        "dummy_df.select(rpad(lit('Hello'), 10, '-').alias('dummy')).show(1)"
      ],
      "metadata": {
        "colab": {
          "base_uri": "https://localhost:8080/"
        },
        "id": "_s-Mi9Qckyc7",
        "outputId": "eb0a8c87-5522-405e-d88a-d69a82c50e3b"
      },
      "execution_count": null,
      "outputs": [
        {
          "output_type": "stream",
          "name": "stdout",
          "text": [
            "+----------+\n",
            "|     dummy|\n",
            "+----------+\n",
            "|Hello-----|\n",
            "+----------+\n",
            "only showing top 1 row\n",
            "\n"
          ]
        }
      ]
    },
    {
      "cell_type": "code",
      "source": [
        "fixed_dummy_df = dummy_df.select(concat(\n",
        "    lpad(dummy_df.id, 5, '0'),\n",
        "    lit('--'), \n",
        "    rpad(dummy_df.first_name, 10, '-'),\n",
        "    rpad(dummy_df.last_name, 10, '-'),\n",
        "    lpad(dummy_df.salary, 10, '0'),\n",
        "    lit('--'),\n",
        "    rpad(dummy_df.country, 15, '-'),\n",
        "    rpad(dummy_df.phone_number, 17, '-'),\n",
        "    lit('--'),\n",
        "    dummy_df.SSN\n",
        ").alias('employee_full_record'))\n",
        "\n",
        "fixed_dummy_df.show(truncate=False)"
      ],
      "metadata": {
        "colab": {
          "base_uri": "https://localhost:8080/"
        },
        "id": "EV0Wb0rOkyZq",
        "outputId": "caacbcd7-c752-4f06-9f74-7b892d012131"
      },
      "execution_count": null,
      "outputs": [
        {
          "output_type": "stream",
          "name": "stdout",
          "text": [
            "+------------------------------------------------------------------------------------+\n",
            "|employee_full_record                                                                |\n",
            "+------------------------------------------------------------------------------------+\n",
            "|00001--Steve-----Ramirez---00001000.0--USA------------+549 35199999554---35199999554|\n",
            "|00002--John------Smith-----00001500.0--England--------+548 35199456987---35199456987|\n",
            "|00003--Nick------Warren----00000750.0--Australia------+547 35199456666---35199456666|\n",
            "|00004--Bill------Clinton---00002000.0--USA------------+549 351994784666--35199478466|\n",
            "+------------------------------------------------------------------------------------+\n",
            "\n"
          ]
        }
      ]
    },
    {
      "cell_type": "markdown",
      "source": [
        "##### Trimming characters from strings\n"
      ],
      "metadata": {
        "id": "XZCbw4ycqEsB"
      }
    },
    {
      "cell_type": "code",
      "source": [
        "s = [('   Hello.    ',)]\n",
        "\n",
        "s_df = spark.createDataFrame(s, schema='''dummy STRING''')"
      ],
      "metadata": {
        "id": "_eClSQakkvhb"
      },
      "execution_count": null,
      "outputs": []
    },
    {
      "cell_type": "code",
      "source": [
        "s_df.withColumn('ltrim', ltrim(s_df.dummy)) \\\n",
        "    .withColumn('rtrim', rtrim(s_df.dummy)) \\\n",
        "    .withColumn('trim', trim(s_df.dummy)) \\\n",
        "    .show()"
      ],
      "metadata": {
        "colab": {
          "base_uri": "https://localhost:8080/"
        },
        "id": "if62T5QqkA7w",
        "outputId": "126ee959-ec1f-461a-af5d-92d5c55511d5"
      },
      "execution_count": null,
      "outputs": [
        {
          "output_type": "stream",
          "name": "stdout",
          "text": [
            "+-------------+----------+---------+------+\n",
            "|        dummy|     ltrim|    rtrim|  trim|\n",
            "+-------------+----------+---------+------+\n",
            "|   Hello.    |Hello.    |   Hello.|Hello.|\n",
            "+-------------+----------+---------+------+\n",
            "\n"
          ]
        }
      ]
    },
    {
      "cell_type": "code",
      "source": [
        "s_df.withColumn('ltrim', ltrim(s_df.dummy)) \\\n",
        "    .withColumn('rtrim', rtrim(s_df.dummy)) \\\n",
        "    .withColumn('trim', translate(trim(s_df.dummy), '.', '')) \\\n",
        "    .show()"
      ],
      "metadata": {
        "colab": {
          "base_uri": "https://localhost:8080/"
        },
        "id": "OvNym_hduaWu",
        "outputId": "19d19fb8-dd9e-4520-b1f9-29f0351a9002"
      },
      "execution_count": null,
      "outputs": [
        {
          "output_type": "stream",
          "name": "stdout",
          "text": [
            "+-------------+----------+---------+-----+\n",
            "|        dummy|     ltrim|    rtrim| trim|\n",
            "+-------------+----------+---------+-----+\n",
            "|   Hello.    |Hello.    |   Hello.|Hello|\n",
            "+-------------+----------+---------+-----+\n",
            "\n"
          ]
        }
      ]
    },
    {
      "cell_type": "code",
      "source": [
        "s_df.withColumn('ltrim', expr(\"TRIM(LEADING ' ' FROM dummy)\")) \\\n",
        "    .withColumn('rtrim', expr(\"TRIM(TRAILING ' ' FROM dummy)\")) \\\n",
        "    .withColumn('trim', expr(\"TRIM(BOTH '.' FROM rtrim(dummy))\")) \\\n",
        "    .show()"
      ],
      "metadata": {
        "colab": {
          "base_uri": "https://localhost:8080/"
        },
        "id": "USAj5iKfkA5a",
        "outputId": "fe8fec91-fd2c-40a1-d00f-e13f2ee599dd"
      },
      "execution_count": null,
      "outputs": [
        {
          "output_type": "stream",
          "name": "stdout",
          "text": [
            "+-------------+----------+---------+--------+\n",
            "|        dummy|     ltrim|    rtrim|    trim|\n",
            "+-------------+----------+---------+--------+\n",
            "|   Hello.    |Hello.    |   Hello.|   Hello|\n",
            "+-------------+----------+---------+--------+\n",
            "\n"
          ]
        }
      ]
    },
    {
      "cell_type": "markdown",
      "source": [
        "##### Date and time manipulation"
      ],
      "metadata": {
        "id": "46bJXYS2wlqV"
      }
    },
    {
      "cell_type": "code",
      "source": [
        "s_df.select(current_date().alias('date')).show()"
      ],
      "metadata": {
        "colab": {
          "base_uri": "https://localhost:8080/"
        },
        "id": "SEgKSJxgkA3C",
        "outputId": "9d8c7c44-2194-46fe-87d0-0b3714e4da04"
      },
      "execution_count": null,
      "outputs": [
        {
          "output_type": "stream",
          "name": "stdout",
          "text": [
            "+----------+\n",
            "|      date|\n",
            "+----------+\n",
            "|2022-04-19|\n",
            "+----------+\n",
            "\n"
          ]
        }
      ]
    },
    {
      "cell_type": "code",
      "source": [
        "s_df.select(current_timestamp().alias('timestamp')).show(truncate=False)"
      ],
      "metadata": {
        "colab": {
          "base_uri": "https://localhost:8080/"
        },
        "id": "tCu1IRpHvPyg",
        "outputId": "a3373c41-f0b4-4b9c-e433-4f0eb5d8f840"
      },
      "execution_count": null,
      "outputs": [
        {
          "output_type": "stream",
          "name": "stdout",
          "text": [
            "+-----------------------+\n",
            "|timestamp              |\n",
            "+-----------------------+\n",
            "|2022-04-19 09:11:22.371|\n",
            "+-----------------------+\n",
            "\n"
          ]
        }
      ]
    },
    {
      "cell_type": "code",
      "source": [
        "s_df.select(to_date(lit('20220331'), 'yyyyMMdd').alias('date')).show()"
      ],
      "metadata": {
        "colab": {
          "base_uri": "https://localhost:8080/"
        },
        "id": "xInZI8FgvPv1",
        "outputId": "4965aa44-ed05-402e-dba0-54d7851b6ba2"
      },
      "execution_count": null,
      "outputs": [
        {
          "output_type": "stream",
          "name": "stdout",
          "text": [
            "+----------+\n",
            "|      date|\n",
            "+----------+\n",
            "|2022-03-31|\n",
            "+----------+\n",
            "\n"
          ]
        }
      ]
    },
    {
      "cell_type": "code",
      "source": [
        "s_df.select(to_timestamp(lit('20220331 2135'), 'yyyyMMdd HHmm')\\\n",
        "            .alias('date')).show()"
      ],
      "metadata": {
        "colab": {
          "base_uri": "https://localhost:8080/"
        },
        "id": "4gbXGtnAvPst",
        "outputId": "1fba496e-ff54-40b9-d838-26ab3860b546"
      },
      "execution_count": null,
      "outputs": [
        {
          "output_type": "stream",
          "name": "stdout",
          "text": [
            "+-------------------+\n",
            "|               date|\n",
            "+-------------------+\n",
            "|2022-03-31 21:35:00|\n",
            "+-------------------+\n",
            "\n"
          ]
        }
      ]
    },
    {
      "cell_type": "markdown",
      "source": [
        "##### Date and time arithmetic"
      ],
      "metadata": {
        "id": "oD5M8Ne9DeWn"
      }
    },
    {
      "cell_type": "code",
      "source": [
        "dates = [(\"2014-02-08\", \"2014-02-08 10:00:00.123\"),\n",
        "         (\"2016-02-29\", \"2016-02-29 08:08:08.999\"),\n",
        "         (\"2017-10-31\", \"2017-12-31 11:59:59.123\"),\n",
        "         (\"2019-11-30\", \"2019-08-31 00:00:00.000\")]"
      ],
      "metadata": {
        "id": "72mLR1GJjR2z"
      },
      "execution_count": null,
      "outputs": []
    },
    {
      "cell_type": "code",
      "source": [
        "date_schema = StructType(). \\\n",
        "              add('date', StringType()). \\\n",
        "              add('time', StringType())\n",
        "\n",
        "df_datetime = spark.createDataFrame(dates, schema=date_schema)"
      ],
      "metadata": {
        "id": "vCTZrnykjR0a"
      },
      "execution_count": null,
      "outputs": []
    },
    {
      "cell_type": "code",
      "source": [
        "df_datetime.withColumn('date_add', date_add('date', 10)) \\\n",
        "            .withColumn('time_add', date_add('time', 10)) \\\n",
        "            .withColumn('date_sub', date_sub('date', 10)) \\\n",
        "            .withColumn('time_sub', date_sub('time', 10)) \\\n",
        "            .show(truncate=False)"
      ],
      "metadata": {
        "colab": {
          "base_uri": "https://localhost:8080/"
        },
        "id": "qfxHVTvGEc3D",
        "outputId": "271af521-060b-45fa-b931-9a66bdeb52da"
      },
      "execution_count": null,
      "outputs": [
        {
          "output_type": "stream",
          "name": "stdout",
          "text": [
            "+----------+-----------------------+----------+----------+----------+----------+\n",
            "|date      |time                   |date_add  |time_add  |date_sub  |time_sub  |\n",
            "+----------+-----------------------+----------+----------+----------+----------+\n",
            "|2014-02-08|2014-02-08 10:00:00.123|2014-02-18|2014-02-18|2014-01-29|2014-01-29|\n",
            "|2016-02-29|2016-02-29 08:08:08.999|2016-03-10|2016-03-10|2016-02-19|2016-02-19|\n",
            "|2017-10-31|2017-12-31 11:59:59.123|2017-11-10|2018-01-10|2017-10-21|2017-12-21|\n",
            "|2019-11-30|2019-08-31 00:00:00.000|2019-12-10|2019-09-10|2019-11-20|2019-08-21|\n",
            "+----------+-----------------------+----------+----------+----------+----------+\n",
            "\n"
          ]
        }
      ]
    },
    {
      "cell_type": "code",
      "source": [
        "df_datetime.withColumn('datediff_date', datediff(current_date(), 'date')) \\\n",
        "            .withColumn('datediff_time', datediff(current_timestamp(), 'time')) \\\n",
        "            .show(truncate=False)"
      ],
      "metadata": {
        "colab": {
          "base_uri": "https://localhost:8080/"
        },
        "id": "AXikEXDzEc0R",
        "outputId": "2c421a33-a278-4a39-fa4f-9f2bde99f1af"
      },
      "execution_count": null,
      "outputs": [
        {
          "output_type": "stream",
          "name": "stdout",
          "text": [
            "+----------+-----------------------+-------------+-------------+\n",
            "|date      |time                   |datediff_date|datediff_time|\n",
            "+----------+-----------------------+-------------+-------------+\n",
            "|2014-02-08|2014-02-08 10:00:00.123|2992         |2992         |\n",
            "|2016-02-29|2016-02-29 08:08:08.999|2241         |2241         |\n",
            "|2017-10-31|2017-12-31 11:59:59.123|1631         |1570         |\n",
            "|2019-11-30|2019-08-31 00:00:00.000|871          |962          |\n",
            "+----------+-----------------------+-------------+-------------+\n",
            "\n"
          ]
        }
      ]
    },
    {
      "cell_type": "code",
      "source": [
        "df_datetime.withColumn('month_between_date', round(months_between(current_date(), 'date'), 2)) \\\n",
        "            .withColumn('month_between_time', round(months_between(current_timestamp(), 'time'), 2)) \\\n",
        "            .withColumn('add_month_date', add_months('date', 3)) \\\n",
        "            .withColumn('add_month_time', add_months('time', 3)) \\\n",
        "            .show(truncate=False)"
      ],
      "metadata": {
        "colab": {
          "base_uri": "https://localhost:8080/"
        },
        "id": "YeId4uVsHYaH",
        "outputId": "e34f62c7-526d-4eec-d56c-37f08266eb49"
      },
      "execution_count": null,
      "outputs": [
        {
          "output_type": "stream",
          "name": "stdout",
          "text": [
            "+----------+-----------------------+------------------+------------------+--------------+--------------+\n",
            "|date      |time                   |month_between_date|month_between_time|add_month_date|add_month_time|\n",
            "+----------+-----------------------+------------------+------------------+--------------+--------------+\n",
            "|2014-02-08|2014-02-08 10:00:00.123|98.35             |98.35             |2014-05-08    |2014-05-08    |\n",
            "|2016-02-29|2016-02-29 08:08:08.999|73.68             |73.68             |2016-05-29    |2016-05-29    |\n",
            "|2017-10-31|2017-12-31 11:59:59.123|53.61             |51.61             |2018-01-31    |2018-03-31    |\n",
            "|2019-11-30|2019-08-31 00:00:00.000|28.65             |31.63             |2020-02-29    |2019-11-30    |\n",
            "+----------+-----------------------+------------------+------------------+--------------+--------------+\n",
            "\n"
          ]
        }
      ]
    },
    {
      "cell_type": "markdown",
      "source": [
        "##### Date and time trunc functions"
      ],
      "metadata": {
        "id": "SApTKuSoJkPP"
      }
    },
    {
      "cell_type": "code",
      "source": [
        "df_datetime.withColumn('date_trunc', trunc('date', 'mm')) \\\n",
        "            .withColumn('time_trunc', trunc('time', 'YY')) \\\n",
        "            .show(truncate=False)"
      ],
      "metadata": {
        "colab": {
          "base_uri": "https://localhost:8080/"
        },
        "id": "PH5IKMIcHYWm",
        "outputId": "7b58a24d-2a1f-46e7-ecbf-e7b28cbdc8a2"
      },
      "execution_count": null,
      "outputs": [
        {
          "output_type": "stream",
          "name": "stdout",
          "text": [
            "+----------+-----------------------+----------+----------+\n",
            "|date      |time                   |date_trunc|time_trunc|\n",
            "+----------+-----------------------+----------+----------+\n",
            "|2014-02-08|2014-02-08 10:00:00.123|2014-02-01|2014-01-01|\n",
            "|2016-02-29|2016-02-29 08:08:08.999|2016-02-01|2016-01-01|\n",
            "|2017-10-31|2017-12-31 11:59:59.123|2017-10-01|2017-01-01|\n",
            "|2019-11-30|2019-08-31 00:00:00.000|2019-11-01|2019-01-01|\n",
            "+----------+-----------------------+----------+----------+\n",
            "\n"
          ]
        }
      ]
    },
    {
      "cell_type": "code",
      "source": [
        "df_datetime.withColumn('date_dt', date_trunc('MM', 'date')) \\\n",
        "            .withColumn('time_dt', date_trunc('YY', 'time')) \\\n",
        "            .show(truncate=False)"
      ],
      "metadata": {
        "id": "CjgBauacHXUh",
        "colab": {
          "base_uri": "https://localhost:8080/"
        },
        "outputId": "13c730ec-304e-44b0-c331-f22a8a3b2b85"
      },
      "execution_count": null,
      "outputs": [
        {
          "output_type": "stream",
          "name": "stdout",
          "text": [
            "+----------+-----------------------+-------------------+-------------------+\n",
            "|date      |time                   |date_dt            |time_dt            |\n",
            "+----------+-----------------------+-------------------+-------------------+\n",
            "|2014-02-08|2014-02-08 10:00:00.123|2014-02-01 00:00:00|2014-01-01 00:00:00|\n",
            "|2016-02-29|2016-02-29 08:08:08.999|2016-02-01 00:00:00|2016-01-01 00:00:00|\n",
            "|2017-10-31|2017-12-31 11:59:59.123|2017-10-01 00:00:00|2017-01-01 00:00:00|\n",
            "|2019-11-30|2019-08-31 00:00:00.000|2019-11-01 00:00:00|2019-01-01 00:00:00|\n",
            "+----------+-----------------------+-------------------+-------------------+\n",
            "\n"
          ]
        }
      ]
    },
    {
      "cell_type": "code",
      "source": [
        "df_datetime.withColumn('date_dt', date_trunc('HOUR', 'date')) \\\n",
        "            .withColumn('time_dt', date_trunc('HOUR', 'time')) \\\n",
        "            .withColumn('time_dt_d', date_trunc('dd', 'time')) \\\n",
        "            .show(truncate=False)"
      ],
      "metadata": {
        "colab": {
          "base_uri": "https://localhost:8080/"
        },
        "id": "5_dY2uB0HYUA",
        "outputId": "09ea1d51-2123-49cb-d0ba-3ec98efd9694"
      },
      "execution_count": null,
      "outputs": [
        {
          "output_type": "stream",
          "name": "stdout",
          "text": [
            "+----------+-----------------------+-------------------+-------------------+-------------------+\n",
            "|date      |time                   |date_dt            |time_dt            |time_dt_d          |\n",
            "+----------+-----------------------+-------------------+-------------------+-------------------+\n",
            "|2014-02-08|2014-02-08 10:00:00.123|2014-02-08 00:00:00|2014-02-08 10:00:00|2014-02-08 00:00:00|\n",
            "|2016-02-29|2016-02-29 08:08:08.999|2016-02-29 00:00:00|2016-02-29 08:00:00|2016-02-29 00:00:00|\n",
            "|2017-10-31|2017-12-31 11:59:59.123|2017-10-31 00:00:00|2017-12-31 11:00:00|2017-12-31 00:00:00|\n",
            "|2019-11-30|2019-08-31 00:00:00.000|2019-11-30 00:00:00|2019-08-31 00:00:00|2019-08-31 00:00:00|\n",
            "+----------+-----------------------+-------------------+-------------------+-------------------+\n",
            "\n"
          ]
        }
      ]
    },
    {
      "cell_type": "markdown",
      "source": [
        "##### Date and time extract functions"
      ],
      "metadata": {
        "id": "PNCIms9GPoDq"
      }
    },
    {
      "cell_type": "code",
      "source": [
        "s_df.select(\n",
        "    current_date().alias('current_date'),\n",
        "    year(current_date()).alias('current_year'),\n",
        "    month(current_date()).alias('current_month'),\n",
        "    weekofyear(current_date()).alias('weekofyear'),\n",
        "    dayofyear(current_date()).alias('dayofyear'),\n",
        "    dayofmonth(current_date()).alias('dayofmonth'),\n",
        "    dayofweek(current_date()).alias('dayofweek')\n",
        ").show(truncate=False)"
      ],
      "metadata": {
        "colab": {
          "base_uri": "https://localhost:8080/"
        },
        "id": "QoFpaBoYORJ9",
        "outputId": "794a4694-180c-4013-8052-778cf7e50c50"
      },
      "execution_count": null,
      "outputs": [
        {
          "output_type": "stream",
          "name": "stdout",
          "text": [
            "+------------+------------+-------------+----------+---------+----------+---------+\n",
            "|current_date|current_year|current_month|weekofyear|dayofyear|dayofmonth|dayofweek|\n",
            "+------------+------------+-------------+----------+---------+----------+---------+\n",
            "|2022-04-19  |2022        |4            |16        |109      |19        |3        |\n",
            "+------------+------------+-------------+----------+---------+----------+---------+\n",
            "\n"
          ]
        }
      ]
    },
    {
      "cell_type": "code",
      "source": [
        "s_df.select(\n",
        "    current_timestamp().alias('current_date'),\n",
        "    year(current_timestamp()).alias('current_year'),\n",
        "    month(current_timestamp()).alias('current_month'),\n",
        "    weekofyear(current_timestamp()).alias('weekofyear'),\n",
        "    dayofyear(current_timestamp()).alias('dayofyear'),\n",
        "    dayofmonth(current_timestamp()).alias('dayofmonth'),\n",
        "    dayofweek(current_timestamp()).alias('dayofweek'),\n",
        "    hour(current_timestamp()).alias('hour'),\n",
        "    minute(current_timestamp()).alias('minute'),\n",
        "    second(current_timestamp()).alias('second')\n",
        ").show(truncate=False)"
      ],
      "metadata": {
        "colab": {
          "base_uri": "https://localhost:8080/"
        },
        "id": "5Q3rkcucOcGv",
        "outputId": "6bb52b8a-6319-4d14-b7c7-799c54aa7703"
      },
      "execution_count": null,
      "outputs": [
        {
          "output_type": "stream",
          "name": "stdout",
          "text": [
            "+-----------------------+------------+-------------+----------+---------+----------+---------+----+------+------+\n",
            "|current_date           |current_year|current_month|weekofyear|dayofyear|dayofmonth|dayofweek|hour|minute|second|\n",
            "+-----------------------+------------+-------------+----------+---------+----------+---------+----+------+------+\n",
            "|2022-04-19 09:11:43.152|2022        |4            |16        |109      |19        |3        |9   |11    |43    |\n",
            "+-----------------------+------------+-------------+----------+---------+----------+---------+----+------+------+\n",
            "\n"
          ]
        }
      ]
    },
    {
      "cell_type": "markdown",
      "source": [
        "##### to_date and to_timestamp functions"
      ],
      "metadata": {
        "id": "7dMARZfGS5Zu"
      }
    },
    {
      "cell_type": "code",
      "source": [
        "datetimes_2 = [(20140228, '28-Feb-2014 10:00:00.123'),\n",
        "               (20160229, '20-Feb-2016 08:08:08.999'),\n",
        "               (20171031, '31-Dec-2017 11:59:59.123'),\n",
        "               (20191130, '31-Aug-2019 00:00:00.000')]"
      ],
      "metadata": {
        "id": "Nuj1d5v7NZBI"
      },
      "execution_count": null,
      "outputs": []
    },
    {
      "cell_type": "code",
      "source": [
        "df_datetime_2 = spark.createDataFrame(datetimes_2, schema='''\n",
        "                                                          date INT,\n",
        "                                                          time STRING\n",
        "                                                          ''')"
      ],
      "metadata": {
        "id": "pC4zCfd1NY7m"
      },
      "execution_count": null,
      "outputs": []
    },
    {
      "cell_type": "code",
      "source": [
        "df_datetime_2.select(to_date(lit('20220409'), 'yyyyMMdd').alias('to_date')).show(1)"
      ],
      "metadata": {
        "colab": {
          "base_uri": "https://localhost:8080/"
        },
        "id": "rWgQnqQkNY5O",
        "outputId": "be2168dd-259f-4128-ed98-ebe476ed52c8"
      },
      "execution_count": null,
      "outputs": [
        {
          "output_type": "stream",
          "name": "stdout",
          "text": [
            "+----------+\n",
            "|   to_date|\n",
            "+----------+\n",
            "|2022-04-09|\n",
            "+----------+\n",
            "only showing top 1 row\n",
            "\n"
          ]
        }
      ]
    },
    {
      "cell_type": "code",
      "source": [
        "df_datetime_2.select(to_date(lit('2022/04/09'), 'yyyy/MM/dd').alias('to_date')).show(1)"
      ],
      "metadata": {
        "colab": {
          "base_uri": "https://localhost:8080/"
        },
        "id": "xOObH7wvHXSk",
        "outputId": "f46b5e39-27b8-47ad-c345-2e6f2abc43df"
      },
      "execution_count": null,
      "outputs": [
        {
          "output_type": "stream",
          "name": "stdout",
          "text": [
            "+----------+\n",
            "|   to_date|\n",
            "+----------+\n",
            "|2022-04-09|\n",
            "+----------+\n",
            "only showing top 1 row\n",
            "\n"
          ]
        }
      ]
    },
    {
      "cell_type": "code",
      "source": [
        "df_datetime_2.select(to_date(lit('2022-Apr-09'), 'yyyy-MMM-dd').alias('to_date')).show(1)"
      ],
      "metadata": {
        "colab": {
          "base_uri": "https://localhost:8080/"
        },
        "id": "T9tCY_g_HXQD",
        "outputId": "6a05a0ac-b07f-447b-d7b8-d229170cb19e"
      },
      "execution_count": null,
      "outputs": [
        {
          "output_type": "stream",
          "name": "stdout",
          "text": [
            "+----------+\n",
            "|   to_date|\n",
            "+----------+\n",
            "|2022-04-09|\n",
            "+----------+\n",
            "only showing top 1 row\n",
            "\n"
          ]
        }
      ]
    },
    {
      "cell_type": "code",
      "source": [
        "df_datetime_2.select(to_date(lit('2022-April-09'), 'yyyy-MMMM-dd').alias('to_date')).show(1)"
      ],
      "metadata": {
        "colab": {
          "base_uri": "https://localhost:8080/"
        },
        "id": "Jy7Mbi91HXNc",
        "outputId": "205f5f7a-4310-4e35-ac00-e9577e2f5446"
      },
      "execution_count": null,
      "outputs": [
        {
          "output_type": "stream",
          "name": "stdout",
          "text": [
            "+----------+\n",
            "|   to_date|\n",
            "+----------+\n",
            "|2022-04-09|\n",
            "+----------+\n",
            "only showing top 1 row\n",
            "\n"
          ]
        }
      ]
    },
    {
      "cell_type": "code",
      "source": [
        "df_datetime_2.select(to_date(lit('April 09, 2022'), 'MMMM dd, yyyy').alias('to_date')).show(1)"
      ],
      "metadata": {
        "colab": {
          "base_uri": "https://localhost:8080/"
        },
        "id": "mjiEr_yZHXK5",
        "outputId": "4e198041-6d37-4b0a-bb34-46b665f2ee6f"
      },
      "execution_count": null,
      "outputs": [
        {
          "output_type": "stream",
          "name": "stdout",
          "text": [
            "+----------+\n",
            "|   to_date|\n",
            "+----------+\n",
            "|2022-04-09|\n",
            "+----------+\n",
            "only showing top 1 row\n",
            "\n"
          ]
        }
      ]
    },
    {
      "cell_type": "code",
      "source": [
        "df_datetime_2.show(truncate=False)"
      ],
      "metadata": {
        "colab": {
          "base_uri": "https://localhost:8080/"
        },
        "id": "lMmwZfCXddLi",
        "outputId": "3a0e0ec0-a2fd-4214-d162-b061dd12adc4"
      },
      "execution_count": null,
      "outputs": [
        {
          "output_type": "stream",
          "name": "stdout",
          "text": [
            "+--------+------------------------+\n",
            "|date    |time                    |\n",
            "+--------+------------------------+\n",
            "|20140228|28-Feb-2014 10:00:00.123|\n",
            "|20160229|20-Feb-2016 08:08:08.999|\n",
            "|20171031|31-Dec-2017 11:59:59.123|\n",
            "|20191130|31-Aug-2019 00:00:00.000|\n",
            "+--------+------------------------+\n",
            "\n"
          ]
        }
      ]
    },
    {
      "cell_type": "code",
      "source": [
        "df_datetime_2.select(to_date(col('date').cast('string'), 'yyyyMMdd').alias('date'),\n",
        "                     to_timestamp('time', 'dd-MMM-yyyy HH:mm:ss.SSS').alias('date')) \\\n",
        "                     .show(truncate=False)"
      ],
      "metadata": {
        "colab": {
          "base_uri": "https://localhost:8080/"
        },
        "id": "jrFD5VpEYllQ",
        "outputId": "339a13b7-3d11-463a-f8d0-43075d52a1e8"
      },
      "execution_count": null,
      "outputs": [
        {
          "output_type": "stream",
          "name": "stdout",
          "text": [
            "+----------+-----------------------+\n",
            "|date      |date                   |\n",
            "+----------+-----------------------+\n",
            "|2014-02-28|2014-02-28 10:00:00.123|\n",
            "|2016-02-29|2016-02-20 08:08:08.999|\n",
            "|2017-10-31|2017-12-31 11:59:59.123|\n",
            "|2019-11-30|2019-08-31 00:00:00    |\n",
            "+----------+-----------------------+\n",
            "\n"
          ]
        }
      ]
    },
    {
      "cell_type": "markdown",
      "source": [
        "##### Dealing with nulls"
      ],
      "metadata": {
        "id": "Kdi6Uckad72S"
      }
    },
    {
      "cell_type": "code",
      "source": [
        "employees_na = [(1, \"Steve\", \"Ramirez\", 1000.0, \"USA\", '15', \"+549 35199999554\", \"35199999554\"),\n",
        "             (2, \"John\", \"Smith\", 1500.0, \"England\", None, \"+548 35199456987\", \"35199456987\"),\n",
        "             (3, \"Nick\", \"Warren\", 750.0, \"Australia\", '', \"+547 35199456666\", \"35199456666\"),\n",
        "             (4, \"Bill\", \"Clinton\", 2000.0, \"USA\", None, \"+549 351994784666\", \"35199478466\")]\n",
        "\n",
        "dum_schema_na = StructType(). \\\n",
        "              add('id', IntegerType()). \\\n",
        "              add('first_name', StringType()). \\\n",
        "              add('last_name', StringType()). \\\n",
        "              add('salary', DoubleType()). \\\n",
        "              add('country', StringType()). \\\n",
        "              add('bonus', StringType()). \\\n",
        "              add('phone_number', StringType()). \\\n",
        "              add('SSN', StringType())"
      ],
      "metadata": {
        "id": "os7Sdy8uvult"
      },
      "execution_count": null,
      "outputs": []
    },
    {
      "cell_type": "code",
      "source": [
        "dummy_na_df = spark.createDataFrame(employees_na, schema=dum_schema_na)"
      ],
      "metadata": {
        "id": "_h99_Q6kjRxh"
      },
      "execution_count": null,
      "outputs": []
    },
    {
      "cell_type": "code",
      "source": [
        "dummy_na_df.show(truncate=False)"
      ],
      "metadata": {
        "colab": {
          "base_uri": "https://localhost:8080/"
        },
        "id": "V6ZIasf8vujH",
        "outputId": "90ec913c-ee39-4fed-8dee-0c3d58675bc6"
      },
      "execution_count": null,
      "outputs": [
        {
          "output_type": "stream",
          "name": "stdout",
          "text": [
            "+---+----------+---------+------+---------+-----+-----------------+-----------+\n",
            "|id |first_name|last_name|salary|country  |bonus|phone_number     |SSN        |\n",
            "+---+----------+---------+------+---------+-----+-----------------+-----------+\n",
            "|1  |Steve     |Ramirez  |1000.0|USA      |15   |+549 35199999554 |35199999554|\n",
            "|2  |John      |Smith    |1500.0|England  |null |+548 35199456987 |35199456987|\n",
            "|3  |Nick      |Warren   |750.0 |Australia|     |+547 35199456666 |35199456666|\n",
            "|4  |Bill      |Clinton  |2000.0|USA      |null |+549 351994784666|35199478466|\n",
            "+---+----------+---------+------+---------+-----+-----------------+-----------+\n",
            "\n"
          ]
        }
      ]
    },
    {
      "cell_type": "code",
      "source": [
        "# Does not return the empty string with the desired value\n",
        "dummy_na_df.withColumn('bonus1', coalesce('bonus', lit('0'))).show()"
      ],
      "metadata": {
        "id": "jAFhkPPBXuCW",
        "colab": {
          "base_uri": "https://localhost:8080/"
        },
        "outputId": "800a9309-e652-4194-e5c3-2bb9fe95e571"
      },
      "execution_count": null,
      "outputs": [
        {
          "output_type": "stream",
          "name": "stdout",
          "text": [
            "+---+----------+---------+------+---------+-----+-----------------+-----------+------+\n",
            "| id|first_name|last_name|salary|  country|bonus|     phone_number|        SSN|bonus1|\n",
            "+---+----------+---------+------+---------+-----+-----------------+-----------+------+\n",
            "|  1|     Steve|  Ramirez|1000.0|      USA|   15| +549 35199999554|35199999554|    15|\n",
            "|  2|      John|    Smith|1500.0|  England| null| +548 35199456987|35199456987|     0|\n",
            "|  3|      Nick|   Warren| 750.0|Australia|     | +547 35199456666|35199456666|      |\n",
            "|  4|      Bill|  Clinton|2000.0|      USA| null|+549 351994784666|35199478466|     0|\n",
            "+---+----------+---------+------+---------+-----+-----------------+-----------+------+\n",
            "\n"
          ]
        }
      ]
    },
    {
      "cell_type": "code",
      "source": [
        "dummy_na_df.withColumn('bonus1', col('bonus').cast('int')).show()"
      ],
      "metadata": {
        "colab": {
          "base_uri": "https://localhost:8080/"
        },
        "id": "MgkRd25c2Azk",
        "outputId": "cd03e7e8-3938-415e-8120-0a2c26ab21a1"
      },
      "execution_count": null,
      "outputs": [
        {
          "output_type": "stream",
          "name": "stdout",
          "text": [
            "+---+----------+---------+------+---------+-----+-----------------+-----------+------+\n",
            "| id|first_name|last_name|salary|  country|bonus|     phone_number|        SSN|bonus1|\n",
            "+---+----------+---------+------+---------+-----+-----------------+-----------+------+\n",
            "|  1|     Steve|  Ramirez|1000.0|      USA|   15| +549 35199999554|35199999554|    15|\n",
            "|  2|      John|    Smith|1500.0|  England| null| +548 35199456987|35199456987|  null|\n",
            "|  3|      Nick|   Warren| 750.0|Australia|     | +547 35199456666|35199456666|  null|\n",
            "|  4|      Bill|  Clinton|2000.0|      USA| null|+549 351994784666|35199478466|  null|\n",
            "+---+----------+---------+------+---------+-----+-----------------+-----------+------+\n",
            "\n"
          ]
        }
      ]
    },
    {
      "cell_type": "code",
      "source": [
        "dummy_na_df.withColumn('bonus1', coalesce(col('bonus').cast('int'), lit('0'))).show()"
      ],
      "metadata": {
        "id": "GOmEc6F8Xt_k",
        "colab": {
          "base_uri": "https://localhost:8080/"
        },
        "outputId": "2ca77147-377b-4feb-a348-9f165fa04e91"
      },
      "execution_count": null,
      "outputs": [
        {
          "output_type": "stream",
          "name": "stdout",
          "text": [
            "+---+----------+---------+------+---------+-----+-----------------+-----------+------+\n",
            "| id|first_name|last_name|salary|  country|bonus|     phone_number|        SSN|bonus1|\n",
            "+---+----------+---------+------+---------+-----+-----------------+-----------+------+\n",
            "|  1|     Steve|  Ramirez|1000.0|      USA|   15| +549 35199999554|35199999554|    15|\n",
            "|  2|      John|    Smith|1500.0|  England| null| +548 35199456987|35199456987|     0|\n",
            "|  3|      Nick|   Warren| 750.0|Australia|     | +547 35199456666|35199456666|     0|\n",
            "|  4|      Bill|  Clinton|2000.0|      USA| null|+549 351994784666|35199478466|     0|\n",
            "+---+----------+---------+------+---------+-----+-----------------+-----------+------+\n",
            "\n"
          ]
        }
      ]
    },
    {
      "cell_type": "code",
      "source": [
        "dummy_na_df.withColumn('bonus', expr('nvl(bonus, 0)')).show()"
      ],
      "metadata": {
        "id": "dAUGCSEfV-PW",
        "colab": {
          "base_uri": "https://localhost:8080/"
        },
        "outputId": "772c9acd-fb7c-4ebb-ac73-66b15f38608e"
      },
      "execution_count": null,
      "outputs": [
        {
          "output_type": "stream",
          "name": "stdout",
          "text": [
            "+---+----------+---------+------+---------+-----+-----------------+-----------+\n",
            "| id|first_name|last_name|salary|  country|bonus|     phone_number|        SSN|\n",
            "+---+----------+---------+------+---------+-----+-----------------+-----------+\n",
            "|  1|     Steve|  Ramirez|1000.0|      USA|   15| +549 35199999554|35199999554|\n",
            "|  2|      John|    Smith|1500.0|  England|    0| +548 35199456987|35199456987|\n",
            "|  3|      Nick|   Warren| 750.0|Australia|     | +547 35199456666|35199456666|\n",
            "|  4|      Bill|  Clinton|2000.0|      USA|    0|+549 351994784666|35199478466|\n",
            "+---+----------+---------+------+---------+-----+-----------------+-----------+\n",
            "\n"
          ]
        }
      ]
    },
    {
      "cell_type": "code",
      "source": [
        "dummy_na_df.withColumn('bonus', expr(\"nvl(nullif(bonus, ''), 0)\")).show()"
      ],
      "metadata": {
        "id": "1HiveSsvV-M1",
        "colab": {
          "base_uri": "https://localhost:8080/"
        },
        "outputId": "8940850e-5b2f-4833-d523-6ed42222398a"
      },
      "execution_count": null,
      "outputs": [
        {
          "output_type": "stream",
          "name": "stdout",
          "text": [
            "+---+----------+---------+------+---------+-----+-----------------+-----------+\n",
            "| id|first_name|last_name|salary|  country|bonus|     phone_number|        SSN|\n",
            "+---+----------+---------+------+---------+-----+-----------------+-----------+\n",
            "|  1|     Steve|  Ramirez|1000.0|      USA|   15| +549 35199999554|35199999554|\n",
            "|  2|      John|    Smith|1500.0|  England|    0| +548 35199456987|35199456987|\n",
            "|  3|      Nick|   Warren| 750.0|Australia|    0| +547 35199456666|35199456666|\n",
            "|  4|      Bill|  Clinton|2000.0|      USA|    0|+549 351994784666|35199478466|\n",
            "+---+----------+---------+------+---------+-----+-----------------+-----------+\n",
            "\n"
          ]
        }
      ]
    },
    {
      "cell_type": "code",
      "source": [
        "dummy_na_df.withColumn('payment', col('salary') + col('salary') * coalesce(col('bonus').cast('int'), lit(0))/100).show()"
      ],
      "metadata": {
        "colab": {
          "base_uri": "https://localhost:8080/"
        },
        "id": "_IF2CycQ4pIE",
        "outputId": "d55f8b17-a273-4b46-86f9-b4934f58c293"
      },
      "execution_count": null,
      "outputs": [
        {
          "output_type": "stream",
          "name": "stdout",
          "text": [
            "+---+----------+---------+------+---------+-----+-----------------+-----------+-------+\n",
            "| id|first_name|last_name|salary|  country|bonus|     phone_number|        SSN|payment|\n",
            "+---+----------+---------+------+---------+-----+-----------------+-----------+-------+\n",
            "|  1|     Steve|  Ramirez|1000.0|      USA|   15| +549 35199999554|35199999554| 1150.0|\n",
            "|  2|      John|    Smith|1500.0|  England| null| +548 35199456987|35199456987| 1500.0|\n",
            "|  3|      Nick|   Warren| 750.0|Australia|     | +547 35199456666|35199456666|  750.0|\n",
            "|  4|      Bill|  Clinton|2000.0|      USA| null|+549 351994784666|35199478466| 2000.0|\n",
            "+---+----------+---------+------+---------+-----+-----------------+-----------+-------+\n",
            "\n"
          ]
        }
      ]
    },
    {
      "cell_type": "markdown",
      "source": [
        "##### Using CASE WHEN"
      ],
      "metadata": {
        "id": "fqQiFQkT5fQC"
      }
    },
    {
      "cell_type": "code",
      "source": [
        "dummy_na_df.withColumn('bonus_1', coalesce(col('bonus').cast('int'), lit(0))).show()"
      ],
      "metadata": {
        "colab": {
          "base_uri": "https://localhost:8080/"
        },
        "id": "DvA-ugk04pFt",
        "outputId": "aa3396cf-c872-4a63-d28b-215ba93ecc65"
      },
      "execution_count": null,
      "outputs": [
        {
          "output_type": "stream",
          "name": "stdout",
          "text": [
            "+---+----------+---------+------+---------+-----+-----------------+-----------+-------+\n",
            "| id|first_name|last_name|salary|  country|bonus|     phone_number|        SSN|bonus_1|\n",
            "+---+----------+---------+------+---------+-----+-----------------+-----------+-------+\n",
            "|  1|     Steve|  Ramirez|1000.0|      USA|   15| +549 35199999554|35199999554|     15|\n",
            "|  2|      John|    Smith|1500.0|  England| null| +548 35199456987|35199456987|      0|\n",
            "|  3|      Nick|   Warren| 750.0|Australia|     | +547 35199456666|35199456666|      0|\n",
            "|  4|      Bill|  Clinton|2000.0|      USA| null|+549 351994784666|35199478466|      0|\n",
            "+---+----------+---------+------+---------+-----+-----------------+-----------+-------+\n",
            "\n"
          ]
        }
      ]
    },
    {
      "cell_type": "code",
      "source": [
        "dummy_na_df.withColumn('bonus_1', expr(\"\"\"\n",
        "                                        CASE WHEN bonus IS NULL or bonus = '' THEN 0\n",
        "                                             ELSE bonus END\n",
        "                                        \"\"\")).show()"
      ],
      "metadata": {
        "colab": {
          "base_uri": "https://localhost:8080/"
        },
        "id": "8_h8f6hS5jcj",
        "outputId": "73fa2828-87bf-42f7-df9e-d87dd93581f1"
      },
      "execution_count": null,
      "outputs": [
        {
          "output_type": "stream",
          "name": "stdout",
          "text": [
            "+---+----------+---------+------+---------+-----+-----------------+-----------+-------+\n",
            "| id|first_name|last_name|salary|  country|bonus|     phone_number|        SSN|bonus_1|\n",
            "+---+----------+---------+------+---------+-----+-----------------+-----------+-------+\n",
            "|  1|     Steve|  Ramirez|1000.0|      USA|   15| +549 35199999554|35199999554|     15|\n",
            "|  2|      John|    Smith|1500.0|  England| null| +548 35199456987|35199456987|      0|\n",
            "|  3|      Nick|   Warren| 750.0|Australia|     | +547 35199456666|35199456666|      0|\n",
            "|  4|      Bill|  Clinton|2000.0|      USA| null|+549 351994784666|35199478466|      0|\n",
            "+---+----------+---------+------+---------+-----+-----------------+-----------+-------+\n",
            "\n"
          ]
        }
      ]
    },
    {
      "cell_type": "code",
      "source": [
        "dummy_na_df.withColumn('bonus_1', when((dummy_na_df.bonus.isNull()) | (dummy_na_df.bonus == lit('')), 0).otherwise(col('bonus'))).show()"
      ],
      "metadata": {
        "colab": {
          "base_uri": "https://localhost:8080/"
        },
        "id": "R4mCRG7r5jaS",
        "outputId": "e7ae9b4a-c57c-467a-a14b-79eef9f9139e"
      },
      "execution_count": null,
      "outputs": [
        {
          "output_type": "stream",
          "name": "stdout",
          "text": [
            "+---+----------+---------+------+---------+-----+-----------------+-----------+-------+\n",
            "| id|first_name|last_name|salary|  country|bonus|     phone_number|        SSN|bonus_1|\n",
            "+---+----------+---------+------+---------+-----+-----------------+-----------+-------+\n",
            "|  1|     Steve|  Ramirez|1000.0|      USA|   15| +549 35199999554|35199999554|     15|\n",
            "|  2|      John|    Smith|1500.0|  England| null| +548 35199456987|35199456987|      0|\n",
            "|  3|      Nick|   Warren| 750.0|Australia|     | +547 35199456666|35199456666|      0|\n",
            "|  4|      Bill|  Clinton|2000.0|      USA| null|+549 351994784666|35199478466|      0|\n",
            "+---+----------+---------+------+---------+-----+-----------------+-----------+-------+\n",
            "\n"
          ]
        }
      ]
    },
    {
      "cell_type": "code",
      "source": [
        "persons = [(1, 1),\n",
        "           (2, 13),\n",
        "           (3, 18),\n",
        "           (4, 60),\n",
        "           (5, 120),\n",
        "           (6, 0),\n",
        "           (7, 12),\n",
        "           (8, 160)]\n",
        "\n",
        "df_persons = spark.createDataFrame(persons, schema='id INT, age_months INT')"
      ],
      "metadata": {
        "id": "qa2ZDyMF5jX6"
      },
      "execution_count": null,
      "outputs": []
    },
    {
      "cell_type": "code",
      "source": [
        "df_persons.withColumn('category', expr(\"CASE WHEN age_months BETWEEN 0 AND 2 THEN 'New Born'\\\n",
        "                                             WHEN age_months > 2 AND age_months <= 12 THEN 'Infant'\\\n",
        "                                             WHEN age_months > 12 and age_months <= 48 THEN 'Toddler'\\\n",
        "                                             WHEN age_months > 48 and age_months <= 144 THEN 'Kid'\\\n",
        "                                             ELSE 'Teenager or Adult' END\")).show()"
      ],
      "metadata": {
        "colab": {
          "base_uri": "https://localhost:8080/"
        },
        "id": "9O51wcYC4pDf",
        "outputId": "051485a5-c377-4efd-e235-b84120f06d25"
      },
      "execution_count": null,
      "outputs": [
        {
          "output_type": "stream",
          "name": "stdout",
          "text": [
            "+---+----------+-----------------+\n",
            "| id|age_months|         category|\n",
            "+---+----------+-----------------+\n",
            "|  1|         1|         New Born|\n",
            "|  2|        13|          Toddler|\n",
            "|  3|        18|          Toddler|\n",
            "|  4|        60|              Kid|\n",
            "|  5|       120|              Kid|\n",
            "|  6|         0|         New Born|\n",
            "|  7|        12|           Infant|\n",
            "|  8|       160|Teenager or Adult|\n",
            "+---+----------+-----------------+\n",
            "\n"
          ]
        }
      ]
    },
    {
      "cell_type": "code",
      "source": [
        "df_persons.withColumn('category', when(df_persons.age_months.between(0, 2), 'New Born'). \\\n",
        "                                  when((df_persons.age_months > 2) & (df_persons.age_months <= 12), 'Infant'). \\\n",
        "                                  when((df_persons.age_months > 12) & (df_persons.age_months <= 48), 'Toddler'). \\\n",
        "                                  when((df_persons.age_months > 48) & (df_persons.age_months <= 144), 'Kid'). \\\n",
        "                                  otherwise('Teenager or Adult')).show()"
      ],
      "metadata": {
        "colab": {
          "base_uri": "https://localhost:8080/"
        },
        "id": "12CyPheg4pA7",
        "outputId": "87740791-d68c-45b7-e620-770282935d21"
      },
      "execution_count": null,
      "outputs": [
        {
          "output_type": "stream",
          "name": "stdout",
          "text": [
            "+---+----------+-----------------+\n",
            "| id|age_months|         category|\n",
            "+---+----------+-----------------+\n",
            "|  1|         1|         New Born|\n",
            "|  2|        13|          Toddler|\n",
            "|  3|        18|          Toddler|\n",
            "|  4|        60|              Kid|\n",
            "|  5|       120|              Kid|\n",
            "|  6|         0|         New Born|\n",
            "|  7|        12|           Infant|\n",
            "|  8|       160|Teenager or Adult|\n",
            "+---+----------+-----------------+\n",
            "\n"
          ]
        }
      ]
    },
    {
      "cell_type": "markdown",
      "source": [
        "#### Filtering data form Spark dataframes"
      ],
      "metadata": {
        "id": "BrT3k26nLk3s"
      }
    },
    {
      "cell_type": "markdown",
      "source": [
        "##### Filter and Where functions"
      ],
      "metadata": {
        "id": "RRPC2M38LuVc"
      }
    },
    {
      "cell_type": "code",
      "source": [
        "users_df_5.show(truncate=False)"
      ],
      "metadata": {
        "colab": {
          "base_uri": "https://localhost:8080/"
        },
        "id": "mOCPQKKSLyMD",
        "outputId": "63977913-0c14-401b-8c2d-b04b39d42e6b"
      },
      "execution_count": null,
      "outputs": [
        {
          "output_type": "stream",
          "name": "stdout",
          "text": [
            "+---+----------+---------+----------------------+-------------------------------------------------+-----------+-----------+-------------------+-------------------+\n",
            "|id |first_name|last_name|email                 |phone_numbers                                    |is_customer|amount_paid|customer_from      |last_updated_ts    |\n",
            "+---+----------+---------+----------------------+-------------------------------------------------+-----------+-----------+-------------------+-------------------+\n",
            "|1  |Matias    |Dibo     |cvmdibo@email.com     |[mobile -> +5493512500000]                       |true       |1000.0     |2021-01-25 00:00:00|2021-12-03 00:00:00|\n",
            "|2  |Juan      |Estevanez|cvjestevanez@email.com|[mobile -> +5493512999999, home -> +548692214553]|true       |152.5      |2020-06-12 00:00:00|2022-01-04 00:00:00|\n",
            "+---+----------+---------+----------------------+-------------------------------------------------+-----------+-----------+-------------------+-------------------+\n",
            "\n"
          ]
        }
      ]
    },
    {
      "cell_type": "code",
      "source": [
        "users_df_5.filter(users_df_5.id == 1).show()"
      ],
      "metadata": {
        "colab": {
          "base_uri": "https://localhost:8080/"
        },
        "id": "IjELFWYbLf1-",
        "outputId": "5bf27535-be6a-4021-e365-9372f7a95194"
      },
      "execution_count": null,
      "outputs": [
        {
          "output_type": "stream",
          "name": "stdout",
          "text": [
            "+---+----------+---------+-----------------+--------------------+-----------+-----------+-------------------+-------------------+\n",
            "| id|first_name|last_name|            email|       phone_numbers|is_customer|amount_paid|      customer_from|    last_updated_ts|\n",
            "+---+----------+---------+-----------------+--------------------+-----------+-----------+-------------------+-------------------+\n",
            "|  1|    Matias|     Dibo|cvmdibo@email.com|[mobile -> +54935...|       true|     1000.0|2021-01-25 00:00:00|2021-12-03 00:00:00|\n",
            "+---+----------+---------+-----------------+--------------------+-----------+-----------+-------------------+-------------------+\n",
            "\n"
          ]
        }
      ]
    },
    {
      "cell_type": "code",
      "source": [
        "users_df_5.where('id = 2').show()"
      ],
      "metadata": {
        "colab": {
          "base_uri": "https://localhost:8080/"
        },
        "id": "XONi3llvLfzm",
        "outputId": "b447ec46-76a1-4bcb-9036-2d5b6c7d4205"
      },
      "execution_count": null,
      "outputs": [
        {
          "output_type": "stream",
          "name": "stdout",
          "text": [
            "+---+----------+---------+--------------------+--------------------+-----------+-----------+-------------------+-------------------+\n",
            "| id|first_name|last_name|               email|       phone_numbers|is_customer|amount_paid|      customer_from|    last_updated_ts|\n",
            "+---+----------+---------+--------------------+--------------------+-----------+-----------+-------------------+-------------------+\n",
            "|  2|      Juan|Estevanez|cvjestevanez@emai...|[mobile -> +54935...|       true|      152.5|2020-06-12 00:00:00|2022-01-04 00:00:00|\n",
            "+---+----------+---------+--------------------+--------------------+-----------+-----------+-------------------+-------------------+\n",
            "\n"
          ]
        }
      ]
    },
    {
      "cell_type": "code",
      "source": [
        "users_df_5.where(\"first_name LIKE 'J%'\").show()"
      ],
      "metadata": {
        "colab": {
          "base_uri": "https://localhost:8080/"
        },
        "id": "uSzta6eSLfu-",
        "outputId": "99f2c1db-d683-4bcc-e011-492628d04dfc"
      },
      "execution_count": null,
      "outputs": [
        {
          "output_type": "stream",
          "name": "stdout",
          "text": [
            "+---+----------+---------+--------------------+--------------------+-----------+-----------+-------------------+-------------------+\n",
            "| id|first_name|last_name|               email|       phone_numbers|is_customer|amount_paid|      customer_from|    last_updated_ts|\n",
            "+---+----------+---------+--------------------+--------------------+-----------+-----------+-------------------+-------------------+\n",
            "|  2|      Juan|Estevanez|cvjestevanez@emai...|[mobile -> +54935...|       true|      152.5|2020-06-12 00:00:00|2022-01-04 00:00:00|\n",
            "+---+----------+---------+--------------------+--------------------+-----------+-----------+-------------------+-------------------+\n",
            "\n"
          ]
        }
      ]
    },
    {
      "cell_type": "code",
      "source": [
        "users_df_5.createOrReplaceTempView('users')"
      ],
      "metadata": {
        "id": "dcWfb00fLfsr"
      },
      "execution_count": null,
      "outputs": []
    },
    {
      "cell_type": "code",
      "source": [
        "spark.sql(\"\"\"\n",
        "          SELECT *\n",
        "          FROM users\n",
        "          WHERE first_name LIKE 'J%'\n",
        "          \"\"\").show()"
      ],
      "metadata": {
        "colab": {
          "base_uri": "https://localhost:8080/"
        },
        "id": "honP08ReLfp-",
        "outputId": "2fef80dc-0962-425a-f7a0-44da2edc3348"
      },
      "execution_count": null,
      "outputs": [
        {
          "output_type": "stream",
          "name": "stdout",
          "text": [
            "+---+----------+---------+--------------------+--------------------+-----------+-----------+-------------------+-------------------+\n",
            "| id|first_name|last_name|               email|       phone_numbers|is_customer|amount_paid|      customer_from|    last_updated_ts|\n",
            "+---+----------+---------+--------------------+--------------------+-----------+-----------+-------------------+-------------------+\n",
            "|  2|      Juan|Estevanez|cvjestevanez@emai...|[mobile -> +54935...|       true|      152.5|2020-06-12 00:00:00|2022-01-04 00:00:00|\n",
            "+---+----------+---------+--------------------+--------------------+-----------+-----------+-------------------+-------------------+\n",
            "\n"
          ]
        }
      ]
    },
    {
      "cell_type": "markdown",
      "source": [
        "##### Filtering using conditions"
      ],
      "metadata": {
        "id": "e5k4_QOUXIOY"
      }
    },
    {
      "cell_type": "code",
      "source": [
        "user_8 = [\n",
        "        {'id':1,\n",
        "         'first_name':'Matias',\n",
        "         'last_name':'Dibo',\n",
        "         'email':'cvmdibo@email.com',\n",
        "         'phone_numbers':{'mobile':'+5493512500000'},\n",
        "         'city': '',\n",
        "         'is_customer':True,\n",
        "         'amount_paid':1000.0,\n",
        "         'customer_from':datetime.datetime(2021,1,25),\n",
        "         'last_updated_ts':datetime.datetime(2021,12,3)},\n",
        "        \n",
        "        {'id':2,\n",
        "         'first_name':'Juan',\n",
        "         'last_name':'Estevanez',\n",
        "         'email':'cvjestevanez@email.com',\n",
        "         'phone_numbers':{'mobile':'+5493512999999', 'home':'+548692214553'},\n",
        "         'city': None,\n",
        "         'is_customer':True,\n",
        "         'amount_paid':152.5,\n",
        "         'customer_from':datetime.datetime(2020,6,12),\n",
        "         'last_updated_ts':datetime.datetime(2022,1,4)},\n",
        "          \n",
        "        {'id':3,\n",
        "         'first_name':'Alejandro',\n",
        "         'last_name':'Perez',\n",
        "         'email':'cvaperez@email.com',\n",
        "         'phone_numbers':{'mobile':'+5493512999555', 'home':'+548692214773'},\n",
        "         'city': 'Los Angeles',\n",
        "         'is_customer':False,\n",
        "         'amount_paid':None,\n",
        "         'customer_from':None,\n",
        "         'last_updated_ts':datetime.datetime(2022,1,31)}\n",
        "]\n",
        "\n",
        "users_df_8 = spark.createDataFrame([Row(**i) for i in user_8])"
      ],
      "metadata": {
        "id": "DFQixyfNF9Z8"
      },
      "execution_count": null,
      "outputs": []
    },
    {
      "cell_type": "code",
      "source": [
        "users_df_8.where(users_df_8['is_customer'] == False).show()"
      ],
      "metadata": {
        "colab": {
          "base_uri": "https://localhost:8080/"
        },
        "id": "GQcZadV1ZEgm",
        "outputId": "4b416813-91b1-41fd-e29f-369f6b828e34"
      },
      "execution_count": null,
      "outputs": [
        {
          "output_type": "stream",
          "name": "stdout",
          "text": [
            "+---+----------+---------+------------------+--------------------+-----------+-----------+-----------+-------------+-------------------+\n",
            "| id|first_name|last_name|             email|       phone_numbers|       city|is_customer|amount_paid|customer_from|    last_updated_ts|\n",
            "+---+----------+---------+------------------+--------------------+-----------+-----------+-----------+-------------+-------------------+\n",
            "|  3| Alejandro|    Perez|cvaperez@email.com|[mobile -> +54935...|Los Angeles|      false|       null|         null|2022-01-31 00:00:00|\n",
            "+---+----------+---------+------------------+--------------------+-----------+-----------+-----------+-------------+-------------------+\n",
            "\n"
          ]
        }
      ]
    },
    {
      "cell_type": "code",
      "source": [
        "users_df_8.where('is_customer = True').show()"
      ],
      "metadata": {
        "colab": {
          "base_uri": "https://localhost:8080/"
        },
        "id": "b07zinMlZEW3",
        "outputId": "a3355039-e496-402d-a911-4c67347f2e10"
      },
      "execution_count": null,
      "outputs": [
        {
          "output_type": "stream",
          "name": "stdout",
          "text": [
            "+---+----------+---------+--------------------+--------------------+----+-----------+-----------+-------------------+-------------------+\n",
            "| id|first_name|last_name|               email|       phone_numbers|city|is_customer|amount_paid|      customer_from|    last_updated_ts|\n",
            "+---+----------+---------+--------------------+--------------------+----+-----------+-----------+-------------------+-------------------+\n",
            "|  1|    Matias|     Dibo|   cvmdibo@email.com|[mobile -> +54935...|    |       true|     1000.0|2021-01-25 00:00:00|2021-12-03 00:00:00|\n",
            "|  2|      Juan|Estevanez|cvjestevanez@emai...|[mobile -> +54935...|null|       true|      152.5|2020-06-12 00:00:00|2022-01-04 00:00:00|\n",
            "+---+----------+---------+--------------------+--------------------+----+-----------+-----------+-------------------+-------------------+\n",
            "\n"
          ]
        }
      ]
    },
    {
      "cell_type": "code",
      "source": [
        "users_df_8.createOrReplaceTempView('users')"
      ],
      "metadata": {
        "id": "keaJaFlIGecC"
      },
      "execution_count": null,
      "outputs": []
    },
    {
      "cell_type": "code",
      "source": [
        "spark.sql(\"\"\"\n",
        "          SELECT *\n",
        "          FROM users\n",
        "          WHERE is_customer = True and (first_name LIKE 'J%' OR first_name LIKE 'A%')\n",
        "          \"\"\").show()"
      ],
      "metadata": {
        "colab": {
          "base_uri": "https://localhost:8080/"
        },
        "id": "mSkup9AKDI2u",
        "outputId": "10c48c12-8f37-426d-c835-4e9c2cce2998"
      },
      "execution_count": null,
      "outputs": [
        {
          "output_type": "stream",
          "name": "stdout",
          "text": [
            "+---+----------+---------+--------------------+--------------------+----+-----------+-----------+-------------------+-------------------+\n",
            "| id|first_name|last_name|               email|       phone_numbers|city|is_customer|amount_paid|      customer_from|    last_updated_ts|\n",
            "+---+----------+---------+--------------------+--------------------+----+-----------+-----------+-------------------+-------------------+\n",
            "|  2|      Juan|Estevanez|cvjestevanez@emai...|[mobile -> +54935...|null|       true|      152.5|2020-06-12 00:00:00|2022-01-04 00:00:00|\n",
            "+---+----------+---------+--------------------+--------------------+----+-----------+-----------+-------------------+-------------------+\n",
            "\n"
          ]
        }
      ]
    },
    {
      "cell_type": "code",
      "source": [
        "users_df_8.where((col('customer_from') >= '2020-06-05') & (col('customer_from') <= '2021-01-01')).show()"
      ],
      "metadata": {
        "colab": {
          "base_uri": "https://localhost:8080/"
        },
        "id": "GIdTVUzUDI0K",
        "outputId": "7f80a146-ab3a-4d11-c78c-dbd3a5d777ba"
      },
      "execution_count": null,
      "outputs": [
        {
          "output_type": "stream",
          "name": "stdout",
          "text": [
            "+---+----------+---------+--------------------+--------------------+----+-----------+-----------+-------------------+-------------------+\n",
            "| id|first_name|last_name|               email|       phone_numbers|city|is_customer|amount_paid|      customer_from|    last_updated_ts|\n",
            "+---+----------+---------+--------------------+--------------------+----+-----------+-----------+-------------------+-------------------+\n",
            "|  2|      Juan|Estevanez|cvjestevanez@emai...|[mobile -> +54935...|null|       true|      152.5|2020-06-12 00:00:00|2022-01-04 00:00:00|\n",
            "+---+----------+---------+--------------------+--------------------+----+-----------+-----------+-------------------+-------------------+\n",
            "\n"
          ]
        }
      ]
    },
    {
      "cell_type": "code",
      "source": [
        "users_df_8.where(col('customer_from') != '2020-06-12').show()"
      ],
      "metadata": {
        "colab": {
          "base_uri": "https://localhost:8080/"
        },
        "id": "mxXi-IbUDIxz",
        "outputId": "52c505cf-69d4-46e9-fea1-cef46e0bf3d2"
      },
      "execution_count": null,
      "outputs": [
        {
          "output_type": "stream",
          "name": "stdout",
          "text": [
            "+---+----------+---------+-----------------+--------------------+----+-----------+-----------+-------------------+-------------------+\n",
            "| id|first_name|last_name|            email|       phone_numbers|city|is_customer|amount_paid|      customer_from|    last_updated_ts|\n",
            "+---+----------+---------+-----------------+--------------------+----+-----------+-----------+-------------------+-------------------+\n",
            "|  1|    Matias|     Dibo|cvmdibo@email.com|[mobile -> +54935...|    |       true|     1000.0|2021-01-25 00:00:00|2021-12-03 00:00:00|\n",
            "+---+----------+---------+-----------------+--------------------+----+-----------+-----------+-------------------+-------------------+\n",
            "\n"
          ]
        }
      ]
    },
    {
      "cell_type": "code",
      "source": [
        "users_df_8.where(col('amount_paid') == 1000).show()"
      ],
      "metadata": {
        "colab": {
          "base_uri": "https://localhost:8080/"
        },
        "id": "_iyzltAjDIvU",
        "outputId": "575f7853-207b-46bf-9ae4-ac1db636e2f5"
      },
      "execution_count": null,
      "outputs": [
        {
          "output_type": "stream",
          "name": "stdout",
          "text": [
            "+---+----------+---------+-----------------+--------------------+----+-----------+-----------+-------------------+-------------------+\n",
            "| id|first_name|last_name|            email|       phone_numbers|city|is_customer|amount_paid|      customer_from|    last_updated_ts|\n",
            "+---+----------+---------+-----------------+--------------------+----+-----------+-----------+-------------------+-------------------+\n",
            "|  1|    Matias|     Dibo|cvmdibo@email.com|[mobile -> +54935...|    |       true|     1000.0|2021-01-25 00:00:00|2021-12-03 00:00:00|\n",
            "+---+----------+---------+-----------------+--------------------+----+-----------+-----------+-------------------+-------------------+\n",
            "\n"
          ]
        }
      ]
    },
    {
      "cell_type": "code",
      "source": [
        "users_df_8.where(col('amount_paid') != '1000').show()"
      ],
      "metadata": {
        "colab": {
          "base_uri": "https://localhost:8080/"
        },
        "id": "hR9h8RrsDIsq",
        "outputId": "2064b1b0-2223-4b88-ded7-f9a15cbd47c8"
      },
      "execution_count": null,
      "outputs": [
        {
          "output_type": "stream",
          "name": "stdout",
          "text": [
            "+---+----------+---------+--------------------+--------------------+----+-----------+-----------+-------------------+-------------------+\n",
            "| id|first_name|last_name|               email|       phone_numbers|city|is_customer|amount_paid|      customer_from|    last_updated_ts|\n",
            "+---+----------+---------+--------------------+--------------------+----+-----------+-----------+-------------------+-------------------+\n",
            "|  2|      Juan|Estevanez|cvjestevanez@emai...|[mobile -> +54935...|null|       true|      152.5|2020-06-12 00:00:00|2022-01-04 00:00:00|\n",
            "+---+----------+---------+--------------------+--------------------+----+-----------+-----------+-------------------+-------------------+\n",
            "\n"
          ]
        }
      ]
    },
    {
      "cell_type": "code",
      "source": [
        "users_df_8.where(isnull('amount_paid') | isnan('amount_paid')).show()"
      ],
      "metadata": {
        "colab": {
          "base_uri": "https://localhost:8080/"
        },
        "id": "mxpB-AY9Lfnu",
        "outputId": "9e1a8185-34c9-4634-9f3a-c1f796006d28"
      },
      "execution_count": null,
      "outputs": [
        {
          "output_type": "stream",
          "name": "stdout",
          "text": [
            "+---+----------+---------+------------------+--------------------+-----------+-----------+-----------+-------------+-------------------+\n",
            "| id|first_name|last_name|             email|       phone_numbers|       city|is_customer|amount_paid|customer_from|    last_updated_ts|\n",
            "+---+----------+---------+------------------+--------------------+-----------+-----------+-----------+-------------+-------------------+\n",
            "|  3| Alejandro|    Perez|cvaperez@email.com|[mobile -> +54935...|Los Angeles|      false|       null|         null|2022-01-31 00:00:00|\n",
            "+---+----------+---------+------------------+--------------------+-----------+-----------+-----------+-------------+-------------------+\n",
            "\n"
          ]
        }
      ]
    },
    {
      "cell_type": "code",
      "source": [
        "users_df_8.where(\"amount_paid IS NULL AND first_name ='Alejandro'\").show()"
      ],
      "metadata": {
        "colab": {
          "base_uri": "https://localhost:8080/"
        },
        "id": "Lb6ZoKFRG2Ib",
        "outputId": "4489efc8-b92a-4be7-a191-eba65013821b"
      },
      "execution_count": null,
      "outputs": [
        {
          "output_type": "stream",
          "name": "stdout",
          "text": [
            "+---+----------+---------+------------------+--------------------+-----------+-----------+-----------+-------------+-------------------+\n",
            "| id|first_name|last_name|             email|       phone_numbers|       city|is_customer|amount_paid|customer_from|    last_updated_ts|\n",
            "+---+----------+---------+------------------+--------------------+-----------+-----------+-----------+-------------+-------------------+\n",
            "|  3| Alejandro|    Perez|cvaperez@email.com|[mobile -> +54935...|Los Angeles|      false|       null|         null|2022-01-31 00:00:00|\n",
            "+---+----------+---------+------------------+--------------------+-----------+-----------+-----------+-------------+-------------------+\n",
            "\n"
          ]
        }
      ]
    },
    {
      "cell_type": "code",
      "source": [
        "users_df_8.show(truncate=False)"
      ],
      "metadata": {
        "colab": {
          "base_uri": "https://localhost:8080/"
        },
        "id": "a5LoldJ2Ho3Y",
        "outputId": "31775340-078d-498b-80ca-8c4349d006cd"
      },
      "execution_count": null,
      "outputs": [
        {
          "output_type": "stream",
          "name": "stdout",
          "text": [
            "+---+----------+---------+----------------------+-------------------------------------------------+-----------+-----------+-----------+-------------------+-------------------+\n",
            "|id |first_name|last_name|email                 |phone_numbers                                    |city       |is_customer|amount_paid|customer_from      |last_updated_ts    |\n",
            "+---+----------+---------+----------------------+-------------------------------------------------+-----------+-----------+-----------+-------------------+-------------------+\n",
            "|1  |Matias    |Dibo     |cvmdibo@email.com     |[mobile -> +5493512500000]                       |           |true       |1000.0     |2021-01-25 00:00:00|2021-12-03 00:00:00|\n",
            "|2  |Juan      |Estevanez|cvjestevanez@email.com|[mobile -> +5493512999999, home -> +548692214553]|null       |true       |152.5      |2020-06-12 00:00:00|2022-01-04 00:00:00|\n",
            "|3  |Alejandro |Perez    |cvaperez@email.com    |[mobile -> +5493512999555, home -> +548692214773]|Los Angeles|false      |null       |null               |2022-01-31 00:00:00|\n",
            "+---+----------+---------+----------------------+-------------------------------------------------+-----------+-----------+-----------+-------------------+-------------------+\n",
            "\n"
          ]
        }
      ]
    },
    {
      "cell_type": "code",
      "source": [
        "users_df_8.where(\"last_updated_ts BETWEEN '2022-01' AND '2022-03'\").show()"
      ],
      "metadata": {
        "colab": {
          "base_uri": "https://localhost:8080/"
        },
        "id": "7CdNhiPgG2FO",
        "outputId": "7e15c1c6-4bc9-4d5a-b0ab-0d3b898d0ef8"
      },
      "execution_count": null,
      "outputs": [
        {
          "output_type": "stream",
          "name": "stdout",
          "text": [
            "+---+----------+---------+--------------------+--------------------+-----------+-----------+-----------+-------------------+-------------------+\n",
            "| id|first_name|last_name|               email|       phone_numbers|       city|is_customer|amount_paid|      customer_from|    last_updated_ts|\n",
            "+---+----------+---------+--------------------+--------------------+-----------+-----------+-----------+-------------------+-------------------+\n",
            "|  2|      Juan|Estevanez|cvjestevanez@emai...|[mobile -> +54935...|       null|       true|      152.5|2020-06-12 00:00:00|2022-01-04 00:00:00|\n",
            "|  3| Alejandro|    Perez|  cvaperez@email.com|[mobile -> +54935...|Los Angeles|      false|       null|               null|2022-01-31 00:00:00|\n",
            "+---+----------+---------+--------------------+--------------------+-----------+-----------+-----------+-------------------+-------------------+\n",
            "\n"
          ]
        }
      ]
    },
    {
      "cell_type": "code",
      "source": [
        "users_df_8.where(col('last_updated_ts').between('2022-01','2022-03')).show()"
      ],
      "metadata": {
        "colab": {
          "base_uri": "https://localhost:8080/"
        },
        "id": "6dFHEGk-G2Cf",
        "outputId": "87fe2c53-c92b-4795-c342-2ec536c052d4"
      },
      "execution_count": null,
      "outputs": [
        {
          "output_type": "stream",
          "name": "stdout",
          "text": [
            "+---+----------+---------+--------------------+--------------------+-----------+-----------+-----------+-------------------+-------------------+\n",
            "| id|first_name|last_name|               email|       phone_numbers|       city|is_customer|amount_paid|      customer_from|    last_updated_ts|\n",
            "+---+----------+---------+--------------------+--------------------+-----------+-----------+-----------+-------------------+-------------------+\n",
            "|  2|      Juan|Estevanez|cvjestevanez@emai...|[mobile -> +54935...|       null|       true|      152.5|2020-06-12 00:00:00|2022-01-04 00:00:00|\n",
            "|  3| Alejandro|    Perez|  cvaperez@email.com|[mobile -> +54935...|Los Angeles|      false|       null|               null|2022-01-31 00:00:00|\n",
            "+---+----------+---------+--------------------+--------------------+-----------+-----------+-----------+-------------------+-------------------+\n",
            "\n"
          ]
        }
      ]
    },
    {
      "cell_type": "code",
      "source": [
        "users_df_8.where(~isnull('amount_paid')).show()"
      ],
      "metadata": {
        "colab": {
          "base_uri": "https://localhost:8080/"
        },
        "id": "hZGCS-zlLflc",
        "outputId": "b4c11f04-8edd-4b4d-f0d6-de0435e43200"
      },
      "execution_count": null,
      "outputs": [
        {
          "output_type": "stream",
          "name": "stdout",
          "text": [
            "+---+----------+---------+--------------------+--------------------+----+-----------+-----------+-------------------+-------------------+\n",
            "| id|first_name|last_name|               email|       phone_numbers|city|is_customer|amount_paid|      customer_from|    last_updated_ts|\n",
            "+---+----------+---------+--------------------+--------------------+----+-----------+-----------+-------------------+-------------------+\n",
            "|  1|    Matias|     Dibo|   cvmdibo@email.com|[mobile -> +54935...|    |       true|     1000.0|2021-01-25 00:00:00|2021-12-03 00:00:00|\n",
            "|  2|      Juan|Estevanez|cvjestevanez@emai...|[mobile -> +54935...|null|       true|      152.5|2020-06-12 00:00:00|2022-01-04 00:00:00|\n",
            "+---+----------+---------+--------------------+--------------------+----+-----------+-----------+-------------------+-------------------+\n",
            "\n"
          ]
        }
      ]
    },
    {
      "cell_type": "code",
      "source": [
        "users_df_8.where(col('amount_paid').isNotNull()).show()"
      ],
      "metadata": {
        "colab": {
          "base_uri": "https://localhost:8080/"
        },
        "id": "_Ddke3DpLikC",
        "outputId": "f870e163-32a0-4cb4-ef6e-edf2a87d0415"
      },
      "execution_count": null,
      "outputs": [
        {
          "output_type": "stream",
          "name": "stdout",
          "text": [
            "+---+----------+---------+--------------------+--------------------+----+-----------+-----------+-------------------+-------------------+\n",
            "| id|first_name|last_name|               email|       phone_numbers|city|is_customer|amount_paid|      customer_from|    last_updated_ts|\n",
            "+---+----------+---------+--------------------+--------------------+----+-----------+-----------+-------------------+-------------------+\n",
            "|  1|    Matias|     Dibo|   cvmdibo@email.com|[mobile -> +54935...|    |       true|     1000.0|2021-01-25 00:00:00|2021-12-03 00:00:00|\n",
            "|  2|      Juan|Estevanez|cvjestevanez@emai...|[mobile -> +54935...|null|       true|      152.5|2020-06-12 00:00:00|2022-01-04 00:00:00|\n",
            "+---+----------+---------+--------------------+--------------------+----+-----------+-----------+-------------------+-------------------+\n",
            "\n"
          ]
        }
      ]
    },
    {
      "cell_type": "code",
      "source": [
        "users_df_8.where(\"amount_paid IS NOT NULL\").show()"
      ],
      "metadata": {
        "colab": {
          "base_uri": "https://localhost:8080/"
        },
        "id": "Flce78y4Kz1e",
        "outputId": "40ba4d93-f4ec-46f4-d089-5f8ead4be5ab"
      },
      "execution_count": null,
      "outputs": [
        {
          "output_type": "stream",
          "name": "stdout",
          "text": [
            "+---+----------+---------+--------------------+--------------------+----+-----------+-----------+-------------------+-------------------+\n",
            "| id|first_name|last_name|               email|       phone_numbers|city|is_customer|amount_paid|      customer_from|    last_updated_ts|\n",
            "+---+----------+---------+--------------------+--------------------+----+-----------+-----------+-------------------+-------------------+\n",
            "|  1|    Matias|     Dibo|   cvmdibo@email.com|[mobile -> +54935...|    |       true|     1000.0|2021-01-25 00:00:00|2021-12-03 00:00:00|\n",
            "|  2|      Juan|Estevanez|cvjestevanez@emai...|[mobile -> +54935...|null|       true|      152.5|2020-06-12 00:00:00|2022-01-04 00:00:00|\n",
            "+---+----------+---------+--------------------+--------------------+----+-----------+-----------+-------------------+-------------------+\n",
            "\n"
          ]
        }
      ]
    },
    {
      "cell_type": "code",
      "source": [
        "users_df_8.where((col('city') == '') | (col('city').isNull())).show()"
      ],
      "metadata": {
        "colab": {
          "base_uri": "https://localhost:8080/"
        },
        "id": "38osIYWkKzy5",
        "outputId": "791cf521-c926-469d-e2bf-cc25bdd9e4ab"
      },
      "execution_count": null,
      "outputs": [
        {
          "output_type": "stream",
          "name": "stdout",
          "text": [
            "+---+----------+---------+--------------------+--------------------+----+-----------+-----------+-------------------+-------------------+\n",
            "| id|first_name|last_name|               email|       phone_numbers|city|is_customer|amount_paid|      customer_from|    last_updated_ts|\n",
            "+---+----------+---------+--------------------+--------------------+----+-----------+-----------+-------------------+-------------------+\n",
            "|  1|    Matias|     Dibo|   cvmdibo@email.com|[mobile -> +54935...|    |       true|     1000.0|2021-01-25 00:00:00|2021-12-03 00:00:00|\n",
            "|  2|      Juan|Estevanez|cvjestevanez@emai...|[mobile -> +54935...|null|       true|      152.5|2020-06-12 00:00:00|2022-01-04 00:00:00|\n",
            "+---+----------+---------+--------------------+--------------------+----+-----------+-----------+-------------------+-------------------+\n",
            "\n"
          ]
        }
      ]
    },
    {
      "cell_type": "code",
      "source": [
        "users_df_8.where(\"(city = '') OR (city IS NULL)\").show()"
      ],
      "metadata": {
        "colab": {
          "base_uri": "https://localhost:8080/"
        },
        "id": "irh3X5HtKzwG",
        "outputId": "a49a9445-673a-4030-e65d-dd29fb64b4fe"
      },
      "execution_count": null,
      "outputs": [
        {
          "output_type": "stream",
          "name": "stdout",
          "text": [
            "+---+----------+---------+--------------------+--------------------+----+-----------+-----------+-------------------+-------------------+\n",
            "| id|first_name|last_name|               email|       phone_numbers|city|is_customer|amount_paid|      customer_from|    last_updated_ts|\n",
            "+---+----------+---------+--------------------+--------------------+----+-----------+-----------+-------------------+-------------------+\n",
            "|  1|    Matias|     Dibo|   cvmdibo@email.com|[mobile -> +54935...|    |       true|     1000.0|2021-01-25 00:00:00|2021-12-03 00:00:00|\n",
            "|  2|      Juan|Estevanez|cvjestevanez@emai...|[mobile -> +54935...|null|       true|      152.5|2020-06-12 00:00:00|2022-01-04 00:00:00|\n",
            "+---+----------+---------+--------------------+--------------------+----+-----------+-----------+-------------------+-------------------+\n",
            "\n"
          ]
        }
      ]
    },
    {
      "cell_type": "code",
      "source": [
        "users_df_8.where(col('city').isin('Los Angeles')).show()"
      ],
      "metadata": {
        "colab": {
          "base_uri": "https://localhost:8080/"
        },
        "id": "XVMgUCaQQ2sh",
        "outputId": "ccd8d802-b1a2-4c2e-ee42-49af8cf721e3"
      },
      "execution_count": null,
      "outputs": [
        {
          "output_type": "stream",
          "name": "stdout",
          "text": [
            "+---+----------+---------+------------------+--------------------+-----------+-----------+-----------+-------------+-------------------+\n",
            "| id|first_name|last_name|             email|       phone_numbers|       city|is_customer|amount_paid|customer_from|    last_updated_ts|\n",
            "+---+----------+---------+------------------+--------------------+-----------+-----------+-----------+-------------+-------------------+\n",
            "|  3| Alejandro|    Perez|cvaperez@email.com|[mobile -> +54935...|Los Angeles|      false|       null|         null|2022-01-31 00:00:00|\n",
            "+---+----------+---------+------------------+--------------------+-----------+-----------+-----------+-------------+-------------------+\n",
            "\n"
          ]
        }
      ]
    },
    {
      "cell_type": "code",
      "source": [
        "users_df_8.where(\"city IN ('Los Angeles','')\").show()"
      ],
      "metadata": {
        "colab": {
          "base_uri": "https://localhost:8080/"
        },
        "id": "FqJ_peQ8Q2qV",
        "outputId": "a74b16cb-4c3c-4a63-c962-7a98968cc24f"
      },
      "execution_count": null,
      "outputs": [
        {
          "output_type": "stream",
          "name": "stdout",
          "text": [
            "+---+----------+---------+------------------+--------------------+-----------+-----------+-----------+-------------------+-------------------+\n",
            "| id|first_name|last_name|             email|       phone_numbers|       city|is_customer|amount_paid|      customer_from|    last_updated_ts|\n",
            "+---+----------+---------+------------------+--------------------+-----------+-----------+-----------+-------------------+-------------------+\n",
            "|  1|    Matias|     Dibo| cvmdibo@email.com|[mobile -> +54935...|           |       true|     1000.0|2021-01-25 00:00:00|2021-12-03 00:00:00|\n",
            "|  3| Alejandro|    Perez|cvaperez@email.com|[mobile -> +54935...|Los Angeles|      false|       null|               null|2022-01-31 00:00:00|\n",
            "+---+----------+---------+------------------+--------------------+-----------+-----------+-----------+-------------------+-------------------+\n",
            "\n"
          ]
        }
      ]
    },
    {
      "cell_type": "code",
      "source": [
        "users_df_8.where((col('amount_paid') > 150) & ((isnan(col('city'))) | (~isnull(col('city'))))).show()"
      ],
      "metadata": {
        "colab": {
          "base_uri": "https://localhost:8080/"
        },
        "id": "vPEOhuyFQ2nC",
        "outputId": "7b49799b-e551-487f-8072-57d956138106"
      },
      "execution_count": null,
      "outputs": [
        {
          "output_type": "stream",
          "name": "stdout",
          "text": [
            "+---+----------+---------+-----------------+--------------------+----+-----------+-----------+-------------------+-------------------+\n",
            "| id|first_name|last_name|            email|       phone_numbers|city|is_customer|amount_paid|      customer_from|    last_updated_ts|\n",
            "+---+----------+---------+-----------------+--------------------+----+-----------+-----------+-------------------+-------------------+\n",
            "|  1|    Matias|     Dibo|cvmdibo@email.com|[mobile -> +54935...|    |       true|     1000.0|2021-01-25 00:00:00|2021-12-03 00:00:00|\n",
            "+---+----------+---------+-----------------+--------------------+----+-----------+-----------+-------------------+-------------------+\n",
            "\n"
          ]
        }
      ]
    },
    {
      "cell_type": "code",
      "source": [
        "users_df_8.where((col('amount_paid') > 150) & ((isnan(col('city'))) | (isnull(col('city')) == False))).show()"
      ],
      "metadata": {
        "colab": {
          "base_uri": "https://localhost:8080/"
        },
        "id": "vJfiC4RIUiIs",
        "outputId": "9f10ea91-8ea3-468b-8a76-3af2845f64e7"
      },
      "execution_count": null,
      "outputs": [
        {
          "output_type": "stream",
          "name": "stdout",
          "text": [
            "+---+----------+---------+-----------------+--------------------+----+-----------+-----------+-------------------+-------------------+\n",
            "| id|first_name|last_name|            email|       phone_numbers|city|is_customer|amount_paid|      customer_from|    last_updated_ts|\n",
            "+---+----------+---------+-----------------+--------------------+----+-----------+-----------+-------------------+-------------------+\n",
            "|  1|    Matias|     Dibo|cvmdibo@email.com|[mobile -> +54935...|    |       true|     1000.0|2021-01-25 00:00:00|2021-12-03 00:00:00|\n",
            "+---+----------+---------+-----------------+--------------------+----+-----------+-----------+-------------------+-------------------+\n",
            "\n"
          ]
        }
      ]
    },
    {
      "cell_type": "code",
      "source": [
        "users_df_8.where(\"amount_paid > 150 AND city IS NOT NULL\").show()"
      ],
      "metadata": {
        "colab": {
          "base_uri": "https://localhost:8080/"
        },
        "id": "7tsMK6RRSAxH",
        "outputId": "529a377c-7e3b-445e-884c-384bda5cd7c3"
      },
      "execution_count": null,
      "outputs": [
        {
          "output_type": "stream",
          "name": "stdout",
          "text": [
            "+---+----------+---------+-----------------+--------------------+----+-----------+-----------+-------------------+-------------------+\n",
            "| id|first_name|last_name|            email|       phone_numbers|city|is_customer|amount_paid|      customer_from|    last_updated_ts|\n",
            "+---+----------+---------+-----------------+--------------------+----+-----------+-----------+-------------------+-------------------+\n",
            "|  1|    Matias|     Dibo|cvmdibo@email.com|[mobile -> +54935...|    |       true|     1000.0|2021-01-25 00:00:00|2021-12-03 00:00:00|\n",
            "+---+----------+---------+-----------------+--------------------+----+-----------+-----------+-------------------+-------------------+\n",
            "\n"
          ]
        }
      ]
    },
    {
      "cell_type": "markdown",
      "source": [
        "#### Dropping columns from Spark dataframes"
      ],
      "metadata": {
        "id": "PnUlrjm2W25C"
      }
    },
    {
      "cell_type": "markdown",
      "source": [
        "##### Droping a single column from a dataframe"
      ],
      "metadata": {
        "id": "14w3dHygW69b"
      }
    },
    {
      "cell_type": "code",
      "source": [
        "users_df_8.drop('email').columns"
      ],
      "metadata": {
        "colab": {
          "base_uri": "https://localhost:8080/"
        },
        "id": "GzDrMTc9SAt8",
        "outputId": "c9e44b19-4d26-48f4-a580-6de091990390"
      },
      "execution_count": null,
      "outputs": [
        {
          "output_type": "execute_result",
          "data": {
            "text/plain": [
              "['id',\n",
              " 'first_name',\n",
              " 'last_name',\n",
              " 'phone_numbers',\n",
              " 'city',\n",
              " 'is_customer',\n",
              " 'amount_paid',\n",
              " 'customer_from',\n",
              " 'last_updated_ts']"
            ]
          },
          "metadata": {},
          "execution_count": 194
        }
      ]
    },
    {
      "cell_type": "code",
      "source": [
        "users_df_8.drop(users_df_8.email).columns"
      ],
      "metadata": {
        "colab": {
          "base_uri": "https://localhost:8080/"
        },
        "id": "d5Dr810LXj-f",
        "outputId": "01ba3895-f851-4f1c-aba3-0c1629a923ec"
      },
      "execution_count": null,
      "outputs": [
        {
          "output_type": "execute_result",
          "data": {
            "text/plain": [
              "['id',\n",
              " 'first_name',\n",
              " 'last_name',\n",
              " 'phone_numbers',\n",
              " 'city',\n",
              " 'is_customer',\n",
              " 'amount_paid',\n",
              " 'customer_from',\n",
              " 'last_updated_ts']"
            ]
          },
          "metadata": {},
          "execution_count": 195
        }
      ]
    },
    {
      "cell_type": "markdown",
      "source": [
        "##### Droping multiple columns from a dataframe"
      ],
      "metadata": {
        "id": "lJQ2kcVhYAh6"
      }
    },
    {
      "cell_type": "code",
      "source": [
        "users_df_8.drop('email','city').columns"
      ],
      "metadata": {
        "colab": {
          "base_uri": "https://localhost:8080/"
        },
        "id": "y_DkCdxSXj8N",
        "outputId": "93314c76-ebae-40ee-9b9b-8f50dcc9b85e"
      },
      "execution_count": null,
      "outputs": [
        {
          "output_type": "execute_result",
          "data": {
            "text/plain": [
              "['id',\n",
              " 'first_name',\n",
              " 'last_name',\n",
              " 'phone_numbers',\n",
              " 'is_customer',\n",
              " 'amount_paid',\n",
              " 'customer_from',\n",
              " 'last_updated_ts']"
            ]
          },
          "metadata": {},
          "execution_count": 196
        }
      ]
    },
    {
      "cell_type": "markdown",
      "source": [
        "##### Droping list of columns from a dataframe"
      ],
      "metadata": {
        "id": "hSEg83FeZYz7"
      }
    },
    {
      "cell_type": "code",
      "source": [
        "drop_list = ['email','city']\n",
        "\n",
        "users_df_8.drop(*drop_list).columns"
      ],
      "metadata": {
        "colab": {
          "base_uri": "https://localhost:8080/"
        },
        "id": "n3_TbMjIXj5Z",
        "outputId": "b1ec0511-d1bb-4aba-f17a-e798d1ae8d56"
      },
      "execution_count": null,
      "outputs": [
        {
          "output_type": "execute_result",
          "data": {
            "text/plain": [
              "['id',\n",
              " 'first_name',\n",
              " 'last_name',\n",
              " 'phone_numbers',\n",
              " 'is_customer',\n",
              " 'amount_paid',\n",
              " 'customer_from',\n",
              " 'last_updated_ts']"
            ]
          },
          "metadata": {},
          "execution_count": 197
        }
      ]
    },
    {
      "cell_type": "markdown",
      "source": [
        "##### Droping duplicate records from a dataframe"
      ],
      "metadata": {
        "id": "my7zSp-3bElx"
      }
    },
    {
      "cell_type": "code",
      "source": [
        " user_duplicated = [\n",
        "        {'id':1,\n",
        "         'first_name':'Matias',\n",
        "         'last_name':'Dibo',\n",
        "         'email':'cvmdibo@email.com',\n",
        "         'phone_numbers':{'mobile':'+5493512500000'},\n",
        "         'city': '',\n",
        "         'is_customer':True,\n",
        "         'amount_paid':1000.0,\n",
        "         'customer_from':datetime.datetime(2021,1,25),\n",
        "         'last_updated_ts':datetime.datetime(2021,12,3)},\n",
        "        \n",
        "        {'id':2,\n",
        "         'first_name':'Juan',\n",
        "         'last_name':'Estevanez',\n",
        "         'email':'cvjestevanez@email.com',\n",
        "         'phone_numbers':{'mobile':'+5493512999999', 'home':'+548692214553'},\n",
        "         'city': None,\n",
        "         'is_customer':True,\n",
        "         'amount_paid':152.5,\n",
        "         'customer_from':datetime.datetime(2020,6,12),\n",
        "         'last_updated_ts':datetime.datetime(2022,1,4)},\n",
        "\n",
        "        {'id':2,\n",
        "         'first_name':'Juan',\n",
        "         'last_name':'Estevanez',\n",
        "         'email':'cvjestevanez@email.com',\n",
        "         'phone_numbers':{'mobile':'+5493512999999', 'home':'+548692214553'},\n",
        "         'city': None,\n",
        "         'is_customer':True,\n",
        "         'amount_paid':152.5,\n",
        "         'customer_from':datetime.datetime(2020,6,12),\n",
        "         'last_updated_ts':datetime.datetime(2022,1,4)},\n",
        "          \n",
        "        {'id':3,\n",
        "         'first_name':'Alejandro',\n",
        "         'last_name':'Perez',\n",
        "         'email':'cvaperez@email.com',\n",
        "         'phone_numbers':{'mobile':'+5493512999555', 'home':'+548692214773'},\n",
        "         'city': 'Los Angeles',\n",
        "         'is_customer':False,\n",
        "         'amount_paid':None,\n",
        "         'customer_from':None,\n",
        "         'last_updated_ts':datetime.datetime(2022,1,31)},\n",
        "\n",
        "        {'id':None,\n",
        "         'first_name':None,\n",
        "         'last_name':None,\n",
        "         'email':None,\n",
        "         'phone_numbers':None,\n",
        "         'city': None,\n",
        "         'is_customer':None,\n",
        "         'amount_paid':None,\n",
        "         'customer_from':None,\n",
        "         'last_updated_ts':None},\n",
        "\n",
        "        {'id':4,\n",
        "         'first_name':'Santiago',\n",
        "         'last_name':'Rosas',\n",
        "         'email':'cvsrosas@email.com',\n",
        "         'phone_numbers':{'mobile':'+5493512999444', 'home':'+548692214443'},\n",
        "         'city': 'New York',\n",
        "         'is_customer':False,\n",
        "         'amount_paid':500.0,\n",
        "         'customer_from':None,\n",
        "         'last_updated_ts':datetime.datetime(2022,1,31)}\n",
        "]\n",
        "\n",
        "users_df_duplicated = spark.createDataFrame([Row(**i) for i in user_duplicated])"
      ],
      "metadata": {
        "id": "eeI49D4eXj2i"
      },
      "execution_count": null,
      "outputs": []
    },
    {
      "cell_type": "code",
      "source": [
        "users_df_duplicated.show()"
      ],
      "metadata": {
        "colab": {
          "base_uri": "https://localhost:8080/"
        },
        "id": "ofpmCpUNXjzi",
        "outputId": "c239ce02-5704-40bd-a530-302e83a69e6d"
      },
      "execution_count": null,
      "outputs": [
        {
          "output_type": "stream",
          "name": "stdout",
          "text": [
            "+----+----------+---------+--------------------+--------------------+-----------+-----------+-----------+-------------------+-------------------+\n",
            "|  id|first_name|last_name|               email|       phone_numbers|       city|is_customer|amount_paid|      customer_from|    last_updated_ts|\n",
            "+----+----------+---------+--------------------+--------------------+-----------+-----------+-----------+-------------------+-------------------+\n",
            "|   1|    Matias|     Dibo|   cvmdibo@email.com|[mobile -> +54935...|           |       true|     1000.0|2021-01-25 00:00:00|2021-12-03 00:00:00|\n",
            "|   2|      Juan|Estevanez|cvjestevanez@emai...|[mobile -> +54935...|       null|       true|      152.5|2020-06-12 00:00:00|2022-01-04 00:00:00|\n",
            "|   2|      Juan|Estevanez|cvjestevanez@emai...|[mobile -> +54935...|       null|       true|      152.5|2020-06-12 00:00:00|2022-01-04 00:00:00|\n",
            "|   3| Alejandro|    Perez|  cvaperez@email.com|[mobile -> +54935...|Los Angeles|      false|       null|               null|2022-01-31 00:00:00|\n",
            "|null|      null|     null|                null|                null|       null|       null|       null|               null|               null|\n",
            "|   4|  Santiago|    Rosas|  cvsrosas@email.com|[mobile -> +54935...|   New York|      false|      500.0|               null|2022-01-31 00:00:00|\n",
            "+----+----------+---------+--------------------+--------------------+-----------+-----------+-----------+-------------------+-------------------+\n",
            "\n"
          ]
        }
      ]
    },
    {
      "cell_type": "code",
      "source": [
        "users_df_duplicated.drop_duplicates(['id']).orderBy('id').show()"
      ],
      "metadata": {
        "colab": {
          "base_uri": "https://localhost:8080/"
        },
        "id": "JztFLMU7cS0A",
        "outputId": "996ade64-8aec-47be-acdc-e5e999978f5b"
      },
      "execution_count": null,
      "outputs": [
        {
          "output_type": "stream",
          "name": "stdout",
          "text": [
            "+----+----------+---------+--------------------+--------------------+-----------+-----------+-----------+-------------------+-------------------+\n",
            "|  id|first_name|last_name|               email|       phone_numbers|       city|is_customer|amount_paid|      customer_from|    last_updated_ts|\n",
            "+----+----------+---------+--------------------+--------------------+-----------+-----------+-----------+-------------------+-------------------+\n",
            "|null|      null|     null|                null|                null|       null|       null|       null|               null|               null|\n",
            "|   1|    Matias|     Dibo|   cvmdibo@email.com|[mobile -> +54935...|           |       true|     1000.0|2021-01-25 00:00:00|2021-12-03 00:00:00|\n",
            "|   2|      Juan|Estevanez|cvjestevanez@emai...|[mobile -> +54935...|       null|       true|      152.5|2020-06-12 00:00:00|2022-01-04 00:00:00|\n",
            "|   3| Alejandro|    Perez|  cvaperez@email.com|[mobile -> +54935...|Los Angeles|      false|       null|               null|2022-01-31 00:00:00|\n",
            "|   4|  Santiago|    Rosas|  cvsrosas@email.com|[mobile -> +54935...|   New York|      false|      500.0|               null|2022-01-31 00:00:00|\n",
            "+----+----------+---------+--------------------+--------------------+-----------+-----------+-----------+-------------------+-------------------+\n",
            "\n"
          ]
        }
      ]
    },
    {
      "cell_type": "code",
      "source": [
        "users_df_duplicated.dropDuplicates(['is_customer','customer_from']).orderBy('id').show()"
      ],
      "metadata": {
        "colab": {
          "base_uri": "https://localhost:8080/"
        },
        "id": "PDsuoV4scSxY",
        "outputId": "04d2f997-13bd-42b5-a4b7-5dee357c1119"
      },
      "execution_count": null,
      "outputs": [
        {
          "output_type": "stream",
          "name": "stdout",
          "text": [
            "+----+----------+---------+--------------------+--------------------+-----------+-----------+-----------+-------------------+-------------------+\n",
            "|  id|first_name|last_name|               email|       phone_numbers|       city|is_customer|amount_paid|      customer_from|    last_updated_ts|\n",
            "+----+----------+---------+--------------------+--------------------+-----------+-----------+-----------+-------------------+-------------------+\n",
            "|null|      null|     null|                null|                null|       null|       null|       null|               null|               null|\n",
            "|   1|    Matias|     Dibo|   cvmdibo@email.com|[mobile -> +54935...|           |       true|     1000.0|2021-01-25 00:00:00|2021-12-03 00:00:00|\n",
            "|   2|      Juan|Estevanez|cvjestevanez@emai...|[mobile -> +54935...|       null|       true|      152.5|2020-06-12 00:00:00|2022-01-04 00:00:00|\n",
            "|   3| Alejandro|    Perez|  cvaperez@email.com|[mobile -> +54935...|Los Angeles|      false|       null|               null|2022-01-31 00:00:00|\n",
            "+----+----------+---------+--------------------+--------------------+-----------+-----------+-----------+-------------------+-------------------+\n",
            "\n"
          ]
        }
      ]
    },
    {
      "cell_type": "markdown",
      "source": [
        "##### Droping null records from a dataframe"
      ],
      "metadata": {
        "id": "tDHkZHVcbUNu"
      }
    },
    {
      "cell_type": "code",
      "source": [
        "users_df_duplicated.na.drop(how='any').show()"
      ],
      "metadata": {
        "colab": {
          "base_uri": "https://localhost:8080/"
        },
        "id": "j5tzz71IgRGr",
        "outputId": "97d15e86-10d6-42d5-a500-65df3a9a5e23"
      },
      "execution_count": null,
      "outputs": [
        {
          "output_type": "stream",
          "name": "stdout",
          "text": [
            "+---+----------+---------+-----------------+--------------------+----+-----------+-----------+-------------------+-------------------+\n",
            "| id|first_name|last_name|            email|       phone_numbers|city|is_customer|amount_paid|      customer_from|    last_updated_ts|\n",
            "+---+----------+---------+-----------------+--------------------+----+-----------+-----------+-------------------+-------------------+\n",
            "|  1|    Matias|     Dibo|cvmdibo@email.com|[mobile -> +54935...|    |       true|     1000.0|2021-01-25 00:00:00|2021-12-03 00:00:00|\n",
            "+---+----------+---------+-----------------+--------------------+----+-----------+-----------+-------------------+-------------------+\n",
            "\n"
          ]
        }
      ]
    },
    {
      "cell_type": "code",
      "source": [
        "users_df_duplicated.dropna(how='any').show()"
      ],
      "metadata": {
        "colab": {
          "base_uri": "https://localhost:8080/"
        },
        "id": "goM2c3mughBw",
        "outputId": "62362e7f-2912-477c-d236-4949ab811054"
      },
      "execution_count": null,
      "outputs": [
        {
          "output_type": "stream",
          "name": "stdout",
          "text": [
            "+---+----------+---------+-----------------+--------------------+----+-----------+-----------+-------------------+-------------------+\n",
            "| id|first_name|last_name|            email|       phone_numbers|city|is_customer|amount_paid|      customer_from|    last_updated_ts|\n",
            "+---+----------+---------+-----------------+--------------------+----+-----------+-----------+-------------------+-------------------+\n",
            "|  1|    Matias|     Dibo|cvmdibo@email.com|[mobile -> +54935...|    |       true|     1000.0|2021-01-25 00:00:00|2021-12-03 00:00:00|\n",
            "+---+----------+---------+-----------------+--------------------+----+-----------+-----------+-------------------+-------------------+\n",
            "\n"
          ]
        }
      ]
    },
    {
      "cell_type": "code",
      "source": [
        "users_df_duplicated.na.drop(how='all').show()"
      ],
      "metadata": {
        "colab": {
          "base_uri": "https://localhost:8080/"
        },
        "id": "mChPlilrKztY",
        "outputId": "6d2b7e74-08a2-4aa3-cfea-1d38b6b8807c"
      },
      "execution_count": null,
      "outputs": [
        {
          "output_type": "stream",
          "name": "stdout",
          "text": [
            "+---+----------+---------+--------------------+--------------------+-----------+-----------+-----------+-------------------+-------------------+\n",
            "| id|first_name|last_name|               email|       phone_numbers|       city|is_customer|amount_paid|      customer_from|    last_updated_ts|\n",
            "+---+----------+---------+--------------------+--------------------+-----------+-----------+-----------+-------------------+-------------------+\n",
            "|  1|    Matias|     Dibo|   cvmdibo@email.com|[mobile -> +54935...|           |       true|     1000.0|2021-01-25 00:00:00|2021-12-03 00:00:00|\n",
            "|  2|      Juan|Estevanez|cvjestevanez@emai...|[mobile -> +54935...|       null|       true|      152.5|2020-06-12 00:00:00|2022-01-04 00:00:00|\n",
            "|  2|      Juan|Estevanez|cvjestevanez@emai...|[mobile -> +54935...|       null|       true|      152.5|2020-06-12 00:00:00|2022-01-04 00:00:00|\n",
            "|  3| Alejandro|    Perez|  cvaperez@email.com|[mobile -> +54935...|Los Angeles|      false|       null|               null|2022-01-31 00:00:00|\n",
            "|  4|  Santiago|    Rosas|  cvsrosas@email.com|[mobile -> +54935...|   New York|      false|      500.0|               null|2022-01-31 00:00:00|\n",
            "+---+----------+---------+--------------------+--------------------+-----------+-----------+-----------+-------------------+-------------------+\n",
            "\n"
          ]
        }
      ]
    },
    {
      "cell_type": "code",
      "source": [
        "users_df_duplicated.dropna(how='any').show()"
      ],
      "metadata": {
        "colab": {
          "base_uri": "https://localhost:8080/"
        },
        "id": "F_ICOb8PLfi_",
        "outputId": "a340dba7-86a6-4efe-8384-9d63f3245d15"
      },
      "execution_count": null,
      "outputs": [
        {
          "output_type": "stream",
          "name": "stdout",
          "text": [
            "+---+----------+---------+-----------------+--------------------+----+-----------+-----------+-------------------+-------------------+\n",
            "| id|first_name|last_name|            email|       phone_numbers|city|is_customer|amount_paid|      customer_from|    last_updated_ts|\n",
            "+---+----------+---------+-----------------+--------------------+----+-----------+-----------+-------------------+-------------------+\n",
            "|  1|    Matias|     Dibo|cvmdibo@email.com|[mobile -> +54935...|    |       true|     1000.0|2021-01-25 00:00:00|2021-12-03 00:00:00|\n",
            "+---+----------+---------+-----------------+--------------------+----+-----------+-----------+-------------------+-------------------+\n",
            "\n"
          ]
        }
      ]
    },
    {
      "cell_type": "code",
      "source": [
        "users_df_duplicated.na.drop(how='all', subset=['city']).show()"
      ],
      "metadata": {
        "colab": {
          "base_uri": "https://localhost:8080/"
        },
        "id": "PzPfi1tSg2bx",
        "outputId": "eb38e2b6-eb0d-4442-826f-f30adcb9d5c3"
      },
      "execution_count": null,
      "outputs": [
        {
          "output_type": "stream",
          "name": "stdout",
          "text": [
            "+---+----------+---------+------------------+--------------------+-----------+-----------+-----------+-------------------+-------------------+\n",
            "| id|first_name|last_name|             email|       phone_numbers|       city|is_customer|amount_paid|      customer_from|    last_updated_ts|\n",
            "+---+----------+---------+------------------+--------------------+-----------+-----------+-----------+-------------------+-------------------+\n",
            "|  1|    Matias|     Dibo| cvmdibo@email.com|[mobile -> +54935...|           |       true|     1000.0|2021-01-25 00:00:00|2021-12-03 00:00:00|\n",
            "|  3| Alejandro|    Perez|cvaperez@email.com|[mobile -> +54935...|Los Angeles|      false|       null|               null|2022-01-31 00:00:00|\n",
            "|  4|  Santiago|    Rosas|cvsrosas@email.com|[mobile -> +54935...|   New York|      false|      500.0|               null|2022-01-31 00:00:00|\n",
            "+---+----------+---------+------------------+--------------------+-----------+-----------+-----------+-------------------+-------------------+\n",
            "\n"
          ]
        }
      ]
    },
    {
      "cell_type": "markdown",
      "source": [
        "#### Sorting data in Spark dataframes"
      ],
      "metadata": {
        "id": "Bs4GtEIqe9d5"
      }
    },
    {
      "cell_type": "markdown",
      "source": [
        "##### Sort Spark dataframes in ascending or descending order by a given column"
      ],
      "metadata": {
        "id": "VTz2PCfrhsQq"
      }
    },
    {
      "cell_type": "code",
      "source": [
        "users_df_8.orderBy('first_name', ascending=False).show()"
      ],
      "metadata": {
        "colab": {
          "base_uri": "https://localhost:8080/"
        },
        "id": "QEG9t5gFhvTO",
        "outputId": "4031230d-8fde-463f-8fd3-5ac2d68a1bd0"
      },
      "execution_count": null,
      "outputs": [
        {
          "output_type": "stream",
          "name": "stdout",
          "text": [
            "+---+----------+---------+--------------------+--------------------+-----------+-----------+-----------+-------------------+-------------------+\n",
            "| id|first_name|last_name|               email|       phone_numbers|       city|is_customer|amount_paid|      customer_from|    last_updated_ts|\n",
            "+---+----------+---------+--------------------+--------------------+-----------+-----------+-----------+-------------------+-------------------+\n",
            "|  1|    Matias|     Dibo|   cvmdibo@email.com|[mobile -> +54935...|           |       true|     1000.0|2021-01-25 00:00:00|2021-12-03 00:00:00|\n",
            "|  2|      Juan|Estevanez|cvjestevanez@emai...|[mobile -> +54935...|       null|       true|      152.5|2020-06-12 00:00:00|2022-01-04 00:00:00|\n",
            "|  3| Alejandro|    Perez|  cvaperez@email.com|[mobile -> +54935...|Los Angeles|      false|       null|               null|2022-01-31 00:00:00|\n",
            "+---+----------+---------+--------------------+--------------------+-----------+-----------+-----------+-------------------+-------------------+\n",
            "\n"
          ]
        }
      ]
    },
    {
      "cell_type": "code",
      "source": [
        "users_df_8.orderBy(users_df_8.first_name.desc()).show()"
      ],
      "metadata": {
        "colab": {
          "base_uri": "https://localhost:8080/"
        },
        "id": "W9HYr8sHhvKv",
        "outputId": "35c746c3-8e53-4f89-9435-688967763c3f"
      },
      "execution_count": null,
      "outputs": [
        {
          "output_type": "stream",
          "name": "stdout",
          "text": [
            "+---+----------+---------+--------------------+--------------------+-----------+-----------+-----------+-------------------+-------------------+\n",
            "| id|first_name|last_name|               email|       phone_numbers|       city|is_customer|amount_paid|      customer_from|    last_updated_ts|\n",
            "+---+----------+---------+--------------------+--------------------+-----------+-----------+-----------+-------------------+-------------------+\n",
            "|  1|    Matias|     Dibo|   cvmdibo@email.com|[mobile -> +54935...|           |       true|     1000.0|2021-01-25 00:00:00|2021-12-03 00:00:00|\n",
            "|  2|      Juan|Estevanez|cvjestevanez@emai...|[mobile -> +54935...|       null|       true|      152.5|2020-06-12 00:00:00|2022-01-04 00:00:00|\n",
            "|  3| Alejandro|    Perez|  cvaperez@email.com|[mobile -> +54935...|Los Angeles|      false|       null|               null|2022-01-31 00:00:00|\n",
            "+---+----------+---------+--------------------+--------------------+-----------+-----------+-----------+-------------------+-------------------+\n",
            "\n"
          ]
        }
      ]
    },
    {
      "cell_type": "code",
      "source": [
        "users_df_8.sort('customer_from').show()"
      ],
      "metadata": {
        "colab": {
          "base_uri": "https://localhost:8080/"
        },
        "id": "dCkhI9iQhvHs",
        "outputId": "685b7ace-92e3-4e32-d7d6-ffa67f8f16b6"
      },
      "execution_count": null,
      "outputs": [
        {
          "output_type": "stream",
          "name": "stdout",
          "text": [
            "+---+----------+---------+--------------------+--------------------+-----------+-----------+-----------+-------------------+-------------------+\n",
            "| id|first_name|last_name|               email|       phone_numbers|       city|is_customer|amount_paid|      customer_from|    last_updated_ts|\n",
            "+---+----------+---------+--------------------+--------------------+-----------+-----------+-----------+-------------------+-------------------+\n",
            "|  3| Alejandro|    Perez|  cvaperez@email.com|[mobile -> +54935...|Los Angeles|      false|       null|               null|2022-01-31 00:00:00|\n",
            "|  2|      Juan|Estevanez|cvjestevanez@emai...|[mobile -> +54935...|       null|       true|      152.5|2020-06-12 00:00:00|2022-01-04 00:00:00|\n",
            "|  1|    Matias|     Dibo|   cvmdibo@email.com|[mobile -> +54935...|           |       true|     1000.0|2021-01-25 00:00:00|2021-12-03 00:00:00|\n",
            "+---+----------+---------+--------------------+--------------------+-----------+-----------+-----------+-------------------+-------------------+\n",
            "\n"
          ]
        }
      ]
    },
    {
      "cell_type": "code",
      "source": [
        "users_df_8.sort('last_updated_ts', ascending=False).show()"
      ],
      "metadata": {
        "colab": {
          "base_uri": "https://localhost:8080/"
        },
        "id": "cK3CB1RNhvEW",
        "outputId": "6f5152e2-9235-43f3-bc4f-062758a8b5de"
      },
      "execution_count": null,
      "outputs": [
        {
          "output_type": "stream",
          "name": "stdout",
          "text": [
            "+---+----------+---------+--------------------+--------------------+-----------+-----------+-----------+-------------------+-------------------+\n",
            "| id|first_name|last_name|               email|       phone_numbers|       city|is_customer|amount_paid|      customer_from|    last_updated_ts|\n",
            "+---+----------+---------+--------------------+--------------------+-----------+-----------+-----------+-------------------+-------------------+\n",
            "|  3| Alejandro|    Perez|  cvaperez@email.com|[mobile -> +54935...|Los Angeles|      false|       null|               null|2022-01-31 00:00:00|\n",
            "|  2|      Juan|Estevanez|cvjestevanez@emai...|[mobile -> +54935...|       null|       true|      152.5|2020-06-12 00:00:00|2022-01-04 00:00:00|\n",
            "|  1|    Matias|     Dibo|   cvmdibo@email.com|[mobile -> +54935...|           |       true|     1000.0|2021-01-25 00:00:00|2021-12-03 00:00:00|\n",
            "+---+----------+---------+--------------------+--------------------+-----------+-----------+-----------+-------------------+-------------------+\n",
            "\n"
          ]
        }
      ]
    },
    {
      "cell_type": "markdown",
      "source": [
        "##### Composite sorting a dataframe"
      ],
      "metadata": {
        "id": "yR5Pm__foEfe"
      }
    },
    {
      "cell_type": "code",
      "source": [
        "orders.orderBy(['order_status','id'], ascending=[1, 1]).show(10)"
      ],
      "metadata": {
        "colab": {
          "base_uri": "https://localhost:8080/"
        },
        "id": "nQBOGF-BgYao",
        "outputId": "545d7c9d-92ed-40ad-94b2-dbbc45426bb7"
      },
      "execution_count": null,
      "outputs": [
        {
          "output_type": "stream",
          "name": "stdout",
          "text": [
            "+---+----------+----------------+------------+\n",
            "| id|order_date|oder_customer_id|order_status|\n",
            "+---+----------+----------------+------------+\n",
            "| 50|2013-07-25|            5225|    CANCELED|\n",
            "|112|2013-07-26|            5375|    CANCELED|\n",
            "|527|2013-07-28|            5426|    CANCELED|\n",
            "|552|2013-07-28|            1445|    CANCELED|\n",
            "|564|2013-07-28|            2216|    CANCELED|\n",
            "|607|2013-07-28|            6376|    CANCELED|\n",
            "|649|2013-07-28|            7261|    CANCELED|\n",
            "|667|2013-07-28|            4726|    CANCELED|\n",
            "|716|2013-07-29|            2581|    CANCELED|\n",
            "|717|2013-07-29|            8208|    CANCELED|\n",
            "+---+----------+----------------+------------+\n",
            "only showing top 10 rows\n",
            "\n"
          ]
        }
      ]
    },
    {
      "cell_type": "code",
      "source": [
        "orders.orderBy(orders.order_status.desc(), orders.id.asc()).show(10)"
      ],
      "metadata": {
        "colab": {
          "base_uri": "https://localhost:8080/"
        },
        "id": "b-rc0BZcgYQ2",
        "outputId": "72de26da-b8e3-4ad0-91c0-092888f3f534"
      },
      "execution_count": null,
      "outputs": [
        {
          "output_type": "stream",
          "name": "stdout",
          "text": [
            "+---+----------+----------------+---------------+\n",
            "| id|order_date|oder_customer_id|   order_status|\n",
            "+---+----------+----------------+---------------+\n",
            "| 69|2013-07-25|            2821|SUSPECTED_FRAUD|\n",
            "|117|2013-07-26|              58|SUSPECTED_FRAUD|\n",
            "|246|2013-07-26|            9616|SUSPECTED_FRAUD|\n",
            "|320|2013-07-26|           10698|SUSPECTED_FRAUD|\n",
            "|329|2013-07-26|            1944|SUSPECTED_FRAUD|\n",
            "|411|2013-07-27|           11164|SUSPECTED_FRAUD|\n",
            "|423|2013-07-27|            9632|SUSPECTED_FRAUD|\n",
            "|453|2013-07-27|             381|SUSPECTED_FRAUD|\n",
            "|548|2013-07-28|            6889|SUSPECTED_FRAUD|\n",
            "|580|2013-07-28|            8677|SUSPECTED_FRAUD|\n",
            "+---+----------+----------------+---------------+\n",
            "only showing top 10 rows\n",
            "\n"
          ]
        }
      ]
    },
    {
      "cell_type": "markdown",
      "source": [
        "#### Aggregations on Spark dataframes"
      ],
      "metadata": {
        "id": "HjJolvnKToa7"
      }
    },
    {
      "cell_type": "markdown",
      "source": [
        "##### Loading dataframe for aggregations"
      ],
      "metadata": {
        "id": "Q-FrLw9ojakM"
      }
    },
    {
      "cell_type": "code",
      "source": [
        "orders_items_schema = '''\n",
        "                      order_item_id INT,\n",
        "                      order_item_order_id INT,\n",
        "                      order_item_product_id INT,\n",
        "                      order_item_quantity INT,\n",
        "                      order_item_product_subtotal DOUBLE,\n",
        "                      order_item_product_price DOUBLE\n",
        "                      '''\n",
        "\n",
        "order_items_df = spark.read.csv('/content/drive/MyDrive/retail_db-master/csv_files/order_items', schema=orders_items_schema)"
      ],
      "metadata": {
        "id": "nn3Wyb2TVo8F"
      },
      "execution_count": null,
      "outputs": []
    },
    {
      "cell_type": "code",
      "source": [
        "order_items_df.printSchema()"
      ],
      "metadata": {
        "colab": {
          "base_uri": "https://localhost:8080/"
        },
        "id": "GJOHDL-LW_fv",
        "outputId": "afd789bc-cd8a-419a-f4b1-76ebfd26c5b3"
      },
      "execution_count": null,
      "outputs": [
        {
          "output_type": "stream",
          "name": "stdout",
          "text": [
            "root\n",
            " |-- order_item_id: integer (nullable = true)\n",
            " |-- order_item_order_id: integer (nullable = true)\n",
            " |-- order_item_product_id: integer (nullable = true)\n",
            " |-- order_item_quantity: integer (nullable = true)\n",
            " |-- order_item_product_subtotal: double (nullable = true)\n",
            " |-- order_item_product_price: double (nullable = true)\n",
            "\n"
          ]
        }
      ]
    },
    {
      "cell_type": "code",
      "source": [
        "lst_order_cols = ['order_item_id','order_item_order_id','order_item_product_id',\n",
        "                  'order_item_product_price','order_item_quantity','order_item_product_subtotal']\n",
        "\n",
        "order_items_df = order_items_df.select(*lst_order_cols)"
      ],
      "metadata": {
        "id": "OM4OQAtzXLM8"
      },
      "execution_count": null,
      "outputs": []
    },
    {
      "cell_type": "markdown",
      "source": [
        "##### Common aggregate functions"
      ],
      "metadata": {
        "id": "Ynf2YgHnTxnk"
      }
    },
    {
      "cell_type": "code",
      "source": [
        "# Number of rows within the dataframe\n",
        "orders.select(count('*')).show()"
      ],
      "metadata": {
        "colab": {
          "base_uri": "https://localhost:8080/"
        },
        "id": "l4ehyuMYYPzK",
        "outputId": "07f4b659-4611-4da0-fc50-8b78307b0d56"
      },
      "execution_count": null,
      "outputs": [
        {
          "output_type": "stream",
          "name": "stdout",
          "text": [
            "+--------+\n",
            "|count(1)|\n",
            "+--------+\n",
            "|   68883|\n",
            "+--------+\n",
            "\n"
          ]
        }
      ]
    },
    {
      "cell_type": "code",
      "source": [
        "orders.groupBy('order_status').count().show()"
      ],
      "metadata": {
        "colab": {
          "base_uri": "https://localhost:8080/"
        },
        "id": "iy6LtevOTZ2y",
        "outputId": "3497869f-b1b6-4be8-80ea-120216ca29b1"
      },
      "execution_count": null,
      "outputs": [
        {
          "output_type": "stream",
          "name": "stdout",
          "text": [
            "+---------------+-----+\n",
            "|   order_status|count|\n",
            "+---------------+-----+\n",
            "|PENDING_PAYMENT|15030|\n",
            "|       COMPLETE|22899|\n",
            "|        ON_HOLD| 3798|\n",
            "| PAYMENT_REVIEW|  729|\n",
            "|     PROCESSING| 8275|\n",
            "|         CLOSED| 7556|\n",
            "|SUSPECTED_FRAUD| 1558|\n",
            "|        PENDING| 7610|\n",
            "|       CANCELED| 1428|\n",
            "+---------------+-----+\n",
            "\n"
          ]
        }
      ]
    },
    {
      "cell_type": "code",
      "source": [
        "orders.groupBy('order_status').agg(count('*')).show()"
      ],
      "metadata": {
        "colab": {
          "base_uri": "https://localhost:8080/"
        },
        "id": "bPJicuF9gYK-",
        "outputId": "82138fc2-f12c-4674-cd40-5fcfc42ebea8"
      },
      "execution_count": null,
      "outputs": [
        {
          "output_type": "stream",
          "name": "stdout",
          "text": [
            "+---------------+--------+\n",
            "|   order_status|count(1)|\n",
            "+---------------+--------+\n",
            "|PENDING_PAYMENT|   15030|\n",
            "|       COMPLETE|   22899|\n",
            "|        ON_HOLD|    3798|\n",
            "| PAYMENT_REVIEW|     729|\n",
            "|     PROCESSING|    8275|\n",
            "|         CLOSED|    7556|\n",
            "|SUSPECTED_FRAUD|    1558|\n",
            "|        PENDING|    7610|\n",
            "|       CANCELED|    1428|\n",
            "+---------------+--------+\n",
            "\n"
          ]
        }
      ]
    },
    {
      "cell_type": "code",
      "source": [
        "orders.groupBy('order_status').min().show()"
      ],
      "metadata": {
        "colab": {
          "base_uri": "https://localhost:8080/"
        },
        "id": "J_bskH5Mavyl",
        "outputId": "191094d6-1c92-4745-d5a8-01bb0d21cf91"
      },
      "execution_count": null,
      "outputs": [
        {
          "output_type": "stream",
          "name": "stdout",
          "text": [
            "+---------------+-------+---------------------+\n",
            "|   order_status|min(id)|min(oder_customer_id)|\n",
            "+---------------+-------+---------------------+\n",
            "|PENDING_PAYMENT|      2|                    2|\n",
            "|       COMPLETE|      3|                    1|\n",
            "|        ON_HOLD|     46|                    2|\n",
            "| PAYMENT_REVIEW|     11|                   12|\n",
            "|     PROCESSING|      8|                    3|\n",
            "|         CLOSED|      1|                    4|\n",
            "|SUSPECTED_FRAUD|     69|                   16|\n",
            "|        PENDING|     21|                    3|\n",
            "|       CANCELED|     50|                   18|\n",
            "+---------------+-------+---------------------+\n",
            "\n"
          ]
        }
      ]
    },
    {
      "cell_type": "code",
      "source": [
        "orders.groupBy('order_status').min('id').show()"
      ],
      "metadata": {
        "colab": {
          "base_uri": "https://localhost:8080/"
        },
        "id": "yEfA37GDaKv1",
        "outputId": "33cff1cc-ad88-4232-ca29-f8e0628c5396"
      },
      "execution_count": null,
      "outputs": [
        {
          "output_type": "stream",
          "name": "stdout",
          "text": [
            "+---------------+-------+\n",
            "|   order_status|min(id)|\n",
            "+---------------+-------+\n",
            "|PENDING_PAYMENT|      2|\n",
            "|       COMPLETE|      3|\n",
            "|        ON_HOLD|     46|\n",
            "| PAYMENT_REVIEW|     11|\n",
            "|     PROCESSING|      8|\n",
            "|         CLOSED|      1|\n",
            "|SUSPECTED_FRAUD|     69|\n",
            "|        PENDING|     21|\n",
            "|       CANCELED|     50|\n",
            "+---------------+-------+\n",
            "\n"
          ]
        }
      ]
    },
    {
      "cell_type": "code",
      "source": [
        "orders.groupBy('order_status').max('oder_customer_id').show()"
      ],
      "metadata": {
        "colab": {
          "base_uri": "https://localhost:8080/"
        },
        "id": "h3mrNudDUavn",
        "outputId": "3ccb1f4a-2542-48d5-fa36-1e0cb08bc11f"
      },
      "execution_count": null,
      "outputs": [
        {
          "output_type": "stream",
          "name": "stdout",
          "text": [
            "+---------------+---------------------+\n",
            "|   order_status|max(oder_customer_id)|\n",
            "+---------------+---------------------+\n",
            "|PENDING_PAYMENT|                12434|\n",
            "|       COMPLETE|                12434|\n",
            "|        ON_HOLD|                12434|\n",
            "| PAYMENT_REVIEW|                12433|\n",
            "|     PROCESSING|                12431|\n",
            "|         CLOSED|                12434|\n",
            "|SUSPECTED_FRAUD|                12429|\n",
            "|        PENDING|                12435|\n",
            "|       CANCELED|                12435|\n",
            "+---------------+---------------------+\n",
            "\n"
          ]
        }
      ]
    },
    {
      "cell_type": "code",
      "source": [
        "order_items_df.groupBy('order_item_order_id').sum().show(10)"
      ],
      "metadata": {
        "colab": {
          "base_uri": "https://localhost:8080/"
        },
        "id": "c7Z8DbPNlvYF",
        "outputId": "e489450d-bbb8-4613-f1f5-f5135a32efc5"
      },
      "execution_count": null,
      "outputs": [
        {
          "output_type": "stream",
          "name": "stdout",
          "text": [
            "+-------------------+------------------+------------------------+--------------------------+-----------------------------+------------------------+--------------------------------+\n",
            "|order_item_order_id|sum(order_item_id)|sum(order_item_order_id)|sum(order_item_product_id)|sum(order_item_product_price)|sum(order_item_quantity)|sum(order_item_product_subtotal)|\n",
            "+-------------------+------------------+------------------------+--------------------------+-----------------------------+------------------------+--------------------------------+\n",
            "|                148|              1047|                     444|                      1407|                       229.99|                       8|                          479.99|\n",
            "|                463|              4522|                    1852|                      1685|           249.97000000000003|                      13|               829.9200000000001|\n",
            "|                471|              2307|                     942|                      1030|           169.98000000000002|                       2|              169.98000000000002|\n",
            "|                496|              6125|                    2480|                      3105|           341.95000000000005|                       7|              441.95000000000005|\n",
            "|               1088|              5407|                    2176|                       768|           189.98000000000002|                       3|              249.97000000000003|\n",
            "|               1580|              3944|                    1580|                        44|                        59.99|                       5|                          299.95|\n",
            "|               1591|             11907|                    4773|                      2268|                       129.96|                      10|                          439.86|\n",
            "|               1645|             20505|                    8225|                      3840|            989.9200000000001|                      14|              1509.7900000000002|\n",
            "|               2366|              5921|                    2366|                       191|                        99.99|                       3|                          299.97|\n",
            "|               2659|             33325|                   13295|                      4625|            624.9300000000001|                       8|               724.9100000000001|\n",
            "+-------------------+------------------+------------------------+--------------------------+-----------------------------+------------------------+--------------------------------+\n",
            "only showing top 10 rows\n",
            "\n"
          ]
        }
      ]
    },
    {
      "cell_type": "code",
      "source": [
        "order_items_df.select('order_item_order_id','order_item_quantity','order_item_product_subtotal')\\\n",
        "              .where(col('order_item_order_id') == 2)\\\n",
        "              .show()"
      ],
      "metadata": {
        "colab": {
          "base_uri": "https://localhost:8080/"
        },
        "id": "Mk3tOEwfh2Ub",
        "outputId": "322c9db1-dc7b-40e4-e247-8f7cd034889a"
      },
      "execution_count": null,
      "outputs": [
        {
          "output_type": "stream",
          "name": "stdout",
          "text": [
            "+-------------------+-------------------+---------------------------+\n",
            "|order_item_order_id|order_item_quantity|order_item_product_subtotal|\n",
            "+-------------------+-------------------+---------------------------+\n",
            "|                  2|                  1|                     199.99|\n",
            "|                  2|                  5|                      250.0|\n",
            "|                  2|                  1|                     129.99|\n",
            "+-------------------+-------------------+---------------------------+\n",
            "\n"
          ]
        }
      ]
    },
    {
      "cell_type": "code",
      "source": [
        "# Get revenue using order_item_subtotal for a given order_item_order_id\n",
        "\n",
        "order_items_df.select('order_item_order_id','order_item_product_subtotal')\\\n",
        "              .where(col('order_item_order_id') == 2)\\\n",
        "              .agg(sum('order_item_product_subtotal'))\\\n",
        "              .show()"
      ],
      "metadata": {
        "colab": {
          "base_uri": "https://localhost:8080/"
        },
        "id": "Ov73hKDLc6R1",
        "outputId": "976bf1a3-cf0c-4e80-94f8-fc4be7682c67"
      },
      "execution_count": null,
      "outputs": [
        {
          "output_type": "stream",
          "name": "stdout",
          "text": [
            "+--------------------------------+\n",
            "|sum(order_item_product_subtotal)|\n",
            "+--------------------------------+\n",
            "|                          579.98|\n",
            "+--------------------------------+\n",
            "\n"
          ]
        }
      ]
    },
    {
      "cell_type": "code",
      "source": [
        "order_items_df.select('order_item_order_id','order_item_product_subtotal','order_item_quantity')\\\n",
        "              .where(col('order_item_order_id') == 2)\\\n",
        "              .select(count('order_item_quantity').alias('num_orders'),\n",
        "                      sum('order_item_quantity').alias('quantity_orders'),\n",
        "                      sum('order_item_product_subtotal').alias('subtotal'),\n",
        "                      round(sum('order_item_product_subtotal')/count('order_item_quantity'),2).alias('avg_sale_per_order'))\\\n",
        "              .show()"
      ],
      "metadata": {
        "colab": {
          "base_uri": "https://localhost:8080/"
        },
        "id": "sZ83uMoKeDKE",
        "outputId": "c56d8634-9396-46a0-dd71-e6cd1e640f8e"
      },
      "execution_count": null,
      "outputs": [
        {
          "output_type": "stream",
          "name": "stdout",
          "text": [
            "+----------+---------------+--------+------------------+\n",
            "|num_orders|quantity_orders|subtotal|avg_sale_per_order|\n",
            "+----------+---------------+--------+------------------+\n",
            "|         3|              7|  579.98|            193.33|\n",
            "+----------+---------------+--------+------------------+\n",
            "\n"
          ]
        }
      ]
    },
    {
      "cell_type": "code",
      "source": [
        "# Get revenue using order_item_subtotal for each order_item_order_id\n",
        "\n",
        "order_items_df.groupBy('order_item_order_id')\\\n",
        "              .agg(round(sum('order_item_product_subtotal'),2)\n",
        "              .alias('sum_subtotal'))\\\n",
        "              .orderBy('sum_subtotal', ascending=False)\\\n",
        "              .show(10)"
      ],
      "metadata": {
        "colab": {
          "base_uri": "https://localhost:8080/"
        },
        "id": "DQSVZKKQaq9W",
        "outputId": "30585311-718d-43a1-d01f-25312ea6dd2a"
      },
      "execution_count": null,
      "outputs": [
        {
          "output_type": "stream",
          "name": "stdout",
          "text": [
            "+-------------------+------------+\n",
            "|order_item_order_id|sum_subtotal|\n",
            "+-------------------+------------+\n",
            "|              68703|     3449.91|\n",
            "|              68724|     2859.89|\n",
            "|              68858|     2839.91|\n",
            "|              68809|     2779.86|\n",
            "|              68766|      2699.9|\n",
            "|              68806|     2629.92|\n",
            "|              68821|     2629.92|\n",
            "|              68778|      2629.9|\n",
            "|              68848|     2399.96|\n",
            "|              68875|     2399.95|\n",
            "+-------------------+------------+\n",
            "only showing top 10 rows\n",
            "\n"
          ]
        }
      ]
    },
    {
      "cell_type": "markdown",
      "source": [
        "##### Getting count of Spark dataframe"
      ],
      "metadata": {
        "id": "uS4iLRCuiIh8"
      }
    },
    {
      "cell_type": "code",
      "source": [
        "# Num of rows in the dataframes\n",
        "order_items_df.count()"
      ],
      "metadata": {
        "colab": {
          "base_uri": "https://localhost:8080/"
        },
        "id": "ABCgD0ESaq3V",
        "outputId": "7c5bebc5-ddc4-4753-ff65-dbbfc10c699d"
      },
      "execution_count": null,
      "outputs": [
        {
          "output_type": "execute_result",
          "data": {
            "text/plain": [
              "172198"
            ]
          },
          "metadata": {},
          "execution_count": 234
        }
      ]
    },
    {
      "cell_type": "code",
      "source": [
        "# Num of rows in the dataframes (a dataframe is created with this method)\n",
        "order_items_df.select(count('*')).show()"
      ],
      "metadata": {
        "colab": {
          "base_uri": "https://localhost:8080/"
        },
        "id": "Vje7BlWJTZ60",
        "outputId": "a933dafd-b39a-4baa-e467-667544a6a346"
      },
      "execution_count": null,
      "outputs": [
        {
          "output_type": "stream",
          "name": "stdout",
          "text": [
            "+--------+\n",
            "|count(1)|\n",
            "+--------+\n",
            "|  172198|\n",
            "+--------+\n",
            "\n"
          ]
        }
      ]
    },
    {
      "cell_type": "markdown",
      "source": [
        "##### Grouped aggregations using direct functions on Spark dataframes"
      ],
      "metadata": {
        "id": "pHhdtrD1DWpE"
      }
    },
    {
      "cell_type": "code",
      "source": [
        "order_items_grouped = order_items_df.groupBy('order_item_order_id')"
      ],
      "metadata": {
        "id": "wea6zt27jGAL"
      },
      "execution_count": null,
      "outputs": []
    },
    {
      "cell_type": "code",
      "source": [
        "order_items_grouped. \\\n",
        "      count(). \\\n",
        "      withColumnRenamed('count','order_count'). \\\n",
        "      show(5)"
      ],
      "metadata": {
        "colab": {
          "base_uri": "https://localhost:8080/"
        },
        "id": "w4_ktywfaq0c",
        "outputId": "6731f9b5-a4a9-4c99-8486-db0b32e5af69"
      },
      "execution_count": null,
      "outputs": [
        {
          "output_type": "stream",
          "name": "stdout",
          "text": [
            "+-------------------+-----------+\n",
            "|order_item_order_id|order_count|\n",
            "+-------------------+-----------+\n",
            "|                148|          3|\n",
            "|                463|          4|\n",
            "|                471|          2|\n",
            "|                496|          5|\n",
            "|               1088|          2|\n",
            "+-------------------+-----------+\n",
            "only showing top 5 rows\n",
            "\n"
          ]
        }
      ]
    },
    {
      "cell_type": "code",
      "source": [
        "# Sum of all numeric fields\n",
        "order_items_grouped. \\\n",
        "      sum(). \\\n",
        "      show(5)"
      ],
      "metadata": {
        "colab": {
          "base_uri": "https://localhost:8080/"
        },
        "id": "BvexI0xNUaqi",
        "outputId": "023ac1b9-b9f7-4a40-a39c-72039c0790be"
      },
      "execution_count": null,
      "outputs": [
        {
          "output_type": "stream",
          "name": "stdout",
          "text": [
            "+-------------------+------------------+------------------------+--------------------------+-----------------------------+------------------------+--------------------------------+\n",
            "|order_item_order_id|sum(order_item_id)|sum(order_item_order_id)|sum(order_item_product_id)|sum(order_item_product_price)|sum(order_item_quantity)|sum(order_item_product_subtotal)|\n",
            "+-------------------+------------------+------------------------+--------------------------+-----------------------------+------------------------+--------------------------------+\n",
            "|                148|              1047|                     444|                      1407|                       229.99|                       8|                          479.99|\n",
            "|                463|              4522|                    1852|                      1685|           249.97000000000003|                      13|               829.9200000000001|\n",
            "|                471|              2307|                     942|                      1030|           169.98000000000002|                       2|              169.98000000000002|\n",
            "|                496|              6125|                    2480|                      3105|           341.95000000000005|                       7|              441.95000000000005|\n",
            "|               1088|              5407|                    2176|                       768|           189.98000000000002|                       3|              249.97000000000003|\n",
            "+-------------------+------------------+------------------------+--------------------------+-----------------------------+------------------------+--------------------------------+\n",
            "only showing top 5 rows\n",
            "\n"
          ]
        }
      ]
    },
    {
      "cell_type": "code",
      "source": [
        "order_items_df.select('order_item_order_id','order_item_quantity','order_item_product_subtotal'). \\\n",
        "              groupBy('order_item_order_id').sum().show(5)"
      ],
      "metadata": {
        "colab": {
          "base_uri": "https://localhost:8080/"
        },
        "id": "UYTw0YuhFCOR",
        "outputId": "9ab15649-a78f-4fc2-a4d6-706dcd719461"
      },
      "execution_count": null,
      "outputs": [
        {
          "output_type": "stream",
          "name": "stdout",
          "text": [
            "+-------------------+------------------------+------------------------+--------------------------------+\n",
            "|order_item_order_id|sum(order_item_order_id)|sum(order_item_quantity)|sum(order_item_product_subtotal)|\n",
            "+-------------------+------------------------+------------------------+--------------------------------+\n",
            "|                148|                     444|                       8|                          479.99|\n",
            "|                463|                    1852|                      13|               829.9200000000001|\n",
            "|                471|                     942|                       2|              169.98000000000002|\n",
            "|                496|                    2480|                       7|              441.95000000000005|\n",
            "|               1088|                    2176|                       3|              249.97000000000003|\n",
            "+-------------------+------------------------+------------------------+--------------------------------+\n",
            "only showing top 5 rows\n",
            "\n"
          ]
        }
      ]
    },
    {
      "cell_type": "code",
      "source": [
        "# We can use .toDF() to rename columns that are the result of aggregations\n",
        "order_items_grouped.sum('order_item_quantity','order_item_product_subtotal'). \\\n",
        "                    toDF('order_item_order_id','order_quantity','order_revenue'). \\\n",
        "                    withColumn('order_revenue', round(col('order_revenue'),2)). \\\n",
        "                    show(5)"
      ],
      "metadata": {
        "colab": {
          "base_uri": "https://localhost:8080/"
        },
        "id": "XU55thv7Mosm",
        "outputId": "70094bf6-bc9e-474a-cab3-38e1692f2a0f"
      },
      "execution_count": null,
      "outputs": [
        {
          "output_type": "stream",
          "name": "stdout",
          "text": [
            "+-------------------+--------------+-------------+\n",
            "|order_item_order_id|order_quantity|order_revenue|\n",
            "+-------------------+--------------+-------------+\n",
            "|                148|             8|       479.99|\n",
            "|                463|            13|       829.92|\n",
            "|                471|             2|       169.98|\n",
            "|                496|             7|       441.95|\n",
            "|               1088|             3|       249.97|\n",
            "+-------------------+--------------+-------------+\n",
            "only showing top 5 rows\n",
            "\n"
          ]
        }
      ]
    },
    {
      "cell_type": "code",
      "source": [
        "# Get sum of numeric fields \n",
        "# order_date and order_status are ignored as they are not numeric fields\n",
        "\n",
        "orders.groupBy('order_date'). \\\n",
        "    sum(). \\\n",
        "    show(5)"
      ],
      "metadata": {
        "colab": {
          "base_uri": "https://localhost:8080/"
        },
        "id": "7YQf2LsgFCZ3",
        "outputId": "6fe1e5fc-13d5-4b9f-df2f-fe535ab278c0"
      },
      "execution_count": null,
      "outputs": [
        {
          "output_type": "stream",
          "name": "stdout",
          "text": [
            "+----------+-------+---------------------+\n",
            "|order_date|sum(id)|sum(oder_customer_id)|\n",
            "+----------+-------+---------------------+\n",
            "|2013-09-09|3087782|              1499494|\n",
            "|2013-09-19|2830266|              1300695|\n",
            "|2014-06-03|7200647|               793696|\n",
            "|2013-09-12|2898570|              1125297|\n",
            "|2014-01-24|6326762|              1010050|\n",
            "+----------+-------+---------------------+\n",
            "only showing top 5 rows\n",
            "\n"
          ]
        }
      ]
    },
    {
      "cell_type": "markdown",
      "source": [
        "##### Grouped aggregations using agg on Spark dataframes"
      ],
      "metadata": {
        "id": "_HkukrAQPHfL"
      }
    },
    {
      "cell_type": "code",
      "source": [
        "order_items_grouped.agg(sum('order_item_quantity').alias('order_quantity')\n",
        "                      , round(sum('order_item_product_subtotal'),2).alias('order_revenue')). \\\n",
        "                   show(5)"
      ],
      "metadata": {
        "colab": {
          "base_uri": "https://localhost:8080/"
        },
        "id": "zdlFuMPtQj5t",
        "outputId": "8e0f2d90-6a53-4ffa-9725-a4962cc84f03"
      },
      "execution_count": null,
      "outputs": [
        {
          "output_type": "stream",
          "name": "stdout",
          "text": [
            "+-------------------+--------------+-------------+\n",
            "|order_item_order_id|order_quantity|order_revenue|\n",
            "+-------------------+--------------+-------------+\n",
            "|                148|             8|       479.99|\n",
            "|                463|            13|       829.92|\n",
            "|                471|             2|       169.98|\n",
            "|                496|             7|       441.95|\n",
            "|               1088|             3|       249.97|\n",
            "+-------------------+--------------+-------------+\n",
            "only showing top 5 rows\n",
            "\n"
          ]
        }
      ]
    },
    {
      "cell_type": "code",
      "source": [
        "order_items_grouped.agg(sum('order_item_quantity'), round(sum('order_item_product_subtotal'),2)). \\\n",
        "                    toDF('order_item_order_id','order_quantity','order_revenue'). \\\n",
        "                    show(5)"
      ],
      "metadata": {
        "colab": {
          "base_uri": "https://localhost:8080/"
        },
        "id": "_XvRnPjiRo1x",
        "outputId": "0bc60b66-7005-484c-c976-70f622bc84cf"
      },
      "execution_count": null,
      "outputs": [
        {
          "output_type": "stream",
          "name": "stdout",
          "text": [
            "+-------------------+--------------+-------------+\n",
            "|order_item_order_id|order_quantity|order_revenue|\n",
            "+-------------------+--------------+-------------+\n",
            "|                148|             8|       479.99|\n",
            "|                463|            13|       829.92|\n",
            "|                471|             2|       169.98|\n",
            "|                496|             7|       441.95|\n",
            "|               1088|             3|       249.97|\n",
            "+-------------------+--------------+-------------+\n",
            "only showing top 5 rows\n",
            "\n"
          ]
        }
      ]
    },
    {
      "cell_type": "code",
      "source": [
        "order_items_grouped.agg({'order_item_quantity':'min', 'order_item_product_subtotal':'sum'}). \\\n",
        "                    toDF('order_item_order_id','order_revenue','order_quantity'). \\\n",
        "                    withColumn('order_revenue',round(col('order_revenue'),2)). \\\n",
        "                    show(5)"
      ],
      "metadata": {
        "colab": {
          "base_uri": "https://localhost:8080/"
        },
        "id": "Uhq2CUXxRoyk",
        "outputId": "e533a0bd-53ce-4af7-e2da-0c8864c4f5c6"
      },
      "execution_count": null,
      "outputs": [
        {
          "output_type": "stream",
          "name": "stdout",
          "text": [
            "+-------------------+-------------+--------------+\n",
            "|order_item_order_id|order_revenue|order_quantity|\n",
            "+-------------------+-------------+--------------+\n",
            "|                148|       479.99|             1|\n",
            "|                463|       829.92|             1|\n",
            "|                471|       169.98|             1|\n",
            "|                496|       441.95|             1|\n",
            "|               1088|       249.97|             1|\n",
            "+-------------------+-------------+--------------+\n",
            "only showing top 5 rows\n",
            "\n"
          ]
        }
      ]
    },
    {
      "cell_type": "markdown",
      "source": [
        "#### Joining Spark dataframes"
      ],
      "metadata": {
        "id": "pFu0ALY8km0a"
      }
    },
    {
      "cell_type": "markdown",
      "source": [
        "##### Setup dataframe"
      ],
      "metadata": {
        "id": "LqvHfPXVksw1"
      }
    },
    {
      "cell_type": "code",
      "source": [
        "courses = [\n",
        "           {'course_id':1,\n",
        "            'course_title':'Mastering Pyhton',\n",
        "            'course_published_at':datetime.date(2021,1,14),\n",
        "            'is_active':True,\n",
        "            'last_updated_ts':datetime.datetime(2021, 2, 18, 16, 57, 25)},\n",
        "           \n",
        "           {'course_id':2,\n",
        "            'course_title':'Data Engineering Essentials',\n",
        "            'course_published_at':datetime.date(2021,2,10),\n",
        "            'is_active':True,\n",
        "            'last_updated_ts':datetime.datetime(2021, 3, 5, 12, 7, 33)},\n",
        "\n",
        "           {'course_id':3,\n",
        "            'course_title':'Mastering Pyspark',\n",
        "            'course_published_at':datetime.date(2021,1,7),\n",
        "            'is_active':True,\n",
        "            'last_updated_ts':datetime.datetime(2021, 4, 6, 10, 5, 36)},\n",
        "\n",
        "           {'course_id':4,\n",
        "            'course_title':'AWS Essentials',\n",
        "            'course_published_at':datetime.date(2021,3,19),\n",
        "            'is_active':False,\n",
        "            'last_updated_ts':datetime.datetime(2021, 4, 10, 2, 25, 36)},\n",
        "\n",
        "           {'course_id':5,\n",
        "            'course_title':'Docker 101',\n",
        "            'course_published_at':datetime.date(2021,2,28),\n",
        "            'is_active':True,\n",
        "            'last_updated_ts':datetime.datetime(2021, 3, 21, 7, 18, 52)}          \n",
        "]\n",
        "\n",
        "courses_df = spark.createDataFrame([Row(**x) for x in courses])"
      ],
      "metadata": {
        "id": "5-VOEQNyVOal"
      },
      "execution_count": null,
      "outputs": []
    },
    {
      "cell_type": "code",
      "source": [
        "users_join = [\n",
        "              {'user_id':1,\n",
        "               'user_first_name':'Sandra',\n",
        "               'user_last_name':'Karpov',\n",
        "               'user_mail':'skarpov@sraj.com'},\n",
        "              \n",
        "              {'user_id':2,\n",
        "               'user_first_name':'Jacob',\n",
        "               'user_last_name':'Clinton',\n",
        "               'user_mail':'jclinton@sraj.com'},\n",
        "              \n",
        "              {'user_id':3,\n",
        "               'user_first_name':'Kyle',\n",
        "               'user_last_name':'Amstrong',\n",
        "               'user_mail':'kamstrong@sraj.com'},\n",
        "              \n",
        "              {'user_id':4,\n",
        "               'user_first_name':'Joanna',\n",
        "               'user_last_name':'Spenneck',\n",
        "               'user_mail':'jspenneck@sraj.com'},\n",
        "              \n",
        "              {'user_id':5,\n",
        "               'user_first_name':'Kyle',\n",
        "               'user_last_name':'Amstrong',\n",
        "               'user_mail':'kamstrong@sraj.com'},\n",
        "              \n",
        "              {'user_id':6,\n",
        "               'user_first_name':'Augy',\n",
        "               'user_last_name':'Christon',\n",
        "               'user_mail':'achriston@sraj.com'},\n",
        "              \n",
        "              {'user_id':7,\n",
        "               'user_first_name':'Trudey',\n",
        "               'user_last_name':'Choupin',\n",
        "               'user_mail':'tchoupin@sraj.com'},\n",
        "              \n",
        "              {'user_id':8,\n",
        "               'user_first_name':'Nadline',\n",
        "               'user_last_name':'Grindsel',\n",
        "               'user_mail':'ngrindsel@sraj.com'},\n",
        "              \n",
        "              {'user_id':9,\n",
        "               'user_first_name':'Vassily',\n",
        "               'user_last_name':'Tamas',\n",
        "               'user_mail':'vtamas@sraj.com'},\n",
        "              \n",
        "              {'user_id':10,\n",
        "               'user_first_name':'Wells',\n",
        "               'user_last_name':'Simpkins',\n",
        "               'user_mail':'wsimpkins@sraj.com'}\n",
        "]\n",
        "\n",
        "users_df = spark.createDataFrame([Row(**i) for i in users_join])"
      ],
      "metadata": {
        "id": "7O6oyHkZbeiw"
      },
      "execution_count": null,
      "outputs": []
    },
    {
      "cell_type": "code",
      "source": [
        "course_enrollments = [\n",
        "                      {'course_enrolment_id':1,\n",
        "                       'user_id':10,\n",
        "                       'course_id':2,\n",
        "                       'price_paid':9.99},\n",
        "                      \n",
        "                      {'course_enrolment_id':2,\n",
        "                       'user_id':5,\n",
        "                       'course_id':2,\n",
        "                       'price_paid':9.99},\n",
        "                      \n",
        "                      {'course_enrolment_id':3,\n",
        "                       'user_id':7,\n",
        "                       'course_id':5,\n",
        "                       'price_paid':10.99},\n",
        "                      \n",
        "                      {'course_enrolment_id':4,\n",
        "                       'user_id':9,\n",
        "                       'course_id':2,\n",
        "                       'price_paid':9.99},\n",
        "                      \n",
        "                      {'course_enrolment_id':5,\n",
        "                       'user_id':8,\n",
        "                       'course_id':2,\n",
        "                       'price_paid':9.99},\n",
        "                      \n",
        "                      {'course_enrolment_id':6,\n",
        "                       'user_id':5,\n",
        "                       'course_id':5,\n",
        "                       'price_paid':10.99},\n",
        "                      \n",
        "                      {'course_enrolment_id':7,\n",
        "                       'user_id':4,\n",
        "                       'course_id':5,\n",
        "                       'price_paid':10.99},\n",
        "                      \n",
        "                      {'course_enrolment_id':8,\n",
        "                       'user_id':7,\n",
        "                       'course_id':3,\n",
        "                       'price_paid':10.99},\n",
        "                      \n",
        "                      {'course_enrolment_id':9,\n",
        "                       'user_id':8,\n",
        "                       'course_id':5,\n",
        "                       'price_paid':10.99},\n",
        "                      \n",
        "                      {'course_enrolment_id':10,\n",
        "                       'user_id':3,\n",
        "                       'course_id':3,\n",
        "                       'price_paid':10.99},\n",
        "                      \n",
        "                      {'course_enrolment_id':11,\n",
        "                       'user_id':7,\n",
        "                       'course_id':5,\n",
        "                       'price_paid':9.99},\n",
        "                      \n",
        "                      {'course_enrolment_id':12,\n",
        "                       'user_id':3,\n",
        "                       'course_id':2,\n",
        "                       'price_paid':9.99},\n",
        "                      \n",
        "                      {'course_enrolment_id':13,\n",
        "                       'user_id':10,\n",
        "                       'course_id':2,\n",
        "                       'price_paid':9.99},\n",
        "                      \n",
        "                      {'course_enrolment_id':14,\n",
        "                       'user_id':4,\n",
        "                       'course_id':3,\n",
        "                       'price_paid':10.99},\n",
        "                      \n",
        "                      {'course_enrolment_id':15,\n",
        "                       'user_id':8,\n",
        "                       'course_id':2,\n",
        "                       'price_paid':9.99}\n",
        "]\n",
        "\n",
        "course_enrollments_df = spark.createDataFrame([Row(**i) for i in course_enrollments])"
      ],
      "metadata": {
        "id": "aZmi-RtppIF-"
      },
      "execution_count": null,
      "outputs": []
    },
    {
      "cell_type": "markdown",
      "source": [
        "##### Performing Inner Join on Spark dataframes"
      ],
      "metadata": {
        "id": "FzsDJ7sKJiR_"
      }
    },
    {
      "cell_type": "code",
      "source": [
        "# we can pass the condition specifying the columns of each dataframe\n",
        "# either both dataframes has the same or different columns name\n",
        "users_df.join(course_enrollments_df, users_df.user_id == course_enrollments_df.user_id).show(5)"
      ],
      "metadata": {
        "colab": {
          "base_uri": "https://localhost:8080/"
        },
        "id": "jz8k9siwvLBh",
        "outputId": "05a459e4-83d0-49de-fa09-8fb7b472865a"
      },
      "execution_count": null,
      "outputs": [
        {
          "output_type": "stream",
          "name": "stdout",
          "text": [
            "+-------+---------------+--------------+------------------+-------------------+-------+---------+----------+\n",
            "|user_id|user_first_name|user_last_name|         user_mail|course_enrolment_id|user_id|course_id|price_paid|\n",
            "+-------+---------------+--------------+------------------+-------------------+-------+---------+----------+\n",
            "|      7|         Trudey|       Choupin| tchoupin@sraj.com|                  3|      7|        5|     10.99|\n",
            "|      7|         Trudey|       Choupin| tchoupin@sraj.com|                  8|      7|        3|     10.99|\n",
            "|      7|         Trudey|       Choupin| tchoupin@sraj.com|                 11|      7|        5|      9.99|\n",
            "|      9|        Vassily|         Tamas|   vtamas@sraj.com|                  4|      9|        2|      9.99|\n",
            "|      5|           Kyle|      Amstrong|kamstrong@sraj.com|                  2|      5|        2|      9.99|\n",
            "+-------+---------------+--------------+------------------+-------------------+-------+---------+----------+\n",
            "only showing top 5 rows\n",
            "\n"
          ]
        }
      ]
    },
    {
      "cell_type": "code",
      "source": [
        "# as both dataframes have user_id using same name, we can pass column name as string as well\n",
        "users_df.join(course_enrollments_df, 'user_id').show(5)"
      ],
      "metadata": {
        "colab": {
          "base_uri": "https://localhost:8080/"
        },
        "id": "mobNz-CbvK-Y",
        "outputId": "4870040e-b6e9-4631-ec44-979557f1bc4a"
      },
      "execution_count": null,
      "outputs": [
        {
          "output_type": "stream",
          "name": "stdout",
          "text": [
            "+-------+---------------+--------------+------------------+-------------------+---------+----------+\n",
            "|user_id|user_first_name|user_last_name|         user_mail|course_enrolment_id|course_id|price_paid|\n",
            "+-------+---------------+--------------+------------------+-------------------+---------+----------+\n",
            "|      7|         Trudey|       Choupin| tchoupin@sraj.com|                  3|        5|     10.99|\n",
            "|      7|         Trudey|       Choupin| tchoupin@sraj.com|                  8|        3|     10.99|\n",
            "|      7|         Trudey|       Choupin| tchoupin@sraj.com|                 11|        5|      9.99|\n",
            "|      9|        Vassily|         Tamas|   vtamas@sraj.com|                  4|        2|      9.99|\n",
            "|      5|           Kyle|      Amstrong|kamstrong@sraj.com|                  2|        2|      9.99|\n",
            "+-------+---------------+--------------+------------------+-------------------+---------+----------+\n",
            "only showing top 5 rows\n",
            "\n"
          ]
        }
      ]
    },
    {
      "cell_type": "code",
      "source": [
        "# Get all columns from users_df as well as course_enrollment_id and course_id from course_enrollments_df\n",
        "users_df.join(course_enrollments_df, 'user_id'). \\\n",
        "        select(users_df['*'], course_enrollments_df['course_enrolment_id'], course_enrollments_df['course_id']). \\\n",
        "        show(5)"
      ],
      "metadata": {
        "colab": {
          "base_uri": "https://localhost:8080/"
        },
        "id": "xIqfK4yEtzcH",
        "outputId": "69a5e7b2-49ed-477f-ed24-7ab5c9074cc9"
      },
      "execution_count": null,
      "outputs": [
        {
          "output_type": "stream",
          "name": "stdout",
          "text": [
            "+-------+---------------+--------------+------------------+-------------------+---------+\n",
            "|user_id|user_first_name|user_last_name|         user_mail|course_enrolment_id|course_id|\n",
            "+-------+---------------+--------------+------------------+-------------------+---------+\n",
            "|      7|         Trudey|       Choupin| tchoupin@sraj.com|                  3|        5|\n",
            "|      7|         Trudey|       Choupin| tchoupin@sraj.com|                  8|        3|\n",
            "|      7|         Trudey|       Choupin| tchoupin@sraj.com|                 11|        5|\n",
            "|      9|        Vassily|         Tamas|   vtamas@sraj.com|                  4|        2|\n",
            "|      5|           Kyle|      Amstrong|kamstrong@sraj.com|                  2|        2|\n",
            "+-------+---------------+--------------+------------------+-------------------+---------+\n",
            "only showing top 5 rows\n",
            "\n"
          ]
        }
      ]
    },
    {
      "cell_type": "code",
      "source": [
        "# using alias\n",
        "users_df.alias('u').join(course_enrollments_df.alias('ce'), 'user_id'). \\\n",
        "         select('u.*', 'ce.course_id','ce.course_enrolment_id').show(5)"
      ],
      "metadata": {
        "colab": {
          "base_uri": "https://localhost:8080/"
        },
        "id": "nety3M5FtzZw",
        "outputId": "42238fd3-7cd0-4217-fa95-6ef689746d59"
      },
      "execution_count": null,
      "outputs": [
        {
          "output_type": "stream",
          "name": "stdout",
          "text": [
            "+-------+---------------+--------------+------------------+---------+-------------------+\n",
            "|user_id|user_first_name|user_last_name|         user_mail|course_id|course_enrolment_id|\n",
            "+-------+---------------+--------------+------------------+---------+-------------------+\n",
            "|      7|         Trudey|       Choupin| tchoupin@sraj.com|        5|                  3|\n",
            "|      7|         Trudey|       Choupin| tchoupin@sraj.com|        3|                  8|\n",
            "|      7|         Trudey|       Choupin| tchoupin@sraj.com|        5|                 11|\n",
            "|      9|        Vassily|         Tamas|   vtamas@sraj.com|        2|                  4|\n",
            "|      5|           Kyle|      Amstrong|kamstrong@sraj.com|        2|                  2|\n",
            "+-------+---------------+--------------+------------------+---------+-------------------+\n",
            "only showing top 5 rows\n",
            "\n"
          ]
        }
      ]
    },
    {
      "cell_type": "code",
      "source": [
        "# Get number of courses enrolled by each user\n",
        "users_df.alias('u').join(course_enrollments_df.alias('ce'), 'user_id'). \\\n",
        "         groupBy('user_id'). \\\n",
        "         count(). \\\n",
        "         orderBy('user_id'). \\\n",
        "         show(5)"
      ],
      "metadata": {
        "id": "l5Tut6k3bee0",
        "colab": {
          "base_uri": "https://localhost:8080/"
        },
        "outputId": "3a557ef1-f3d7-4e96-e1d7-197b36ea2c5a"
      },
      "execution_count": null,
      "outputs": [
        {
          "output_type": "stream",
          "name": "stdout",
          "text": [
            "+-------+-----+\n",
            "|user_id|count|\n",
            "+-------+-----+\n",
            "|      3|    2|\n",
            "|      4|    2|\n",
            "|      5|    2|\n",
            "|      7|    3|\n",
            "|      8|    3|\n",
            "+-------+-----+\n",
            "only showing top 5 rows\n",
            "\n"
          ]
        }
      ]
    },
    {
      "cell_type": "markdown",
      "source": [
        "##### Performing outer join using 'left' between spark dataframes"
      ],
      "metadata": {
        "id": "fZBbrXiG20cG"
      }
    },
    {
      "cell_type": "code",
      "source": [
        "# Get all the users details along with the course enrollment details (if the user has any course enrollment)\n",
        "users_df.join(course_enrollments_df, 'user_id', 'left').show(5) # we can also use 'left_outer' or 'leftouter'"
      ],
      "metadata": {
        "colab": {
          "base_uri": "https://localhost:8080/"
        },
        "id": "tC8AKRpq20AU",
        "outputId": "461172a2-729d-447e-f5ef-adcbc7893466"
      },
      "execution_count": null,
      "outputs": [
        {
          "output_type": "stream",
          "name": "stdout",
          "text": [
            "+-------+---------------+--------------+------------------+-------------------+---------+----------+\n",
            "|user_id|user_first_name|user_last_name|         user_mail|course_enrolment_id|course_id|price_paid|\n",
            "+-------+---------------+--------------+------------------+-------------------+---------+----------+\n",
            "|      7|         Trudey|       Choupin| tchoupin@sraj.com|                  3|        5|     10.99|\n",
            "|      7|         Trudey|       Choupin| tchoupin@sraj.com|                  8|        3|     10.99|\n",
            "|      7|         Trudey|       Choupin| tchoupin@sraj.com|                 11|        5|      9.99|\n",
            "|      6|           Augy|      Christon|achriston@sraj.com|               null|     null|      null|\n",
            "|      9|        Vassily|         Tamas|   vtamas@sraj.com|                  4|        2|      9.99|\n",
            "+-------+---------------+--------------+------------------+-------------------+---------+----------+\n",
            "only showing top 5 rows\n",
            "\n"
          ]
        }
      ]
    },
    {
      "cell_type": "code",
      "source": [
        "# using alias\n",
        "users_df.alias('u').join(course_enrollments_df.alias('ce'), 'user_id', 'left'). \\\n",
        "         select('u.*', 'ce.course_id','ce.course_enrolment_id').show(5)"
      ],
      "metadata": {
        "colab": {
          "base_uri": "https://localhost:8080/"
        },
        "id": "uVSlRHHU2z-A",
        "outputId": "4fa5c517-f7bc-463c-d33d-0eb90d2a0c44"
      },
      "execution_count": null,
      "outputs": [
        {
          "output_type": "stream",
          "name": "stdout",
          "text": [
            "+-------+---------------+--------------+------------------+---------+-------------------+\n",
            "|user_id|user_first_name|user_last_name|         user_mail|course_id|course_enrolment_id|\n",
            "+-------+---------------+--------------+------------------+---------+-------------------+\n",
            "|      7|         Trudey|       Choupin| tchoupin@sraj.com|        5|                  3|\n",
            "|      7|         Trudey|       Choupin| tchoupin@sraj.com|        3|                  8|\n",
            "|      7|         Trudey|       Choupin| tchoupin@sraj.com|        5|                 11|\n",
            "|      6|           Augy|      Christon|achriston@sraj.com|     null|               null|\n",
            "|      9|        Vassily|         Tamas|   vtamas@sraj.com|        2|                  4|\n",
            "+-------+---------------+--------------+------------------+---------+-------------------+\n",
            "only showing top 5 rows\n",
            "\n"
          ]
        }
      ]
    },
    {
      "cell_type": "code",
      "source": [
        "# using alias\n",
        "users_df.alias('u').join(course_enrollments_df.alias('ce'), 'user_id', 'left'). \\\n",
        "         select('u.*', 'ce.course_id','ce.course_enrolment_id'). \\\n",
        "         where(\"ce.course_id IS NOT NULL\"). \\\n",
        "         show(5)\n",
        "\n",
        " #where(~isnull('ce.course_id'))        "
      ],
      "metadata": {
        "colab": {
          "base_uri": "https://localhost:8080/"
        },
        "id": "CmgugFe02z7B",
        "outputId": "3bad241d-644a-4f67-f46f-ce67fdc73f9f"
      },
      "execution_count": null,
      "outputs": [
        {
          "output_type": "stream",
          "name": "stdout",
          "text": [
            "+-------+---------------+--------------+------------------+---------+-------------------+\n",
            "|user_id|user_first_name|user_last_name|         user_mail|course_id|course_enrolment_id|\n",
            "+-------+---------------+--------------+------------------+---------+-------------------+\n",
            "|      7|         Trudey|       Choupin| tchoupin@sraj.com|        5|                  3|\n",
            "|      7|         Trudey|       Choupin| tchoupin@sraj.com|        3|                  8|\n",
            "|      7|         Trudey|       Choupin| tchoupin@sraj.com|        5|                 11|\n",
            "|      9|        Vassily|         Tamas|   vtamas@sraj.com|        2|                  4|\n",
            "|      5|           Kyle|      Amstrong|kamstrong@sraj.com|        2|                  2|\n",
            "+-------+---------------+--------------+------------------+---------+-------------------+\n",
            "only showing top 5 rows\n",
            "\n"
          ]
        }
      ]
    },
    {
      "cell_type": "code",
      "source": [
        "# Return the number of courses enrolled by each user\n",
        "users_df.alias('u').join(course_enrollments_df.alias('ce'), 'user_id', 'left'). \\\n",
        "         groupBy('user_id'). \\\n",
        "         agg(sum(when(isnull('course_enrolment_id'),0).otherwise(1)).alias('course_count')). \\\n",
        "         orderBy('user_id'). \\\n",
        "         show(5)"
      ],
      "metadata": {
        "colab": {
          "base_uri": "https://localhost:8080/"
        },
        "id": "6NKqlvaP85HM",
        "outputId": "fc8b0738-12ea-4ab3-92fe-99dfa1bd3289"
      },
      "execution_count": null,
      "outputs": [
        {
          "output_type": "stream",
          "name": "stdout",
          "text": [
            "+-------+------------+\n",
            "|user_id|course_count|\n",
            "+-------+------------+\n",
            "|      1|           0|\n",
            "|      2|           0|\n",
            "|      3|           2|\n",
            "|      4|           2|\n",
            "|      5|           2|\n",
            "+-------+------------+\n",
            "only showing top 5 rows\n",
            "\n"
          ]
        }
      ]
    },
    {
      "cell_type": "code",
      "source": [
        "users_df.alias('u').join(course_enrollments_df.alias('ce'), 'user_id', 'left'). \\\n",
        "         groupBy('user_id'). \\\n",
        "         agg(sum(expr('''\n",
        "                      CASE WHEN course_enrolment_id IS NULL THEN 0\n",
        "                      ELSE 1\n",
        "                      END\n",
        "                      ''')).alias('enrollment_count')). \\\n",
        "         orderBy('user_id'). \\\n",
        "         show(5)"
      ],
      "metadata": {
        "colab": {
          "base_uri": "https://localhost:8080/"
        },
        "id": "JpPFRnSR-vh6",
        "outputId": "51d46a8a-3cf0-4614-f68f-2b9c73c7d817"
      },
      "execution_count": null,
      "outputs": [
        {
          "output_type": "stream",
          "name": "stdout",
          "text": [
            "+-------+----------------+\n",
            "|user_id|enrollment_count|\n",
            "+-------+----------------+\n",
            "|      1|               0|\n",
            "|      2|               0|\n",
            "|      3|               2|\n",
            "|      4|               2|\n",
            "|      5|               2|\n",
            "+-------+----------------+\n",
            "only showing top 5 rows\n",
            "\n"
          ]
        }
      ]
    },
    {
      "cell_type": "markdown",
      "source": [
        "##### Performing outer join using 'right' between spark dataframes"
      ],
      "metadata": {
        "id": "7Rj5IaBH8TIH"
      }
    },
    {
      "cell_type": "code",
      "source": [
        "# using alias\n",
        "course_enrollments_df.alias('ce').join(users_df.alias('u'), 'user_id', 'right'). \\\n",
        "         show(5)"
      ],
      "metadata": {
        "colab": {
          "base_uri": "https://localhost:8080/"
        },
        "id": "2wJwfbRA8S7M",
        "outputId": "65f2a808-e2dd-436d-a4cd-5b6a1e5814ae"
      },
      "execution_count": null,
      "outputs": [
        {
          "output_type": "stream",
          "name": "stdout",
          "text": [
            "+-------+-------------------+---------+----------+---------------+--------------+------------------+\n",
            "|user_id|course_enrolment_id|course_id|price_paid|user_first_name|user_last_name|         user_mail|\n",
            "+-------+-------------------+---------+----------+---------------+--------------+------------------+\n",
            "|      7|                  3|        5|     10.99|         Trudey|       Choupin| tchoupin@sraj.com|\n",
            "|      7|                  8|        3|     10.99|         Trudey|       Choupin| tchoupin@sraj.com|\n",
            "|      7|                 11|        5|      9.99|         Trudey|       Choupin| tchoupin@sraj.com|\n",
            "|      6|               null|     null|      null|           Augy|      Christon|achriston@sraj.com|\n",
            "|      9|                  4|        2|      9.99|        Vassily|         Tamas|   vtamas@sraj.com|\n",
            "+-------+-------------------+---------+----------+---------------+--------------+------------------+\n",
            "only showing top 5 rows\n",
            "\n"
          ]
        }
      ]
    },
    {
      "cell_type": "code",
      "source": [
        "# All the operations and aggregations that are performed with 'right' join, works as same as 'left' join"
      ],
      "metadata": {
        "id": "jNfZlmQS8S4a"
      },
      "execution_count": null,
      "outputs": []
    },
    {
      "cell_type": "markdown",
      "source": [
        "##### Performing full outer join between Spark dataframes"
      ],
      "metadata": {
        "id": "pBqcyHaPBkVu"
      }
    },
    {
      "cell_type": "code",
      "source": [
        "users1 = [\n",
        "          {'email':'alovett0@nsw.gov.ar',\n",
        "           'first_name':'Aundrea',\n",
        "           'last_name':'Lovett',\n",
        "           'gender':'Male'},\n",
        "          \n",
        "          {'email':'bjowling1@nsw.gov.ar',\n",
        "           'first_name':'Bettine',\n",
        "           'last_name':'Jowling',\n",
        "           'gender':'Female'},\n",
        "          \n",
        "          {'email':'rablitt2@nsw.gov.ar',\n",
        "           'first_name':'Reggie',\n",
        "           'last_name':'Ablitt',\n",
        "           'gender':'Male'},\n",
        "          \n",
        "          {'email':'tgavahan3@nsw.gov.ar',\n",
        "           'first_name':'Ted',\n",
        "           'last_name':'Gavahan',\n",
        "           'gender':'Female'},\n",
        "          \n",
        "          {'email':'ccastelan4@nsw.gov.ar',\n",
        "           'first_name':'Chantal',\n",
        "           'last_name':'Castelan',\n",
        "           'gender':'Female'}\n",
        "]\n",
        "\n",
        "users2 = [\n",
        "          {'email':'lbutland1@nsw.gov.ar',\n",
        "           'first_name':'Lilas',\n",
        "           'last_name':'Butland',\n",
        "           'gender':'Female'},\n",
        "          \n",
        "          {'email':'fmancktelow@nsw.gov.ar',\n",
        "           'first_name':'Farand',\n",
        "           'last_name':'Mancktelow',\n",
        "           'gender':'Female'},\n",
        "          \n",
        "          {'email':'rablitt2@nsw.gov.ar',\n",
        "           'first_name':'Reggie',\n",
        "           'last_name':'Ablitt',\n",
        "           'gender':'Male'},\n",
        "          \n",
        "          {'email':'tgavahan3@nsw.gov.ar',\n",
        "           'first_name':'Ted',\n",
        "           'last_name':'Gavahan',\n",
        "           'gender':'Female'},\n",
        "          \n",
        "          {'email':'kpitt@nsw.gov.ar',\n",
        "           'first_name':'Katherine',\n",
        "           'last_name':'Pitt',\n",
        "           'gender':'Female'}\n",
        "]\n",
        "\n",
        "users1_df = spark.createDataFrame([Row(**i) for i in users1])\n",
        "users2_df = spark.createDataFrame([Row(**i) for i in users2])"
      ],
      "metadata": {
        "id": "Yerk17_ZYWnT"
      },
      "execution_count": null,
      "outputs": []
    },
    {
      "cell_type": "code",
      "source": [
        "users1_df.join(users2_df, 'email', 'outer').show(truncate=False)"
      ],
      "metadata": {
        "colab": {
          "base_uri": "https://localhost:8080/"
        },
        "id": "-kDcas_lYWho",
        "outputId": "1dc2343b-efd7-4275-d543-0333e29c3edf"
      },
      "execution_count": null,
      "outputs": [
        {
          "output_type": "stream",
          "name": "stdout",
          "text": [
            "+----------------------+----------+---------+------+----------+----------+------+\n",
            "|email                 |first_name|last_name|gender|first_name|last_name |gender|\n",
            "+----------------------+----------+---------+------+----------+----------+------+\n",
            "|kpitt@nsw.gov.ar      |null      |null     |null  |Katherine |Pitt      |Female|\n",
            "|lbutland1@nsw.gov.ar  |null      |null     |null  |Lilas     |Butland   |Female|\n",
            "|tgavahan3@nsw.gov.ar  |Ted       |Gavahan  |Female|Ted       |Gavahan   |Female|\n",
            "|fmancktelow@nsw.gov.ar|null      |null     |null  |Farand    |Mancktelow|Female|\n",
            "|ccastelan4@nsw.gov.ar |Chantal   |Castelan |Female|null      |null      |null  |\n",
            "|rablitt2@nsw.gov.ar   |Reggie    |Ablitt   |Male  |Reggie    |Ablitt    |Male  |\n",
            "|bjowling1@nsw.gov.ar  |Bettine   |Jowling  |Female|null      |null      |null  |\n",
            "|alovett0@nsw.gov.ar   |Aundrea   |Lovett   |Male  |null      |null      |null  |\n",
            "+----------------------+----------+---------+------+----------+----------+------+\n",
            "\n"
          ]
        }
      ]
    },
    {
      "cell_type": "markdown",
      "source": [
        "##### Performing 'cross' join between Spark dataframes"
      ],
      "metadata": {
        "id": "24_ylAi9bb4f"
      }
    },
    {
      "cell_type": "code",
      "source": [
        "users_df.join(courses_df).show(6)"
      ],
      "metadata": {
        "colab": {
          "base_uri": "https://localhost:8080/"
        },
        "id": "sj_ViVcU8Sw0",
        "outputId": "25e1e954-bf88-4405-ded0-f707240c9be6"
      },
      "execution_count": null,
      "outputs": [
        {
          "output_type": "stream",
          "name": "stdout",
          "text": [
            "+-------+---------------+--------------+------------------+---------+--------------------+-------------------+---------+-------------------+\n",
            "|user_id|user_first_name|user_last_name|         user_mail|course_id|        course_title|course_published_at|is_active|    last_updated_ts|\n",
            "+-------+---------------+--------------+------------------+---------+--------------------+-------------------+---------+-------------------+\n",
            "|      1|         Sandra|        Karpov|  skarpov@sraj.com|        1|    Mastering Pyhton|         2021-01-14|     true|2021-02-18 16:57:25|\n",
            "|      1|         Sandra|        Karpov|  skarpov@sraj.com|        2|Data Engineering ...|         2021-02-10|     true|2021-03-05 12:07:33|\n",
            "|      2|          Jacob|       Clinton| jclinton@sraj.com|        1|    Mastering Pyhton|         2021-01-14|     true|2021-02-18 16:57:25|\n",
            "|      2|          Jacob|       Clinton| jclinton@sraj.com|        2|Data Engineering ...|         2021-02-10|     true|2021-03-05 12:07:33|\n",
            "|      3|           Kyle|      Amstrong|kamstrong@sraj.com|        1|    Mastering Pyhton|         2021-01-14|     true|2021-02-18 16:57:25|\n",
            "|      3|           Kyle|      Amstrong|kamstrong@sraj.com|        2|Data Engineering ...|         2021-02-10|     true|2021-03-05 12:07:33|\n",
            "+-------+---------------+--------------+------------------+---------+--------------------+-------------------+---------+-------------------+\n",
            "only showing top 6 rows\n",
            "\n"
          ]
        }
      ]
    },
    {
      "cell_type": "code",
      "source": [
        "users_df.crossJoin(courses_df).show(6)"
      ],
      "metadata": {
        "colab": {
          "base_uri": "https://localhost:8080/"
        },
        "id": "v_uxlW48zNF4",
        "outputId": "cc1efeb3-899d-4a28-db29-2b87bbeacad3"
      },
      "execution_count": null,
      "outputs": [
        {
          "output_type": "stream",
          "name": "stdout",
          "text": [
            "+-------+---------------+--------------+------------------+---------+--------------------+-------------------+---------+-------------------+\n",
            "|user_id|user_first_name|user_last_name|         user_mail|course_id|        course_title|course_published_at|is_active|    last_updated_ts|\n",
            "+-------+---------------+--------------+------------------+---------+--------------------+-------------------+---------+-------------------+\n",
            "|      1|         Sandra|        Karpov|  skarpov@sraj.com|        1|    Mastering Pyhton|         2021-01-14|     true|2021-02-18 16:57:25|\n",
            "|      1|         Sandra|        Karpov|  skarpov@sraj.com|        2|Data Engineering ...|         2021-02-10|     true|2021-03-05 12:07:33|\n",
            "|      2|          Jacob|       Clinton| jclinton@sraj.com|        1|    Mastering Pyhton|         2021-01-14|     true|2021-02-18 16:57:25|\n",
            "|      2|          Jacob|       Clinton| jclinton@sraj.com|        2|Data Engineering ...|         2021-02-10|     true|2021-03-05 12:07:33|\n",
            "|      3|           Kyle|      Amstrong|kamstrong@sraj.com|        1|    Mastering Pyhton|         2021-01-14|     true|2021-02-18 16:57:25|\n",
            "|      3|           Kyle|      Amstrong|kamstrong@sraj.com|        2|Data Engineering ...|         2021-02-10|     true|2021-03-05 12:07:33|\n",
            "+-------+---------------+--------------+------------------+---------+--------------------+-------------------+---------+-------------------+\n",
            "only showing top 6 rows\n",
            "\n"
          ]
        }
      ]
    },
    {
      "cell_type": "code",
      "source": [
        "users_df.join(courses_df).where(col('user_first_name') == 'Trudey').show()"
      ],
      "metadata": {
        "colab": {
          "base_uri": "https://localhost:8080/"
        },
        "id": "fBXOP6xB2z1U",
        "outputId": "8d12384c-73ba-4804-9afe-e258be646f8b"
      },
      "execution_count": null,
      "outputs": [
        {
          "output_type": "stream",
          "name": "stdout",
          "text": [
            "+-------+---------------+--------------+-----------------+---------+--------------------+-------------------+---------+-------------------+\n",
            "|user_id|user_first_name|user_last_name|        user_mail|course_id|        course_title|course_published_at|is_active|    last_updated_ts|\n",
            "+-------+---------------+--------------+-----------------+---------+--------------------+-------------------+---------+-------------------+\n",
            "|      7|         Trudey|       Choupin|tchoupin@sraj.com|        1|    Mastering Pyhton|         2021-01-14|     true|2021-02-18 16:57:25|\n",
            "|      7|         Trudey|       Choupin|tchoupin@sraj.com|        2|Data Engineering ...|         2021-02-10|     true|2021-03-05 12:07:33|\n",
            "|      7|         Trudey|       Choupin|tchoupin@sraj.com|        3|   Mastering Pyspark|         2021-01-07|     true|2021-04-06 10:05:36|\n",
            "|      7|         Trudey|       Choupin|tchoupin@sraj.com|        4|      AWS Essentials|         2021-03-19|    false|2021-04-10 02:25:36|\n",
            "|      7|         Trudey|       Choupin|tchoupin@sraj.com|        5|          Docker 101|         2021-02-28|     true|2021-03-21 07:18:52|\n",
            "+-------+---------------+--------------+-----------------+---------+--------------------+-------------------+---------+-------------------+\n",
            "\n"
          ]
        }
      ]
    },
    {
      "cell_type": "code",
      "source": [
        "f'{users_df.join(courses_df).distinct().count()} = {users_df.count()} * {courses_df.count()}'"
      ],
      "metadata": {
        "colab": {
          "base_uri": "https://localhost:8080/"
        },
        "id": "2pp7v6s3y1z-",
        "outputId": "03530faa-bc80-4048-bceb-2fb2abf68f97"
      },
      "execution_count": null,
      "outputs": [
        {
          "output_type": "execute_result",
          "data": {
            "text/plain": [
              "'50 = 10 * 5'"
            ],
            "application/vnd.google.colaboratory.intrinsic+json": {
              "type": "string"
            }
          },
          "metadata": {},
          "execution_count": 265
        }
      ]
    },
    {
      "cell_type": "markdown",
      "source": [
        "#### Reading data from Spark dataframes into files"
      ],
      "metadata": {
        "id": "rrB9q6zM0C2P"
      }
    },
    {
      "cell_type": "markdown",
      "source": [
        "##### Convert JSON data to parquet "
      ],
      "metadata": {
        "id": "ygMOf1xLteA8"
      }
    },
    {
      "cell_type": "code",
      "source": [
        "input_json_files = '/content/drive/MyDrive/retail_db-master/json_files/'\n",
        "output_parquet_files = '/content/drive/MyDrive/retail_db-master/parquet_files/'"
      ],
      "metadata": {
        "id": "unKPTDx9tjx3"
      },
      "execution_count": null,
      "outputs": []
    },
    {
      "cell_type": "code",
      "source": [
        "! ls /content/drive/MyDrive/retail_db-master/json_files"
      ],
      "metadata": {
        "id": "u9GqXLlt2zwM",
        "colab": {
          "base_uri": "https://localhost:8080/"
        },
        "outputId": "82b230e4-9072-457a-a108-62fb3d159d0e"
      },
      "execution_count": null,
      "outputs": [
        {
          "output_type": "stream",
          "name": "stdout",
          "text": [
            "categories\t\t customers\t\torder_items\n",
            "create_db.sql\t\t departments\t\torders\n",
            "create_db_tables_pg.sql  load_db_tables_pg.sql\tproducts\n"
          ]
        }
      ]
    },
    {
      "cell_type": "code",
      "source": [
        "for folder in os.listdir(input_json_files):\n",
        "  if '.sql' not in folder:\n",
        "    path = input_json_files + f'{folder}'\n",
        "    df = spark.read.option(\"multiline\",\"true\").json(path)\n",
        "    print(f'Converting data in {path} from json to parquet')\n",
        "    df.coalesce(1).write.parquet(output_parquet_files + f'{folder}/', mode='overwrite')"
      ],
      "metadata": {
        "id": "YvOlf40ctjut",
        "colab": {
          "base_uri": "https://localhost:8080/"
        },
        "outputId": "d0947fd2-67c9-49df-eaec-553cdb643fb9"
      },
      "execution_count": null,
      "outputs": [
        {
          "output_type": "stream",
          "name": "stdout",
          "text": [
            "Converting data in /content/drive/MyDrive/retail_db-master/json_files/orders from json to parquet\n",
            "Converting data in /content/drive/MyDrive/retail_db-master/json_files/products from json to parquet\n",
            "Converting data in /content/drive/MyDrive/retail_db-master/json_files/order_items from json to parquet\n",
            "Converting data in /content/drive/MyDrive/retail_db-master/json_files/departments from json to parquet\n",
            "Converting data in /content/drive/MyDrive/retail_db-master/json_files/customers from json to parquet\n",
            "Converting data in /content/drive/MyDrive/retail_db-master/json_files/categories from json to parquet\n"
          ]
        }
      ]
    },
    {
      "cell_type": "code",
      "source": [
        "df_parquet = spark.read.parquet('/content/drive/MyDrive/retail_db-master/parquet_files/orders')"
      ],
      "metadata": {
        "id": "jX12eoZBtjok"
      },
      "execution_count": null,
      "outputs": []
    },
    {
      "cell_type": "code",
      "source": [
        "df_parquet.printSchema()"
      ],
      "metadata": {
        "id": "2aD5HSFE2a1A",
        "colab": {
          "base_uri": "https://localhost:8080/"
        },
        "outputId": "f24efeee-33c4-4522-8df3-7b67a3503108"
      },
      "execution_count": null,
      "outputs": [
        {
          "output_type": "stream",
          "name": "stdout",
          "text": [
            "root\n",
            " |-- order_customer_id: long (nullable = true)\n",
            " |-- order_date: string (nullable = true)\n",
            " |-- order_id: long (nullable = true)\n",
            " |-- order_status: string (nullable = true)\n",
            "\n"
          ]
        }
      ]
    },
    {
      "cell_type": "code",
      "source": [
        "df_parquet.show(3, truncate=False)"
      ],
      "metadata": {
        "colab": {
          "base_uri": "https://localhost:8080/"
        },
        "id": "13YrCtkmOb5J",
        "outputId": "de7f5adc-8919-4c02-882a-dc03d53f5223"
      },
      "execution_count": null,
      "outputs": [
        {
          "output_type": "stream",
          "name": "stdout",
          "text": [
            "+-----------------+---------------------+--------+---------------+\n",
            "|order_customer_id|order_date           |order_id|order_status   |\n",
            "+-----------------+---------------------+--------+---------------+\n",
            "|1                |2013-07-25 00:00:00.0|11599   |CLOSED         |\n",
            "|2                |2013-07-25 00:00:00.0|256     |PENDING_PAYMENT|\n",
            "|3                |2013-07-25 00:00:00.0|12111   |COMPLETE       |\n",
            "+-----------------+---------------------+--------+---------------+\n",
            "only showing top 3 rows\n",
            "\n"
          ]
        }
      ]
    },
    {
      "cell_type": "markdown",
      "source": [
        "##### Convert csv data to pipe separated files "
      ],
      "metadata": {
        "id": "vWVrBo2hL8ES"
      }
    },
    {
      "cell_type": "code",
      "source": [
        "input_csv_files = '/content/drive/MyDrive/retail_db-master/csv_files/'\n",
        "output_pipe_files = '/content/drive/MyDrive/retail_db-master/pipe_files/'"
      ],
      "metadata": {
        "id": "mEPa4fZFL7hJ"
      },
      "execution_count": null,
      "outputs": []
    },
    {
      "cell_type": "code",
      "source": [
        "for folder in os.listdir(input_csv_files):\n",
        "  if '.sql' not in folder:\n",
        "    path = input_csv_files + f'{folder}'\n",
        "    df = spark.read.csv(path)\n",
        "    print(f'Converting data in {path} from csv to pipe separated file')\n",
        "    # coalesce() will return only 1 file in the target folder\n",
        "    df.coalesce(1).write.mode(\"overwrite\").csv(output_pipe_files + f'{folder}/', sep='|')"
      ],
      "metadata": {
        "colab": {
          "base_uri": "https://localhost:8080/"
        },
        "id": "Iv6FJQdKLOXz",
        "outputId": "80620755-4b44-41cc-fd35-3edd74f48811"
      },
      "execution_count": null,
      "outputs": [
        {
          "output_type": "stream",
          "name": "stdout",
          "text": [
            "Converting data in /content/drive/MyDrive/retail_db-master/csv_files/orders from csv to pipe separated file\n",
            "Converting data in /content/drive/MyDrive/retail_db-master/csv_files/categories from csv to pipe separated file\n",
            "Converting data in /content/drive/MyDrive/retail_db-master/csv_files/customers from csv to pipe separated file\n",
            "Converting data in /content/drive/MyDrive/retail_db-master/csv_files/products from csv to pipe separated file\n",
            "Converting data in /content/drive/MyDrive/retail_db-master/csv_files/order_items from csv to pipe separated file\n",
            "Converting data in /content/drive/MyDrive/retail_db-master/csv_files/departments from csv to pipe separated file\n"
          ]
        }
      ]
    },
    {
      "cell_type": "code",
      "source": [
        "df_pipe = spark.read.csv('/content/drive/MyDrive/retail_db-master/pipe_files/orders',sep='|', inferSchema=True).toDF('order_id',\n",
        "                                                                                                                     'order_date',\n",
        "                                                                                                                     'order_customer_id',\n",
        "                                                                                                                     'order_status')"
      ],
      "metadata": {
        "id": "8bPPC5EFOh3R"
      },
      "execution_count": null,
      "outputs": []
    },
    {
      "cell_type": "code",
      "source": [
        "# other way to pass options \n",
        "spark.read. \\\n",
        "          options(sep='|', inferSchema=True). \\\n",
        "          csv('/content/drive/MyDrive/retail_db-master/pipe_files/orders'). \\\n",
        "          toDF('order_id','order_date','order_customer_id','order_status').show(3)"
      ],
      "metadata": {
        "colab": {
          "base_uri": "https://localhost:8080/"
        },
        "id": "bh7ppgysdgno",
        "outputId": "6b6ddc14-285b-4bbb-a350-81fdc0adf082"
      },
      "execution_count": null,
      "outputs": [
        {
          "output_type": "stream",
          "name": "stdout",
          "text": [
            "+--------+--------------------+-----------------+---------------+\n",
            "|order_id|          order_date|order_customer_id|   order_status|\n",
            "+--------+--------------------+-----------------+---------------+\n",
            "|       1|2013-07-25 00:00:...|            11599|         CLOSED|\n",
            "|       2|2013-07-25 00:00:...|              256|PENDING_PAYMENT|\n",
            "|       3|2013-07-25 00:00:...|            12111|       COMPLETE|\n",
            "+--------+--------------------+-----------------+---------------+\n",
            "only showing top 3 rows\n",
            "\n"
          ]
        }
      ]
    },
    {
      "cell_type": "code",
      "source": [
        "df_pipe.printSchema()"
      ],
      "metadata": {
        "colab": {
          "base_uri": "https://localhost:8080/"
        },
        "id": "HK-YpYtFOh0j",
        "outputId": "871ff265-df4a-4a81-8f86-210c13b53cc0"
      },
      "execution_count": null,
      "outputs": [
        {
          "output_type": "stream",
          "name": "stdout",
          "text": [
            "root\n",
            " |-- order_id: integer (nullable = true)\n",
            " |-- order_date: string (nullable = true)\n",
            " |-- order_customer_id: integer (nullable = true)\n",
            " |-- order_status: string (nullable = true)\n",
            "\n"
          ]
        }
      ]
    },
    {
      "cell_type": "code",
      "source": [
        "df_pipe.show(3, truncate=False)"
      ],
      "metadata": {
        "colab": {
          "base_uri": "https://localhost:8080/"
        },
        "id": "0Q1ZveHtOhx6",
        "outputId": "cb44386a-14dd-4903-9c2e-0292596cb70c"
      },
      "execution_count": null,
      "outputs": [
        {
          "output_type": "stream",
          "name": "stdout",
          "text": [
            "+--------+---------------------+-----------------+---------------+\n",
            "|order_id|order_date           |order_customer_id|order_status   |\n",
            "+--------+---------------------+-----------------+---------------+\n",
            "|1       |2013-07-25 00:00:00.0|11599            |CLOSED         |\n",
            "|2       |2013-07-25 00:00:00.0|256              |PENDING_PAYMENT|\n",
            "|3       |2013-07-25 00:00:00.0|12111            |COMPLETE       |\n",
            "+--------+---------------------+-----------------+---------------+\n",
            "only showing top 3 rows\n",
            "\n"
          ]
        }
      ]
    },
    {
      "cell_type": "markdown",
      "source": [
        "#### Partitioning Spark dataframes"
      ],
      "metadata": {
        "id": "UjqYAXAaPpIr"
      }
    },
    {
      "cell_type": "code",
      "source": [
        "df_pipe_2 = df_pipe.alias('copy')\n",
        "\n",
        "df_pipe_2 = df_pipe_2.withColumn('year', year('order_date')). \\\n",
        "                      withColumn('month', month('order_date'))"
      ],
      "metadata": {
        "id": "EPUkKyKbAAW_"
      },
      "execution_count": null,
      "outputs": []
    },
    {
      "cell_type": "code",
      "source": [
        "# This way the dataframe is partitioned by multiple columns\n",
        "df_pipe_2.coalesce(1). \\\n",
        "          write. \\\n",
        "          mode('overwrite'). \\\n",
        "          partitionBy('year','month'). \\\n",
        "          parquet('/content/drive/MyDrive/retail_db-master/partitioned_files/')"
      ],
      "metadata": {
        "id": "OupcBDkK2g9q"
      },
      "execution_count": null,
      "outputs": []
    },
    {
      "cell_type": "code",
      "source": [
        "! ls /content/drive/MyDrive/retail_db-master/partitioned_files/"
      ],
      "metadata": {
        "id": "UCLyG-e_PoTp",
        "colab": {
          "base_uri": "https://localhost:8080/"
        },
        "outputId": "95df5442-6d88-49cc-be25-a69b03b01f15"
      },
      "execution_count": null,
      "outputs": [
        {
          "output_type": "stream",
          "name": "stdout",
          "text": [
            " _SUCCESS  'year=2013'\t'year=2014'\n"
          ]
        }
      ]
    },
    {
      "cell_type": "code",
      "source": [
        "! ls /content/drive/MyDrive/retail_db-master/partitioned_files/year=2013"
      ],
      "metadata": {
        "id": "9m2vBUG_PoOk",
        "colab": {
          "base_uri": "https://localhost:8080/"
        },
        "outputId": "9db6a238-a0b2-4c02-b344-46991069e6b0"
      },
      "execution_count": null,
      "outputs": [
        {
          "output_type": "stream",
          "name": "stdout",
          "text": [
            "'month=10'  'month=11'\t'month=12'  'month=7'  'month=8'  'month=9'\n"
          ]
        }
      ]
    },
    {
      "cell_type": "code",
      "source": [
        "# other way to partiton by month could be the next one. This way is partitioned by one column\n",
        "df_pipe_2.drop('year','month'). \\\n",
        "          withColumn('order_date', date_format('order_date', 'yyyyMM')). \\\n",
        "          coalesce(1). \\\n",
        "          write. \\\n",
        "          partitionBy('order_date'). \\\n",
        "          parquet('/content/drive/MyDrive/retail_db-master/partitioned_files/')"
      ],
      "metadata": {
        "id": "41pXSshaOhvG"
      },
      "execution_count": null,
      "outputs": []
    },
    {
      "cell_type": "code",
      "source": [
        "# check if partitioned dataframe is read from directory ok\n",
        "df_pipe_2.count() == spark.read.parquet('/content/drive/MyDrive/retail_db-master/partitioned_files/').count()"
      ],
      "metadata": {
        "colab": {
          "base_uri": "https://localhost:8080/"
        },
        "id": "rE1YssbCF00U",
        "outputId": "c438f0d8-b694-4b42-926f-bc2842a19875"
      },
      "execution_count": null,
      "outputs": [
        {
          "output_type": "execute_result",
          "data": {
            "text/plain": [
              "True"
            ]
          },
          "metadata": {},
          "execution_count": 20
        }
      ]
    },
    {
      "cell_type": "markdown",
      "source": [
        "#### Spark SQL functions"
      ],
      "metadata": {
        "id": "C3a3pJbpHj3E"
      }
    },
    {
      "cell_type": "markdown",
      "source": [
        "##### User defined functions"
      ],
      "metadata": {
        "id": "VeOI9-SwHo3d"
      }
    },
    {
      "cell_type": "code",
      "source": [
        "dc = spark.udf.register('date_convert', lambda x: int(x[:10].replace('-','')))"
      ],
      "metadata": {
        "id": "FAhAqUArTE04"
      },
      "execution_count": null,
      "outputs": []
    },
    {
      "cell_type": "code",
      "source": [
        "df_pipe.withColumn('date_converted', dc('order_date')).show(5)"
      ],
      "metadata": {
        "id": "iDsnk6D0HuYt",
        "colab": {
          "base_uri": "https://localhost:8080/"
        },
        "outputId": "3fee96fb-828c-4dd4-9ebb-90b8b86e3ba6"
      },
      "execution_count": null,
      "outputs": [
        {
          "output_type": "stream",
          "name": "stdout",
          "text": [
            "+--------+--------------------+-----------------+---------------+--------------+\n",
            "|order_id|          order_date|order_customer_id|   order_status|date_converted|\n",
            "+--------+--------------------+-----------------+---------------+--------------+\n",
            "|       1|2013-07-25 00:00:...|            11599|         CLOSED|      20130725|\n",
            "|       2|2013-07-25 00:00:...|              256|PENDING_PAYMENT|      20130725|\n",
            "|       3|2013-07-25 00:00:...|            12111|       COMPLETE|      20130725|\n",
            "|       4|2013-07-25 00:00:...|             8827|         CLOSED|      20130725|\n",
            "|       5|2013-07-25 00:00:...|            11318|       COMPLETE|      20130725|\n",
            "+--------+--------------------+-----------------+---------------+--------------+\n",
            "only showing top 5 rows\n",
            "\n"
          ]
        }
      ]
    },
    {
      "cell_type": "code",
      "source": [
        "df_pipe.where(dc('order_date') != 20130725).show(5)"
      ],
      "metadata": {
        "id": "lPCBJfD4L9dO",
        "colab": {
          "base_uri": "https://localhost:8080/"
        },
        "outputId": "4e1a1bb0-cbeb-40bf-ec13-f6bb50ba93a7"
      },
      "execution_count": null,
      "outputs": [
        {
          "output_type": "stream",
          "name": "stdout",
          "text": [
            "+--------+--------------------+-----------------+---------------+\n",
            "|order_id|          order_date|order_customer_id|   order_status|\n",
            "+--------+--------------------+-----------------+---------------+\n",
            "|     105|2013-07-26 00:00:...|             8220|       COMPLETE|\n",
            "|     106|2013-07-26 00:00:...|              395|     PROCESSING|\n",
            "|     107|2013-07-26 00:00:...|             1845|       COMPLETE|\n",
            "|     108|2013-07-26 00:00:...|            12149|     PROCESSING|\n",
            "|     109|2013-07-26 00:00:...|             9345|PENDING_PAYMENT|\n",
            "+--------+--------------------+-----------------+---------------+\n",
            "only showing top 5 rows\n",
            "\n"
          ]
        }
      ]
    },
    {
      "cell_type": "code",
      "source": [
        "df_pipe.groupBy(dc('order_date').alias('order_date')). \\\n",
        "        count(). \\\n",
        "        withColumnRenamed('count','order_count'). \\\n",
        "        orderBy(col('order_date').asc()). \\\n",
        "        show(10)"
      ],
      "metadata": {
        "id": "mLj1r5dQL9T2",
        "colab": {
          "base_uri": "https://localhost:8080/"
        },
        "outputId": "1b3426f5-e2c1-48e3-892f-1c8759e0d29c"
      },
      "execution_count": null,
      "outputs": [
        {
          "output_type": "stream",
          "name": "stdout",
          "text": [
            "+----------+-----------+\n",
            "|order_date|order_count|\n",
            "+----------+-----------+\n",
            "|  20130725|        143|\n",
            "|  20130726|        269|\n",
            "|  20130727|        202|\n",
            "|  20130728|        187|\n",
            "|  20130729|        253|\n",
            "|  20130730|        227|\n",
            "|  20130731|        252|\n",
            "|  20130801|        246|\n",
            "|  20130802|        224|\n",
            "|  20130803|        183|\n",
            "+----------+-----------+\n",
            "only showing top 10 rows\n",
            "\n"
          ]
        }
      ]
    },
    {
      "cell_type": "markdown",
      "source": [
        "##### Using Spark UDFs as part of Spark SQL"
      ],
      "metadata": {
        "id": "9P15H3fhVrYe"
      }
    },
    {
      "cell_type": "code",
      "source": [
        "df_pipe.selectExpr('date_convert(order_date) AS order_date').show(5)"
      ],
      "metadata": {
        "id": "9-Q2dLN4HuWA",
        "colab": {
          "base_uri": "https://localhost:8080/"
        },
        "outputId": "b7a53afc-7125-4b04-b88b-a763ef8003b6"
      },
      "execution_count": null,
      "outputs": [
        {
          "output_type": "stream",
          "name": "stdout",
          "text": [
            "+----------+\n",
            "|order_date|\n",
            "+----------+\n",
            "|  20130725|\n",
            "|  20130725|\n",
            "|  20130725|\n",
            "|  20130725|\n",
            "|  20130725|\n",
            "+----------+\n",
            "only showing top 5 rows\n",
            "\n"
          ]
        }
      ]
    },
    {
      "cell_type": "code",
      "source": [
        "df_pipe.createOrReplaceTempView('orders')"
      ],
      "metadata": {
        "id": "uc1ASPeCHoBB"
      },
      "execution_count": null,
      "outputs": []
    },
    {
      "cell_type": "code",
      "source": [
        "spark.sql('''\n",
        "          SELECT *,\n",
        "                date_convert(order_date) converted_date\n",
        "          FROM orders\n",
        "          WHERE date_convert(order_date) != 20130725;\n",
        "          ''').show(5, truncate=False)"
      ],
      "metadata": {
        "colab": {
          "base_uri": "https://localhost:8080/"
        },
        "id": "YUHkO6TCXiP_",
        "outputId": "56021b89-55af-4a59-9198-a3d9761cbd76"
      },
      "execution_count": null,
      "outputs": [
        {
          "output_type": "stream",
          "name": "stdout",
          "text": [
            "+--------+---------------------+-----------------+---------------+--------------+\n",
            "|order_id|order_date           |order_customer_id|order_status   |converted_date|\n",
            "+--------+---------------------+-----------------+---------------+--------------+\n",
            "|105     |2013-07-26 00:00:00.0|8220             |COMPLETE       |20130726      |\n",
            "|106     |2013-07-26 00:00:00.0|395              |PROCESSING     |20130726      |\n",
            "|107     |2013-07-26 00:00:00.0|1845             |COMPLETE       |20130726      |\n",
            "|108     |2013-07-26 00:00:00.0|12149            |PROCESSING     |20130726      |\n",
            "|109     |2013-07-26 00:00:00.0|9345             |PENDING_PAYMENT|20130726      |\n",
            "+--------+---------------------+-----------------+---------------+--------------+\n",
            "only showing top 5 rows\n",
            "\n"
          ]
        }
      ]
    },
    {
      "cell_type": "code",
      "source": [
        "spark.sql('''\n",
        "          SELECT date_convert(order_date) converted_date, COUNT(*) order_counts\n",
        "          FROM orders\n",
        "          GROUP BY 1\n",
        "          HAVING (converted_date > 20131231) AND (order_counts > 280)\n",
        "          ORDER BY 2 DESC;\n",
        "          ''').show(10, truncate=False)"
      ],
      "metadata": {
        "colab": {
          "base_uri": "https://localhost:8080/"
        },
        "id": "K7lbQx6MXuc1",
        "outputId": "eb52c8ae-40c6-4831-a2c4-43e42df7dca0"
      },
      "execution_count": null,
      "outputs": [
        {
          "output_type": "stream",
          "name": "stdout",
          "text": [
            "+--------------+------------+\n",
            "|converted_date|order_counts|\n",
            "+--------------+------------+\n",
            "|20140720      |285         |\n",
            "|20140111      |281         |\n",
            "+--------------+------------+\n",
            "\n"
          ]
        }
      ]
    },
    {
      "cell_type": "markdown",
      "source": [
        "##### Cleansing data using Spark UDFs"
      ],
      "metadata": {
        "id": "WQtpPx-rZMim"
      }
    },
    {
      "cell_type": "code",
      "source": [
        "courses_data = {'course_id':['1','2','3','4','5'],\n",
        "                'course_name':['Mastering SQL','Streaming pipelines','Head First Pyhton',\n",
        "                               'Designing Data Intensive Applications','Distributed Systems'],\n",
        "                'course_status':['    published    ','   inactive ',' \\\\N  ', '   published','\\\\N']}"
      ],
      "metadata": {
        "id": "v04yuE8uYanZ"
      },
      "execution_count": null,
      "outputs": []
    },
    {
      "cell_type": "code",
      "source": [
        "courses_df_ = spark.createDataFrame(pd.DataFrame(courses_data))"
      ],
      "metadata": {
        "id": "-2V7t1WTaLfY"
      },
      "execution_count": null,
      "outputs": []
    },
    {
      "cell_type": "code",
      "source": [
        "courses_df_.show()"
      ],
      "metadata": {
        "colab": {
          "base_uri": "https://localhost:8080/"
        },
        "id": "tWYRrCbvaLU2",
        "outputId": "6633cc02-795b-411f-b782-977ce8f77fec"
      },
      "execution_count": null,
      "outputs": [
        {
          "output_type": "stream",
          "name": "stdout",
          "text": [
            "+---------+--------------------+-----------------+\n",
            "|course_id|         course_name|    course_status|\n",
            "+---------+--------------------+-----------------+\n",
            "|        1|       Mastering SQL|    published    |\n",
            "|        2| Streaming pipelines|        inactive |\n",
            "|        3|   Head First Pyhton|             \\N  |\n",
            "|        4|Designing Data In...|        published|\n",
            "|        5| Distributed Systems|               \\N|\n",
            "+---------+--------------------+-----------------+\n",
            "\n"
          ]
        }
      ]
    },
    {
      "cell_type": "code",
      "source": [
        "clean_course = spark.udf.register('cleaned_course', lambda x: x.strip() if x.strip() != '\\\\N' else None)"
      ],
      "metadata": {
        "id": "EuTc2_tHZTB2"
      },
      "execution_count": null,
      "outputs": []
    },
    {
      "cell_type": "code",
      "source": [
        "courses_df_.select('*', clean_course('course_status').alias('cleaned_course_status')).show(5)"
      ],
      "metadata": {
        "colab": {
          "base_uri": "https://localhost:8080/"
        },
        "id": "RFwSal3_ZS_N",
        "outputId": "20e5c49a-5a6d-4d93-e1a2-59d8c547bb55"
      },
      "execution_count": null,
      "outputs": [
        {
          "output_type": "stream",
          "name": "stdout",
          "text": [
            "+---------+--------------------+-----------------+---------------------+\n",
            "|course_id|         course_name|    course_status|cleaned_course_status|\n",
            "+---------+--------------------+-----------------+---------------------+\n",
            "|        1|       Mastering SQL|    published    |            published|\n",
            "|        2| Streaming pipelines|        inactive |             inactive|\n",
            "|        3|   Head First Pyhton|             \\N  |                 null|\n",
            "|        4|Designing Data In...|        published|            published|\n",
            "|        5| Distributed Systems|               \\N|                 null|\n",
            "+---------+--------------------+-----------------+---------------------+\n",
            "\n"
          ]
        }
      ]
    },
    {
      "cell_type": "code",
      "source": [
        "courses_df_.createOrReplaceTempView('course_temp_view')"
      ],
      "metadata": {
        "id": "dV0tn8JwZS8v"
      },
      "execution_count": null,
      "outputs": []
    },
    {
      "cell_type": "code",
      "source": [
        "spark.sql('''\n",
        "          SELECT *, cleaned_course(course_status) as cleaned_course\n",
        "          FROM course_temp_view\n",
        "          ''').show()"
      ],
      "metadata": {
        "colab": {
          "base_uri": "https://localhost:8080/"
        },
        "id": "btgWb0yIOywb",
        "outputId": "f164a10e-7101-4c1a-e998-30d2e8aae702"
      },
      "execution_count": null,
      "outputs": [
        {
          "output_type": "stream",
          "name": "stdout",
          "text": [
            "+---------+--------------------+-----------------+--------------+\n",
            "|course_id|         course_name|    course_status|cleaned_course|\n",
            "+---------+--------------------+-----------------+--------------+\n",
            "|        1|       Mastering SQL|    published    |     published|\n",
            "|        2| Streaming pipelines|        inactive |      inactive|\n",
            "|        3|   Head First Pyhton|             \\N  |          null|\n",
            "|        4|Designing Data In...|        published|     published|\n",
            "|        5| Distributed Systems|               \\N|          null|\n",
            "+---------+--------------------+-----------------+--------------+\n",
            "\n"
          ]
        }
      ]
    },
    {
      "cell_type": "code",
      "source": [
        "spark.sql('''\n",
        "          SELECT *, coalesce(cleaned_course(course_status), \"not cleaned\") as cleaned_course\n",
        "          FROM course_temp_view\n",
        "          ''').show()"
      ],
      "metadata": {
        "colab": {
          "base_uri": "https://localhost:8080/"
        },
        "id": "V7YylkVyNRQ_",
        "outputId": "2240e1a0-ff2f-4915-f558-fe33a8a0d968"
      },
      "execution_count": null,
      "outputs": [
        {
          "output_type": "stream",
          "name": "stdout",
          "text": [
            "+---------+--------------------+-----------------+--------------+\n",
            "|course_id|         course_name|    course_status|cleaned_course|\n",
            "+---------+--------------------+-----------------+--------------+\n",
            "|        1|       Mastering SQL|    published    |     published|\n",
            "|        2| Streaming pipelines|        inactive |      inactive|\n",
            "|        3|   Head First Pyhton|             \\N  |   not cleaned|\n",
            "|        4|Designing Data In...|        published|     published|\n",
            "|        5| Distributed Systems|               \\N|   not cleaned|\n",
            "+---------+--------------------+-----------------+--------------+\n",
            "\n"
          ]
        }
      ]
    }
  ]
}